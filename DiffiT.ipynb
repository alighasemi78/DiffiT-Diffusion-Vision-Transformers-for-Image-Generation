{
  "cells": [
    {
      "cell_type": "markdown",
      "metadata": {
        "id": "TS17Lm_rkdqU"
      },
      "source": [
        "# DiffiT: Diffusion Vision Transformers for Image Generation"
      ]
    },
    {
      "cell_type": "markdown",
      "metadata": {
        "id": "FBlCPm8HkgHy"
      },
      "source": [
        "DiffiT introduces a novel approach to generative learning by combining Vision Transformers (ViTs) with diffusion-based models. Leveraging the Time-dependent Multihead Self Attention (TMSA) mechanism, DiffiT achieves impressive results in high-fidelity image generation. It outperforms other Transformer-based diffusion models while maintaining parameter efficiency. Further exploration of DiffiT's methodology promises exciting advancements in generative AI. They proposed latent and image space DiffiT models"
      ]
    },
    {
      "cell_type": "markdown",
      "metadata": {
        "id": "sT6WQa84yVp5"
      },
      "source": [
        "## What is a diffusion model? [3]"
      ]
    },
    {
      "cell_type": "markdown",
      "metadata": {
        "id": "Bs-CNRKtydZx"
      },
      "source": [
        "A (denoising) diffusion model isn't that complex if you compare it to other generative models such as Normalizing Flows, GANs or VAEs: they all convert noise from some simple distribution to a data sample. This is also the case here where a neural network learns to gradually denoise data starting from pure noise.\n",
        "\n",
        "In a bit more detail for images, the set-up consists of 2 processes:\n",
        "\n",
        "* a fixed (or predefined) forward diffusion process $q$ of our choosing, that gradually adds Gaussian noise to an image, until you end up with pure noise\n",
        "* a learned reverse denoising diffusion process $p_\\theta$, where a neural network is trained to gradually denoise an image starting from pure noise, until you end up with an actual image.\n",
        "\n",
        "<img src=\"https://raw.githubusercontent.com/alighasemi78/DiffiT-Diffusion-Vision-Transformers-for-Image-Generation/a54262db80e6c49c1a39a1b4596aa981763a31b2/images/diff_model.png\" alt=\"diffusion architecture\" height=\"200\"/>\n",
        "\n",
        "Both the forward and reverse process indexed by $t$ happen for some number of finite time steps $T$ (the DDPM authors use $T = 1000$). You start with $t = 0$ where you sample a real image $x_0$ from your data distribution, and the forward process samples some noise from a Gaussian distribution at each time step $t$, which is added to the image of the previous time step. Given a sufficiently large $T$ and a well behaved schedule for adding noise at each time step, you end up with what is called an isotropic Gaussian distribution at $t = T$ via a gradual process."
      ]
    },
    {
      "cell_type": "markdown",
      "metadata": {
        "id": "uSJ6532d8x-E"
      },
      "source": [
        "Let $q(x_0)$ be the real data distribution, say of \"real images\". We can sample from this distribution to get an image, $x_0 \\sim q(x_0)$. We define the forward diffusion process $q(x_t | x_{t - 1})$ which adds Gaussian noise at each time step $t$, according to a known variance schedule $0 < \\beta_1 < \\beta_2 < \\cdots < \\beta_T < 1$ as\n",
        "\n",
        "$$q(x_t | x_{t - 1}) = N(x_t; \\sqrt{1 - \\beta_t}x_{t - 1}, \\beta_tI)$$\n",
        "\n",
        "Recall that a normal distribution (also called Gaussian distribution) is defined by 2 parameters: a mean $\\mu$ and a variance $\\sigma^2 \\ge 0$. Basically, each new (slightly noisier) image at time step $t$ is drawn from a conditional Gaussian distribution with $\\mu_t = \\sqrt(1 - \\beta_t)x_{t - 1}$\n",
        "and $\\sigma_t^2 = \\beta_t$, which we can do by sampling $\\epsilon \\sim N(0,I)$ and then setting $x_t = \\sqrt{1 - β_t}x_{t - 1} + \\beta_t\\epsilon$.\n",
        "\n",
        "Note that the $\\beta_t$ aren't constant at each time step $t$ (hence the subscript) --- in fact one defines a so-called \"variance schedule\", which can be linear, quadratic, cosine, etc.\n",
        "\n",
        "So starting from $x_0$, we end up with $x_1, \\cdots, x_t, \\cdots, x_T$, where $x_T$ is pure Gaussian noise if we set the schedule appropriately.\n",
        "\n",
        "Now, if we knew the conditional distribution $p(x_{t - 1} | x_t)$, then we could run the process in reverse: by sampling some random Gaussian noise $x_T$, and then gradually \"denoise\" it so that we end up with a sample from the real distribution $x_0$.\n",
        "\n",
        "However, we don't know $p(x_{t - 1} | x_t)$. It's intractable since it requires knowing the distribution of all possible images in order to calculate this conditional probability. Hence, we're going to leverage a neural network to approximate (learn) this conditional probability distribution, let's call it $p_\\theta(x_{t - 1} | x_t)$, with $\\theta$ being the parameters of the neural network, updated by gradient descent.\n",
        "\n",
        "Ok, so we need a neural network to represent a (conditional) probability distribution of the backward process. If we assume this reverse process is Gaussian as well, then recall that any Gaussian distribution is defined by 2 parameters:\n",
        "\n",
        "* a mean parametrized by $\\mu_\\theta$;\n",
        "* a variance parametrized by $\\Sigma_\\theta$;\n",
        "\n",
        "so we can parametrize the process as\n",
        "\n",
        "$$p_\\theta(x_{t - 1} | x_t) = N(x_{t - 1}; \\mu_\\theta(x_t, t), \\Sigma_\\theta(x_t, t))$$\n",
        "\n",
        "where the mean and variance are also conditioned on the noise level $t$.\n",
        "\n",
        "Hence, our neural network needs to learn/represent the mean and variance. However, the DDPM authors decided to keep the variance fixed, and let the neural network only learn (represent) the mean $\\mu_\\theta$ of this conditional probability distribution."
      ]
    },
    {
      "cell_type": "markdown",
      "metadata": {
        "id": "GLGlvgHiJO0Z"
      },
      "source": [
        "To derive an objective function to learn the mean of the backward process, the authors observe that the combination of $q$ and $p_\\theta$ can be seen as a variational auto-encoder (VAE). Hence, the variational lower bound (also called ELBO) can be used to minimize the negative log-likelihood with respect to ground truth data sample $x_0$. It turns out that the ELBO for this process is a sum of losses at each time step $t$, $L = L_0 + L_1 + \\cdots + L_T$. By construction of the forward $q$ process and backward process, each term (except for $L_0$) of the loss is actually the KL divergence between 2 Gaussian distributions which can be written explicitly as an L2-loss with respect to the means!\n",
        "\n",
        "A direct consequence of the constructed forward process $q$ is that we can sample $x_t$ at any arbitrary noise level conditioned on $x_0$ (since sums of Gaussians is also Gaussian). This is very convenient: we don't need to apply $q$ repeatedly in order to sample $x_t$. We have that\n",
        "\n",
        "$$q(x_t | x_0) = N(x_t; \\sqrt{\\bar{\\alpha_t}}x_0; (1 - \\bar{\\alpha_t})I)$$\n",
        "\n",
        "with $\\alpha_t := 1 - \\beta_t$ and $\\bar{a}_t := \\prod_{s = 1}^t \\alpha_s$. Let's refer to this equation as the \"nice property\". This means we can sample Gaussian noise and scale it appropriatly and add it to $x_0$ to get $x_t$ directly. Note that the $\\bar{\\alpha_t}$ are functions of the known $\\beta_t$ variance schedule and thus are also known and can be precomputed. This then allows us, during training, to optimize random terms of the loss function $L$ (or in other words, to randomly sample $t$ during training and optimize $L_t$).\n",
        "\n",
        "Another beauty of this property is that one can instead reparametrize the mean to make the neural network learn (predict) the added noise (via a network $\\epsilon_\\theta(x_t, t)$) for noise level $t$ in the KL terms which constitute the losses. This means that our neural network becomes a noise predictor, rather than a (direct) mean predictor. The mean can be computed as follows:\n",
        "\n",
        "$$\\mu_\\theta(x_t, t) = \\dfrac{1}{\\sqrt{\\alpha_t}}(x_t - \\dfrac{\\beta_t}{\\sqrt{1 - \\bar{\\alpha_t}}}\\epsilon_\\theta(x_t, t))$$\n",
        "\n",
        "The final objective function $L_t$ then looks as follows (for a random time step $t$ given $\\epsilon \\sim N(0, I)$):\n",
        "\n",
        "$$||\\epsilon - \\epsilon_\\theta(x_t, t)||^2 = ||\\epsilon - \\epsilon_\\theta(\\sqrt{\\bar{\\alpha_t}}x_0 + \\sqrt{(1 - \\bar{\\alpha_t})}\\epsilon, t)||^2$$\n",
        "\n",
        "Here, $x_0$ is the initial (real, uncorrupted) image, and we see the direct noise level $t$ sample given by the fixed forward process. $\\epsilon$ is the pure noise sampled at time step $t$, and $\\epsilon_\\theta(x_t,t)$ is our neural network. The neural network is optimized using a simple mean squared error (MSE) between the true and the predicted Gaussian noise.\n",
        "\n",
        "The training algorithm now looks as follows:\n",
        "\n",
        "<img src=\"https://raw.githubusercontent.com/alighasemi78/DiffiT-Diffusion-Vision-Transformers-for-Image-Generation/07d705c2e34c34fcbf13f5a9dcc1c9263d055f28/images/diff_train.png\" alt=\"diffusion training\" height=\"200\" />\n",
        "\n",
        "In other words:\n",
        "\n",
        "* we take a random sample $x_0$ from the real unknown and possibily complex data distribution $q(x_0)$\n",
        "* we sample a noise level $t$ uniformally between $1$ and $T$ (i.e., a random time step)\n",
        "* we sample some noise from a Gaussian distribution and corrupt the input by this noise at level $t$ (using the nice property defined above)\n",
        "* the neural network is trained to predict this noise based on the corrupted image $x_t$ (i.e. noise applied on $x_0$ based on known schedule $\\beta_t$)\n",
        "\n",
        "In reality, all of this is done on batches of data, as one uses stochastic gradient descent to optimize neural networks."
      ]
    },
    {
      "cell_type": "markdown",
      "metadata": {
        "id": "fSzaaPRkRp76"
      },
      "source": [
        "## Installing the Required Libraries"
      ]
    },
    {
      "cell_type": "code",
      "execution_count": 1,
      "metadata": {
        "id": "hjUsGhURkaEM"
      },
      "outputs": [],
      "source": [
        "%%capture\n",
        "!pip install -q datasets pytorch_lightning torchmetrics[image]"
      ]
    },
    {
      "cell_type": "markdown",
      "metadata": {
        "id": "Y2KBY3ZvRwpf"
      },
      "source": [
        "## Importing the Required Libraries"
      ]
    },
    {
      "cell_type": "code",
      "execution_count": 2,
      "metadata": {
        "id": "bJHReii0lMIS"
      },
      "outputs": [],
      "source": [
        "from google.colab import drive\n",
        "from datasets import load_dataset\n",
        "from torchvision import transforms\n",
        "from torch.utils.data import DataLoader\n",
        "import matplotlib.pyplot as plt\n",
        "import torch\n",
        "from torch import nn\n",
        "import math\n",
        "import pytorch_lightning as pl\n",
        "import torch.nn.functional as F\n",
        "from pytorch_lightning.loggers import TensorBoardLogger\n",
        "from pytorch_lightning.callbacks import ModelCheckpoint, RichProgressBar\n",
        "from tqdm import tqdm\n",
        "import random\n",
        "from torchmetrics.image.fid import FrechetInceptionDistance"
      ]
    },
    {
      "cell_type": "markdown",
      "metadata": {
        "id": "kTxOIUNfnEDJ"
      },
      "source": [
        "## Settings"
      ]
    },
    {
      "cell_type": "code",
      "execution_count": 3,
      "metadata": {
        "colab": {
          "base_uri": "https://localhost:8080/"
        },
        "id": "BjxGMN70nHQF",
        "outputId": "964447fa-bd24-4fc2-d9ba-e4d2a2c8836e"
      },
      "outputs": [
        {
          "output_type": "stream",
          "name": "stdout",
          "text": [
            "Mounted at /content/drive\n"
          ]
        }
      ],
      "source": [
        "device = torch.device('cuda' if torch.cuda.is_available() else 'cpu')\n",
        "\n",
        "drive.mount('/content/drive')"
      ]
    },
    {
      "cell_type": "markdown",
      "metadata": {
        "id": "h44umtpsB9AX"
      },
      "source": [
        "## Hyperparameters"
      ]
    },
    {
      "cell_type": "code",
      "execution_count": 4,
      "metadata": {
        "id": "GTVIqj-JB_O6"
      },
      "outputs": [],
      "source": [
        "BATCH_SIZE = 32\n",
        "IMG_SIZE = 32\n",
        "\n",
        "N_EPOCH = 3\n",
        "\n",
        "D_MODEL = 128\n",
        "N_HEAD = 2\n",
        "DROPOUT_PROB = 0.1\n",
        "D_FF = 2 * D_MODEL\n",
        "\n",
        "T = 500"
      ]
    },
    {
      "cell_type": "markdown",
      "metadata": {
        "id": "hx_jF95llWbp"
      },
      "source": [
        "## Dataset"
      ]
    },
    {
      "cell_type": "code",
      "execution_count": 5,
      "metadata": {
        "id": "Fox9c9tslY1Y"
      },
      "outputs": [],
      "source": [
        "def get_data(name):\n",
        "    # Determine the dataset checkpoint based on the provided name.\n",
        "    # If the name is 'cifar', use the 'cifar10' dataset.\n",
        "    # Otherwise, use the 'zh-plus/tiny-imagenet' dataset.\n",
        "    checkpoint = 'cifar10' if name == 'cifar' else 'zh-plus/tiny-imagenet'\n",
        "\n",
        "    # Download the dataset using the determined checkpoint.\n",
        "    dataset = load_dataset(checkpoint)\n",
        "\n",
        "    # Extract the training set.\n",
        "    train = dataset['train']\n",
        "\n",
        "    # Extract the test set for 'cifar' or validation set for 'tiny-imagenet'.\n",
        "    test = dataset['test'] if name == 'cifar' else dataset['valid']\n",
        "\n",
        "    # Set the transformation for the images.\n",
        "    # If the dataset is 'cifar', simply convert images to tensor.\n",
        "    # Otherwise, resize the images to 32x32 and then convert to tensor.\n",
        "    if name == 'cifar':\n",
        "        transform = transforms.ToTensor()\n",
        "    else:\n",
        "        transform = transforms.Compose([\n",
        "            transforms.Resize((32, 32)),\n",
        "            transforms.ToTensor(),\n",
        "        ])\n",
        "\n",
        "    # Initialize lists to hold transformed training images.\n",
        "    train_transformed = []\n",
        "\n",
        "    # Loop through each image in the training set, apply the transformation,\n",
        "    # and add the transformed image to the list.\n",
        "    for image in train:\n",
        "        # Depending on the dataset, select the appropriate key to get the image.\n",
        "        img = transform(image['img'] if name == 'cifar' else image['image'])\n",
        "\n",
        "        # Append the transformed image to the list if it has 3 channels (RGB).\n",
        "        if name == 'cifar' or img.shape[0] == 3:\n",
        "            train_transformed.append(img)\n",
        "\n",
        "    # Initialize lists to hold transformed test/validation images.\n",
        "    test_transformed = []\n",
        "\n",
        "    # Loop through each image in the test/validation set, apply the transformation,\n",
        "    # and add the transformed image to the list.\n",
        "    for image in test:\n",
        "        # Depending on the dataset, select the appropriate key to get the image.\n",
        "        img = transform(image['img'] if name == 'cifar' else image['image'])\n",
        "\n",
        "        # Append the transformed image to the list if it has 3 channels (RGB).\n",
        "        if name == 'cifar' or img.shape[0] == 3:\n",
        "            test_transformed.append(img)\n",
        "\n",
        "    # Create a DataLoader for the training set with the specified batch size,\n",
        "    # shuffling enabled, and using 2 worker threads for loading data.\n",
        "    train_loader = DataLoader(train_transformed, batch_size=BATCH_SIZE, shuffle=True, num_workers=2)\n",
        "\n",
        "    # Create a DataLoader for the test/validation set with the specified batch size,\n",
        "    # shuffling disabled, and using 2 worker threads for loading data.\n",
        "    test_loader = DataLoader(test_transformed, batch_size=BATCH_SIZE, shuffle=False, num_workers=2)\n",
        "\n",
        "    # Return the DataLoaders for the training and test/validation sets.\n",
        "    return train_loader, test_loader, train_transformed, test_transformed"
      ]
    },
    {
      "cell_type": "code",
      "execution_count": 6,
      "metadata": {
        "colab": {
          "base_uri": "https://localhost:8080/",
          "height": 0,
          "referenced_widgets": [
            "d4e2bf5c92d24914a1a3fb82f0f4a738",
            "66457e6628c043a689796d560d8f9a52",
            "1b6efbd46b7b4b56b17acd6d4e02d162",
            "a57491529ac5469ea2f050377a37cecf",
            "ddc3df3eda06487cba066efa4b10050a",
            "feef84101a35465d960fc60fd04286aa",
            "f6debf6540854f8ba0b1ef8a81fb3c4f",
            "7e91b2c328224803945ede67cb5c11ae",
            "80e904ce111d4e3cb47ac2d519ca9fc8",
            "885bf6a0f0f2400eaa101a13d6e0d8a8",
            "e8f70f0ca5ec4f33940a41ba073fad6d",
            "e018884528f44b84ba8185e17cba62bc",
            "59644a12a75a499582448d9e68042622",
            "907ee91ef345412dbc472cdae9c582af",
            "37df491cb5b641ec8f289b2534cafd31",
            "fd6dd74a80704c6985bacf1fcf635981",
            "a89c06aaac5842f2b04532238ba0ae15",
            "4d1efcc0758d48cc8104cf544ceffa99",
            "469200da6f8e4eb9bdd1627c7013e865",
            "45893b28177140c99ec3c66dfd126654",
            "38b3a232467c41fc8491b2b1e02cc9a0",
            "7f78329b6c514a95b71c853036537ee8",
            "1aac8b37e3ce417897842bb8c5d16702",
            "cb14f4e297984fa082dee2f79a4be514",
            "a282038c9dce474186748bde4a1dcaa4",
            "64cf38f0952548228ce06ae3fcccefa0",
            "6f3ad879baa24fb18a5a279821f966ff",
            "a9a0e3e618314f7f92dfe63e82cefc0c",
            "a4d953c48d644de8b8c1dc170057b10f",
            "fdfbb86dbec849438c29d531f90d1e5f",
            "8474a97160484504ac6a8ce14a08980b",
            "62bc4db8bb3a47fd8d93728373dfb73d",
            "c03e905b657044e0af17b810e1d44563",
            "17ff6047ec784c45a5e48f9a2f089e86",
            "ad7b59299d734302bb259d30711583f3",
            "b01e0673c51a4ee3b64870ba8403fb76",
            "6313d09ee1ac4aa9a43caa4094e9cf52",
            "8918258a85e54e51bbb577223551afcf",
            "36a6874ac85347859524834217ad5bee",
            "dae4f7386eea450d9b0d632ba7dba72a",
            "77170d7dd534447c936a3aca132cfbff",
            "eb288a14357e4d46bac42823c44276fd",
            "6fd14779e50d49959726916cf6e3446e",
            "4e77610a32404a06adfb7a823a62b9eb",
            "a963afb5ccdd4b75b789259a8da47fb7",
            "5e4e30266def4735802dddec3f64dfcf",
            "77850022978b4347912d09cd4d306d5c",
            "cd44b953c64045b39247d0a106ee77d1",
            "e43321e1f26d4474a5dc0b9d0b04576d",
            "68132c1264024462801de97fb55dc2d9",
            "785994e6925d46aca6c985b90a52e20b",
            "61bf8ec713e74577a59d4be6e04bab40",
            "be457a34a0b444d5bbe05c2c7af145fd",
            "f585984e8ba54e138da0719dd1c277f8",
            "bf5ec57e47e84d01ae1c7ee2b160666c",
            "2e8de6d2c9d94ec1a11d43c8afa174e6",
            "b811051f8edc4f2ea1cb9c3b3c34ac2b",
            "a1573efb7cc7424cb751cc6e48fcdc5d",
            "17a929dc19c545cc9a5c353ab01b6d1e",
            "adc7c691af6849f4b90e2ca602917ef1",
            "e5f12c26ee4348ffadf50ff2840f0530",
            "6c9e95dfbd584cd2922878842fb53137",
            "225f39299d8c4f5b83d985328336ce2b",
            "546342b33ca54338b90943b94e81da71",
            "802dfa58b8bc444b929149768a05f36f",
            "f3f4d408951a490794c6503c87084996",
            "3f687e13f5174ff9b39e9b0ac841efb8",
            "89670227e71c498da1bb286386d50b38",
            "402e866b574e496980e71fcadbb64fbd",
            "71ae0a2cd7a34782811ae870a97d3ba2",
            "491eed9153804795bc0023013b3358d9",
            "ddf9e60d7eb542fa8ca9f43d55aedc66",
            "bb08501e7c2c4506b45def58da6d21da",
            "100a36f367a54e17944c7555e643fe0b",
            "a96dec3632434ab9b0f14383deae9ed3",
            "9ad51caf063e482d9fa13a846fcee53e",
            "4c01586248b641eebe7d36562b590aa5",
            "ff7d08fedf82492d9bda7b5be8d64564",
            "985219ad41434578909b918abb768189",
            "c953aca48d0d48a685871d0b5d4b535c",
            "1f2c44c4d1b344c8b4700f1d6efa4827",
            "27a8379b86774d0b8e8ebca90e4c5fbb",
            "b262d7d0a2484b57b3ee6d4020a88e0f",
            "47bf77ebd106463e9484aed008ad7d48",
            "02f3898743644202bcef2c8a515b18c6",
            "7e0ce41acd57492f880521a33e901d8e",
            "7a31715785fe4bbe83e3812a29e3c592",
            "efe252bd48ef4a7fbd15ce34d7de7ac6",
            "d76ffe8db0174c4ba4fb032294cb6836",
            "45701423ce234fab8395dc81aca818af",
            "47b48e1571484d24949becb2bfaa47a3",
            "b2ec2f4bd4114e7e8c825b8fefab63bb",
            "f127e1cb46a84ab997f0ae33269e25f2",
            "20a7ff1302334694a0f9d750078d8053",
            "c3edddc9e37e4f338b5deb95fff7cc86",
            "387ed27809bd4f7e917fc055f7371f26",
            "65d36fd6fe6f425089699f993f2f15b8",
            "48baa4bbf4b84c4ca0a0b712a444d80f",
            "9eb11accb1d74ef581b4d049e1a67c23",
            "798eeed12aaf46949c8a5481de2ce9c8",
            "95f6bc76c7fb443eb9f0c4dc071bece6",
            "ef8dd8378e0b44ef8a03fd9030731a45",
            "cd54071f2a6747cb825b241f19cb862d",
            "14f9daff85834949a5ec3f5e9f3069ee",
            "66d19e6b47334e87aa4bb14cad784724",
            "97973544a92a43cdaa0d7c967564863c",
            "1c6b0885cbd14346a0589f6090b0a3d8",
            "482cd4f5250148beaa987e331f2bae9e",
            "e46e1a6832024abe977687a1ce6a1a87",
            "4e564f8069c443ef9dc256d6783e2c7c",
            "da6a136b67e1451593aee64828f23ae5",
            "3cb3ce5f94a34adcb1bbc93e0320eda4",
            "04f0df2a9e184a9aa74022dd2d05073d",
            "7e0a87433fef4debae79b9dbc109cf95",
            "43b493333c22405fbfa993dfaa30bbdf",
            "8d84e4e53f3841d58583761f1d879cd0",
            "51c0f8a548d141f397ee30b19615caaf",
            "14ba63ef4ea54300a7cbb60df79fd413",
            "3d30333acaa441e192242ff768c1944e",
            "641e9d71af654302b6dd063321e93dbe",
            "51f3047dfa15490eb08d643629b860be"
          ]
        },
        "id": "BQBxbQ4lltUw",
        "outputId": "fbe97d40-f7c2-4a62-f392-2f2279ae5655"
      },
      "outputs": [
        {
          "output_type": "stream",
          "name": "stderr",
          "text": [
            "/usr/local/lib/python3.10/dist-packages/huggingface_hub/utils/_token.py:89: UserWarning: \n",
            "The secret `HF_TOKEN` does not exist in your Colab secrets.\n",
            "To authenticate with the Hugging Face Hub, create a token in your settings tab (https://huggingface.co/settings/tokens), set it as secret in your Google Colab and restart your session.\n",
            "You will be able to reuse this secret in all of your notebooks.\n",
            "Please note that authentication is recommended but still optional to access public models or datasets.\n",
            "  warnings.warn(\n"
          ]
        },
        {
          "output_type": "display_data",
          "data": {
            "text/plain": [
              "Downloading readme:   0%|          | 0.00/5.16k [00:00<?, ?B/s]"
            ],
            "application/vnd.jupyter.widget-view+json": {
              "version_major": 2,
              "version_minor": 0,
              "model_id": "d4e2bf5c92d24914a1a3fb82f0f4a738"
            }
          },
          "metadata": {}
        },
        {
          "output_type": "display_data",
          "data": {
            "text/plain": [
              "Downloading data:   0%|          | 0.00/120M [00:00<?, ?B/s]"
            ],
            "application/vnd.jupyter.widget-view+json": {
              "version_major": 2,
              "version_minor": 0,
              "model_id": "e018884528f44b84ba8185e17cba62bc"
            }
          },
          "metadata": {}
        },
        {
          "output_type": "display_data",
          "data": {
            "text/plain": [
              "Downloading data:   0%|          | 0.00/23.9M [00:00<?, ?B/s]"
            ],
            "application/vnd.jupyter.widget-view+json": {
              "version_major": 2,
              "version_minor": 0,
              "model_id": "1aac8b37e3ce417897842bb8c5d16702"
            }
          },
          "metadata": {}
        },
        {
          "output_type": "display_data",
          "data": {
            "text/plain": [
              "Generating train split:   0%|          | 0/50000 [00:00<?, ? examples/s]"
            ],
            "application/vnd.jupyter.widget-view+json": {
              "version_major": 2,
              "version_minor": 0,
              "model_id": "17ff6047ec784c45a5e48f9a2f089e86"
            }
          },
          "metadata": {}
        },
        {
          "output_type": "display_data",
          "data": {
            "text/plain": [
              "Generating test split:   0%|          | 0/10000 [00:00<?, ? examples/s]"
            ],
            "application/vnd.jupyter.widget-view+json": {
              "version_major": 2,
              "version_minor": 0,
              "model_id": "a963afb5ccdd4b75b789259a8da47fb7"
            }
          },
          "metadata": {}
        },
        {
          "output_type": "display_data",
          "data": {
            "text/plain": [
              "Downloading readme:   0%|          | 0.00/3.90k [00:00<?, ?B/s]"
            ],
            "application/vnd.jupyter.widget-view+json": {
              "version_major": 2,
              "version_minor": 0,
              "model_id": "2e8de6d2c9d94ec1a11d43c8afa174e6"
            }
          },
          "metadata": {}
        },
        {
          "output_type": "display_data",
          "data": {
            "text/plain": [
              "Downloading metadata:   0%|          | 0.00/3.52k [00:00<?, ?B/s]"
            ],
            "application/vnd.jupyter.widget-view+json": {
              "version_major": 2,
              "version_minor": 0,
              "model_id": "3f687e13f5174ff9b39e9b0ac841efb8"
            }
          },
          "metadata": {}
        },
        {
          "output_type": "display_data",
          "data": {
            "text/plain": [
              "Downloading data:   0%|          | 0.00/146M [00:00<?, ?B/s]"
            ],
            "application/vnd.jupyter.widget-view+json": {
              "version_major": 2,
              "version_minor": 0,
              "model_id": "ff7d08fedf82492d9bda7b5be8d64564"
            }
          },
          "metadata": {}
        },
        {
          "output_type": "display_data",
          "data": {
            "text/plain": [
              "Downloading data:   0%|          | 0.00/14.6M [00:00<?, ?B/s]"
            ],
            "application/vnd.jupyter.widget-view+json": {
              "version_major": 2,
              "version_minor": 0,
              "model_id": "d76ffe8db0174c4ba4fb032294cb6836"
            }
          },
          "metadata": {}
        },
        {
          "output_type": "display_data",
          "data": {
            "text/plain": [
              "Generating train split:   0%|          | 0/100000 [00:00<?, ? examples/s]"
            ],
            "application/vnd.jupyter.widget-view+json": {
              "version_major": 2,
              "version_minor": 0,
              "model_id": "798eeed12aaf46949c8a5481de2ce9c8"
            }
          },
          "metadata": {}
        },
        {
          "output_type": "display_data",
          "data": {
            "text/plain": [
              "Generating valid split:   0%|          | 0/10000 [00:00<?, ? examples/s]"
            ],
            "application/vnd.jupyter.widget-view+json": {
              "version_major": 2,
              "version_minor": 0,
              "model_id": "da6a136b67e1451593aee64828f23ae5"
            }
          },
          "metadata": {}
        }
      ],
      "source": [
        "# Retrieve the DataLoaders for the CIFAR dataset.\n",
        "# The get_data function is called with the argument 'cifar',\n",
        "# which will download and process the CIFAR-10 dataset.\n",
        "cifar_train_loader, cifar_test_loader, cifar_train_ds, cifar_test_ds = get_data('cifar')\n",
        "\n",
        "# Retrieve the DataLoaders for the Tiny ImageNet dataset.\n",
        "# The get_data function is called with the argument 'tiny_imagenet',\n",
        "# which will download and process the Tiny ImageNet dataset.\n",
        "imagenet_train_loader, imagenet_test_loader, imagenet_train_ds, imagenet_test_ds = get_data('tiny_imagenet')"
      ]
    },
    {
      "cell_type": "markdown",
      "source": [
        "### Rendering an example data sample"
      ],
      "metadata": {
        "id": "6VejjNcgaCTn"
      }
    },
    {
      "cell_type": "code",
      "execution_count": 7,
      "metadata": {
        "colab": {
          "base_uri": "https://localhost:8080/",
          "height": 0
        },
        "id": "oYoSh0nDlwfb",
        "outputId": "fbf6b8da-b1c7-44bc-8ca1-15c4dbb66d45"
      },
      "outputs": [
        {
          "output_type": "display_data",
          "data": {
            "text/plain": [
              "<Figure size 1000x500 with 2 Axes>"
            ],
            "image/png": "[encoded data removed]"
          },
          "metadata": {}
        }
      ],
      "source": [
        "# Get one batch of CIFAR data\n",
        "cifar_images = next(iter(cifar_train_loader))\n",
        "# Get one batch of Tiny ImageNet data\n",
        "imagenet_images = next(iter(imagenet_train_loader))\n",
        "\n",
        "# Get the first image from each batch\n",
        "cifar_image = cifar_images[0]\n",
        "imagenet_image = imagenet_images[0]\n",
        "\n",
        "# Set up the figure and subplots\n",
        "fig, axs = plt.subplots(1, 2, figsize=(10, 5))\n",
        "\n",
        "# Plot CIFAR image\n",
        "npimg_cifar = cifar_image.permute(1, 2, 0).numpy()\n",
        "axs[0].imshow(npimg_cifar)\n",
        "axs[0].set_title('CIFAR-10 Sample')\n",
        "axs[0].axis('off')\n",
        "\n",
        "# Plot Tiny ImageNet image\n",
        "npimg_imagenet = imagenet_image.permute(1, 2, 0).numpy()\n",
        "axs[1].imshow(npimg_imagenet)\n",
        "axs[1].set_title('Tiny ImageNet Sample')\n",
        "axs[1].axis('off')\n",
        "\n",
        "# Set a super title for the figure\n",
        "fig.suptitle('Sample Images from CIFAR-10 and Tiny ImageNet')\n",
        "\n",
        "# Show the plot\n",
        "plt.show()"
      ]
    },
    {
      "cell_type": "markdown",
      "metadata": {
        "id": "SNN4_OE_oiwJ"
      },
      "source": [
        "## Noisification [3]"
      ]
    },
    {
      "cell_type": "markdown",
      "metadata": {
        "id": "9JBAhmU3qDDE"
      },
      "source": [
        "The forward diffusion process gradually adds noise to an image from the real distribution, in a number of time steps T. This happens according to a variance schedule. The original DDPM (Denoising Diffusion Probabilistic Models) authors employed a linear schedule:\n",
        "\n",
        "\n",
        "\n",
        "> We set the forward process variances to constants increasing linearly from $\\beta_1 = 10^{-4}$ to $\\beta_T = 0.02$"
      ]
    },
    {
      "cell_type": "code",
      "execution_count": 8,
      "metadata": {
        "id": "pA1ZH3pmomvo"
      },
      "outputs": [],
      "source": [
        "def linear_beta_schedule(timesteps):\n",
        "    \"\"\"\n",
        "    Generate a linearly spaced sequence of beta values for a given number of timesteps.\n",
        "\n",
        "    Parameters:\n",
        "    timesteps (int): The number of timesteps for which to generate the beta values.\n",
        "\n",
        "    Returns:\n",
        "    torch.Tensor: A tensor containing the linearly spaced beta values.\n",
        "    \"\"\"\n",
        "\n",
        "    # Define the starting value of beta.\n",
        "    beta_start = 0.0001\n",
        "\n",
        "    # Define the ending value of beta.\n",
        "    beta_end = 0.02\n",
        "\n",
        "    # Generate a linearly spaced sequence of values from beta_start to beta_end over the given number of timesteps.\n",
        "    beta_values = torch.linspace(beta_start, beta_end, timesteps)\n",
        "\n",
        "    return beta_values"
      ]
    },
    {
      "cell_type": "markdown",
      "metadata": {
        "id": "z5yuDADKP9qH"
      },
      "source": [
        "The extract function will allow us to extract the appropriate $t$ index for a batch of indices."
      ]
    },
    {
      "cell_type": "code",
      "execution_count": 9,
      "metadata": {
        "id": "RRYx92ftqjB5"
      },
      "outputs": [],
      "source": [
        "def extract(a, t, batch_shape):\n",
        "    \"\"\"\n",
        "    Extracts elements from tensor `a` at indices specified by tensor `t`, and reshapes the output\n",
        "    to be compatible with the given `batch_shape`.\n",
        "\n",
        "    Parameters:\n",
        "    a (torch.Tensor): A tensor from which to extract elements.\n",
        "    t (torch.Tensor): A tensor of indices specifying which elements to extract from `a`.\n",
        "    batch_shape (tuple): The desired shape of the output, excluding the first dimension which corresponds to `num_timesteps`.\n",
        "\n",
        "    Returns:\n",
        "    torch.Tensor: A tensor of extracted elements reshaped to be compatible with `batch_shape`.\n",
        "    \"\"\"\n",
        "\n",
        "    # Get the number of timesteps, which is the length of the indices tensor `t`.\n",
        "    num_timesteps = t.shape[0]\n",
        "\n",
        "    # Use the gather method to extract elements from `a` at indices specified by `t`.\n",
        "    # Since gather operates on the last dimension, `t` is moved to the CPU.\n",
        "    out = a.gather(-1, t.cpu())\n",
        "\n",
        "    # Reshape the extracted elements to be compatible with `batch_shape`.\n",
        "    # The first dimension will be `num_timesteps`, and the remaining dimensions will be ones.\n",
        "    # This ensures the output tensor can be broadcasted to match `batch_shape`.\n",
        "    reshaped_out = out.reshape(num_timesteps, *((1,) * (len(batch_shape) - 1)))\n",
        "\n",
        "    # Move the reshaped tensor to the device of `t` and return it.\n",
        "    return reshaped_out.to(t.device)"
      ]
    },
    {
      "cell_type": "code",
      "execution_count": 10,
      "metadata": {
        "id": "GVJOOqkvqndF"
      },
      "outputs": [],
      "source": [
        "def q_sample(batch, timesteps, t, noise):\n",
        "    \"\"\"\n",
        "    Samples from the diffusion process q(x_t | x_{t-1}) for a given batch of data.\n",
        "\n",
        "    Parameters:\n",
        "    batch (torch.Tensor): The batch of data to be diffused.\n",
        "    timesteps (int): The total number of timesteps in the diffusion process.\n",
        "    t (torch.Tensor): A tensor of current timestep indices for each element in the batch.\n",
        "    noise (torch.Tensor): A tensor of noise to be added to the batch.\n",
        "\n",
        "    Returns:\n",
        "    torch.Tensor: The diffused batch of data.\n",
        "    \"\"\"\n",
        "\n",
        "    # Define the beta schedule for the given number of timesteps.\n",
        "    betas = linear_beta_schedule(timesteps)\n",
        "\n",
        "    # Compute alphas as (1 - betas).\n",
        "    alphas = 1. - betas\n",
        "\n",
        "    # Compute the cumulative product of alphas to get alpha_bar values.\n",
        "    alphas_bar = torch.cumprod(alphas, axis=0)\n",
        "\n",
        "    # Compute square roots of alpha_bar and (1 - alpha_bar) for use in the sampling equation.\n",
        "    sqrt_alphas_bar = torch.sqrt(alphas_bar)\n",
        "    sqrt_one_minus_alphas_bar = torch.sqrt(1. - alphas_bar)\n",
        "\n",
        "    # Extract the corresponding alpha_bar and (1 - alpha_bar) values for the current timesteps.\n",
        "    sqrt_alphas_bar_t = extract(sqrt_alphas_bar, t, batch.shape)\n",
        "    sqrt_one_minus_alphas_bar_t = extract(sqrt_one_minus_alphas_bar, t, batch.shape)\n",
        "\n",
        "    # Compute the diffused data by combining the original batch and the noise,\n",
        "    # weighted by the square roots of the corresponding alpha_bar and (1 - alpha_bar) values.\n",
        "    diffused_data = sqrt_alphas_bar_t * batch + sqrt_one_minus_alphas_bar_t * noise\n",
        "\n",
        "    return diffused_data"
      ]
    },
    {
      "cell_type": "code",
      "execution_count": 11,
      "metadata": {
        "id": "yVSyPIgaqwgz"
      },
      "outputs": [],
      "source": [
        "def noisify(batch, timesteps, t):\n",
        "    \"\"\"\n",
        "    Adds Gaussian noise to a batch of data according to the diffusion process q(x_t | x_{t-1}).\n",
        "\n",
        "    Parameters:\n",
        "    batch (torch.Tensor): The batch of data to which noise will be added.\n",
        "    timesteps (int): The total number of timesteps in the diffusion process.\n",
        "    t (torch.Tensor): A tensor of current timestep indices for each element in the batch.\n",
        "\n",
        "    Returns:\n",
        "    tuple: A tuple containing the noisy batch of data and the noise tensor.\n",
        "    \"\"\"\n",
        "\n",
        "    # Generate Gaussian noise with the same shape as the batch.\n",
        "    noise = torch.randn_like(batch)\n",
        "\n",
        "    # Apply the noise to the batch using the q_sample function to get the noisy batch.\n",
        "    batch_noisy = q_sample(batch, timesteps, t, noise)\n",
        "\n",
        "    # Return the noisy batch and the noise used to generate it.\n",
        "    return batch_noisy, noise"
      ]
    },
    {
      "cell_type": "markdown",
      "source": [
        "### Noisifying an example data sample"
      ],
      "metadata": {
        "id": "eg1SOrJDaIma"
      }
    },
    {
      "cell_type": "code",
      "execution_count": 12,
      "metadata": {
        "colab": {
          "base_uri": "https://localhost:8080/",
          "height": 0
        },
        "id": "iE7VYf94qyfT",
        "outputId": "d0e78419-f835-4cc3-ad4b-d57808a25a3a"
      },
      "outputs": [
        {
          "output_type": "stream",
          "name": "stderr",
          "text": [
            "WARNING:matplotlib.image:Clipping input data to the valid range for imshow with RGB data ([0..1] for floats or [0..255] for integers).\n",
            "WARNING:matplotlib.image:Clipping input data to the valid range for imshow with RGB data ([0..1] for floats or [0..255] for integers).\n"
          ]
        },
        {
          "output_type": "display_data",
          "data": {
            "text/plain": [
              "<Figure size 1000x1000 with 4 Axes>"
            ],
            "image/png": "[encoded data removed]"
          },
          "metadata": {}
        }
      ],
      "source": [
        "# Get one batch of CIFAR data\n",
        "cifar_images = next(iter(cifar_train_loader))\n",
        "# Get one batch of Tiny ImageNet data\n",
        "imagenet_images = next(iter(imagenet_train_loader))\n",
        "\n",
        "# Get the first image from each batch\n",
        "cifar_image = cifar_images[0]\n",
        "imagenet_image = imagenet_images[0]\n",
        "\n",
        "# Generate random timesteps\n",
        "t_cifar = torch.randint(0, T, (1,))\n",
        "t_imagenet = torch.randint(0, T, (1,))\n",
        "\n",
        "# Noisify the images\n",
        "noisy_cifar, _ = noisify(cifar_image.unsqueeze(0), T, t_cifar)\n",
        "noisy_imagenet, _ = noisify(imagenet_image.unsqueeze(0), T, t_imagenet)\n",
        "\n",
        "# Set up the figure and subplots\n",
        "fig, axs = plt.subplots(2, 2, figsize=(10, 10))\n",
        "\n",
        "# Plot original CIFAR image\n",
        "cifar_image = cifar_image.permute(1, 2, 0).numpy()\n",
        "axs[0, 0].imshow(cifar_image)\n",
        "axs[0, 0].set_title('Original CIFAR-10 Sample')\n",
        "axs[0, 0].axis('off')\n",
        "\n",
        "# Plot noisy CIFAR image\n",
        "noisy_cifar_image = noisy_cifar.squeeze(0)\n",
        "noisy_cifar_image = noisy_cifar_image.permute(1, 2, 0).numpy()\n",
        "axs[0, 1].imshow(noisy_cifar_image)\n",
        "axs[0, 1].set_title('Noisy CIFAR-10 Sample')\n",
        "axs[0, 1].axis('off')\n",
        "\n",
        "# Plot original Tiny ImageNet image\n",
        "imagenet_image = imagenet_image.permute(1, 2, 0).numpy()\n",
        "axs[1, 0].imshow(imagenet_image)\n",
        "axs[1, 0].set_title('Original Tiny ImageNet Sample')\n",
        "axs[1, 0].axis('off')\n",
        "\n",
        "# Plot noisy Tiny ImageNet image\n",
        "noisy_imagenet_image = noisy_imagenet.squeeze(0)\n",
        "noisy_imagenet_image = noisy_imagenet_image.permute(1, 2, 0).numpy()\n",
        "axs[1, 1].imshow(noisy_imagenet_image)\n",
        "axs[1, 1].set_title('Noisy Tiny ImageNet Sample')\n",
        "axs[1, 1].axis('off')\n",
        "\n",
        "# Set a super title for the figure\n",
        "fig.suptitle('Original and Noisy Samples from CIFAR-10 and Tiny ImageNet')\n",
        "\n",
        "# Show the plot\n",
        "plt.show()"
      ]
    },
    {
      "cell_type": "markdown",
      "metadata": {
        "id": "0p8PD0kQSVO8"
      },
      "source": [
        "## Image Space DiffiT Model"
      ]
    },
    {
      "cell_type": "markdown",
      "metadata": {
        "id": "kvmUNc-fTij0"
      },
      "source": [
        "<img src=\"https://raw.githubusercontent.com/alighasemi78/DiffiT-Diffusion-Vision-Transformers-for-Image-Generation/677536a2ab2076fa9b7bece6242ad2642dbbbf6e/images/image_space_diffit.png\" alt=\"image space diffit\" height=\"500\"/>\n",
        "\n",
        "As shown in the Figure, DiffiT uses a symmetrical U-Shaped encoder-decoder architecture in which the contracting and expanding paths are connected to each other via skip connections at every resolution. Specifically, each resolution of the encoder or decoder paths consists of L consecutive DiffiT blocks, containing our proposed time-dependent self-attention modules. In the beginning of each path, for both the encoder and decoder, a convolutional layer is employed to match the number of feature maps. A convolutional upsampling or downsampling layer is also used for transitioning between each resolution. We speculate that the use of these convolutional layers embeds inductive image bias that can further improve the performance."
      ]
    },
    {
      "cell_type": "markdown",
      "metadata": {
        "id": "gcmdkKu4zPKo"
      },
      "source": [
        "### Tokenizer [1]"
      ]
    },
    {
      "cell_type": "code",
      "execution_count": 13,
      "metadata": {
        "id": "Tikj0Abbrrwg"
      },
      "outputs": [],
      "source": [
        "class Tokenizer(nn.Module):\n",
        "    \"\"\"\n",
        "    Tokenizer module for tokenizing input images.\n",
        "    \"\"\"\n",
        "\n",
        "    def __init__(self, out_channels, in_channels=3):\n",
        "        \"\"\"\n",
        "        Initializes the Tokenizer module.\n",
        "\n",
        "        Parameters:\n",
        "        - out_channels (int): Number of output channels.\n",
        "        - in_channels (int): Number of input channels (default is 3 for RGB images).\n",
        "        \"\"\"\n",
        "\n",
        "        super().__init__()\n",
        "\n",
        "        # Define a 2D convolutional layer for tokenizing input images.\n",
        "        # The convolutional layer has in_channels input channels, out_channels output channels,\n",
        "        # and uses a kernel size of 3x3 with padding of 1 to maintain spatial dimensions.\n",
        "        self.conv = nn.Conv2d(in_channels, out_channels, 3, padding=1)\n",
        "\n",
        "    def forward(self, x):\n",
        "        \"\"\"\n",
        "        Forward pass of the Tokenizer module.\n",
        "\n",
        "        Parameters:\n",
        "        - x (torch.Tensor): Input tensor of shape (batch_size, in_channels, height, width).\n",
        "\n",
        "        Returns:\n",
        "        - torch.Tensor: Output tensor after tokenization, with shape (batch_size, out_channels, height, width).\n",
        "        \"\"\"\n",
        "\n",
        "        # Pass the input tensor through the convolutional layer.\n",
        "        # This applies tokenization to the input images.\n",
        "        return self.conv(x)"
      ]
    },
    {
      "cell_type": "markdown",
      "metadata": {
        "id": "S-urLJDDbAo3"
      },
      "source": [
        "### DiffiT ResBlock"
      ]
    },
    {
      "cell_type": "markdown",
      "metadata": {
        "id": "fFrMTrzBfBBJ"
      },
      "source": [
        "#### Time Embeddings"
      ]
    },
    {
      "cell_type": "markdown",
      "metadata": {
        "id": "kRKm_W7TZk8Y"
      },
      "source": [
        "As the parameters of the neural network are shared across time (noise level), the authors employ sinusoidal position embeddings to encode $t$, inspired by the Transformer. This makes the neural network \"know\" at which particular time step (noise level) it is operating, for every image in a batch.\n",
        "\n",
        "The SinusoidalPositionEmbeddings module takes a tensor of shape (batch_size, 1) as input (i.e. the noise levels of several noisy images in a batch), and turns this into a tensor of shape (batch_size, dim), with dim being the dimensionality of the position embeddings. This is then added to each residual block, as we will see further.\n",
        "\n",
        "The model receives $x_t$, a time token representing the time step. We obtain the time token by feeding positional time embeddings to a small MLP with swish activation"
      ]
    },
    {
      "cell_type": "markdown",
      "source": [
        "##### Position Embeddings [3]"
      ],
      "metadata": {
        "id": "DSo2YVxDaNBr"
      }
    },
    {
      "cell_type": "code",
      "execution_count": 14,
      "metadata": {
        "id": "OFF93WPiV0GF"
      },
      "outputs": [],
      "source": [
        "class SinusoidalPositionEmbeddings(nn.Module):\n",
        "    \"\"\"\n",
        "    Sinusoidal Position Embeddings module for adding positional encodings to input sequences.\n",
        "    \"\"\"\n",
        "\n",
        "    def __init__(self, dim):\n",
        "        \"\"\"\n",
        "        Initializes the SinusoidalPositionEmbeddings module.\n",
        "\n",
        "        Parameters:\n",
        "        - dim (int): Dimensionality of the positional embeddings.\n",
        "        \"\"\"\n",
        "\n",
        "        super().__init__()\n",
        "        self.dim = dim\n",
        "\n",
        "    def forward(self, time):\n",
        "        \"\"\"\n",
        "        Forward pass of the SinusoidalPositionEmbeddings module.\n",
        "\n",
        "        Parameters:\n",
        "        - time (torch.Tensor): Input tensor representing the positions or timestamps.\n",
        "\n",
        "        Returns:\n",
        "        - torch.Tensor: Positional embeddings for the input timestamps.\n",
        "        \"\"\"\n",
        "\n",
        "        # Get the device of the input tensor\n",
        "        device = time.device\n",
        "\n",
        "        # Calculate half the dimension\n",
        "        half_dim = self.dim // 2\n",
        "\n",
        "        # Calculate the embeddings using the sinusoidal formula\n",
        "        embeddings = math.log(10000) / (half_dim - 1)\n",
        "        embeddings = torch.exp(torch.arange(half_dim, device=device) * -embeddings)\n",
        "        embeddings = time[:, None] * embeddings[None, :]\n",
        "\n",
        "        # Concatenate the sine and cosine embeddings along the last dimension\n",
        "        embeddings = torch.cat((embeddings.sin(), embeddings.cos()), dim=-1)\n",
        "\n",
        "        return embeddings"
      ]
    },
    {
      "cell_type": "markdown",
      "source": [
        "##### Time Embeddings [1]"
      ],
      "metadata": {
        "id": "pYiZ4dHBaQ0J"
      }
    },
    {
      "cell_type": "code",
      "execution_count": 15,
      "metadata": {
        "id": "aNDCJ-rVfl_3"
      },
      "outputs": [],
      "source": [
        "class TimeEmbedding(nn.Module):\n",
        "    \"\"\"\n",
        "    Time Embedding module for embedding timestamps with positional encodings.\n",
        "    \"\"\"\n",
        "\n",
        "    def __init__(self, d_model, seq_len):\n",
        "        \"\"\"\n",
        "        Initializes the TimeEmbedding module.\n",
        "\n",
        "        Parameters:\n",
        "        - d_model (int): Dimensionality of the model.\n",
        "        - seq_len (int): Length of the sequence (number of timestamps).\n",
        "        \"\"\"\n",
        "\n",
        "        super().__init__()\n",
        "\n",
        "        # Instantiate SinusoidalPositionEmbeddings module for positional encodings\n",
        "        self.positional_encoding = SinusoidalPositionEmbeddings(seq_len)\n",
        "\n",
        "        # Linear layer for embedding positional encodings\n",
        "        self.fc1 = nn.Linear(seq_len, d_model)\n",
        "\n",
        "        # Activation function (Swish)\n",
        "        self.swish = nn.SiLU()\n",
        "\n",
        "        # Second linear layer for further transformation\n",
        "        self.fc2 = nn.Linear(d_model, d_model)\n",
        "\n",
        "    def forward(self, t):\n",
        "        \"\"\"\n",
        "        Forward pass of the TimeEmbedding module.\n",
        "\n",
        "        Parameters:\n",
        "        - t (torch.Tensor): Input tensor representing timestamps.\n",
        "\n",
        "        Returns:\n",
        "        - torch.Tensor: Embedded tensor representing the timestamps with positional encodings.\n",
        "        \"\"\"\n",
        "\n",
        "        # Apply positional encoding to input timestamps\n",
        "        x_t = self.positional_encoding(t)\n",
        "\n",
        "        # Linear transformation to embed positional encodings\n",
        "        x_t = self.fc1(x_t)\n",
        "\n",
        "        # Apply activation function (Swish)\n",
        "        x_t = self.swish(x_t)\n",
        "\n",
        "        # Further linear transformation\n",
        "        x_t = self.fc2(x_t)\n",
        "\n",
        "        return x_t"
      ]
    },
    {
      "cell_type": "markdown",
      "metadata": {
        "id": "uCLf6iigbLyr"
      },
      "source": [
        "#### DiffiT Transformer"
      ]
    },
    {
      "cell_type": "markdown",
      "metadata": {
        "id": "lC0Hs4DldjX3"
      },
      "source": [
        "<img src=\"https://raw.githubusercontent.com/alighasemi78/DiffiT-Diffusion-Vision-Transformers-for-Image-Generation/d576c8725b797d45f9a066ac056d75b20581bcf2/images/diffit_transformer.png\" alt=\"diffit transformer\" height=\"500\"/>\n",
        "\n",
        "The transformer block is a core building block of the proposed DiffiT architecture and is defined as\n",
        "\n",
        "$$\\hat{x_s} = \\text{TMSA}(\\text{LN}(x_s), x_t) + x_s$$\n",
        "$$x_s = \\text{MLP}(\\text{LN}(\\hat{x_s})) + \\hat{x_s}$$\n",
        "\n",
        "where TMSA denotes time-dependent multi-head self-attention, $x_t$ is the time-embedding token, $x_s$ is a spatial token, and LN and MLP denote Layer Norm and MLP respectively."
      ]
    },
    {
      "cell_type": "markdown",
      "source": [
        "##### Layer Norm [4]"
      ],
      "metadata": {
        "id": "mzOAuG6iaUfQ"
      }
    },
    {
      "cell_type": "code",
      "execution_count": 16,
      "metadata": {
        "id": "bWYkF-9qZa_i"
      },
      "outputs": [],
      "source": [
        "class LayerNorm(nn.Module):\n",
        "    \"\"\"\n",
        "    Layer Normalization module for normalizing input tensors.\n",
        "    \"\"\"\n",
        "\n",
        "    def __init__(self, eps=1e-6):\n",
        "        \"\"\"\n",
        "        Initializes the LayerNorm module.\n",
        "\n",
        "        Parameters:\n",
        "        - eps (float): A small constant to prevent division by zero.\n",
        "        \"\"\"\n",
        "\n",
        "        super().__init__()\n",
        "        self.eps = eps\n",
        "\n",
        "        # Learnable parameters: alpha (scaling factor) and bias\n",
        "        self.alpha = nn.Parameter(torch.ones(1))    # Multiplies\n",
        "        self.bias = nn.Parameter(torch.zeros(1))    # Added\n",
        "\n",
        "    def forward(self, x):\n",
        "        \"\"\"\n",
        "        Forward pass of the LayerNorm module.\n",
        "\n",
        "        Parameters:\n",
        "        - x (torch.Tensor): Input tensor to be normalized.\n",
        "\n",
        "        Returns:\n",
        "        - torch.Tensor: Normalized output tensor.\n",
        "        \"\"\"\n",
        "\n",
        "        # Calculate mean and standard deviation along the last dimension\n",
        "        mean = x.mean(dim=-1, keepdim=True)\n",
        "        std = x.std(dim=-1, keepdim=True)\n",
        "\n",
        "        # Apply layer normalization formula\n",
        "        normalized_x = self.alpha * (x - mean) / (std + self.eps) + self.bias\n",
        "\n",
        "        return normalized_x"
      ]
    },
    {
      "cell_type": "markdown",
      "metadata": {
        "id": "Vr3iX89QhFEo"
      },
      "source": [
        "##### TMSA [1][4]"
      ]
    },
    {
      "cell_type": "markdown",
      "metadata": {
        "id": "IELnfDI3hIKD"
      },
      "source": [
        "In this work, they introduce the Time-dependant Multihead Self-Attention (TMSA) mechanism which allows for fine-grained control over spatial and temporal dependencies and their interaction during the denoising process. Specifically, our TMSA proposes to integrate the temporal component into the self-attention where the key, query, and value weights are adapted per time step during denoising. This allows the denoising network to dynamically change its attention mechanism in different stages by considering both spatial and temporal components and their correspondence.\n",
        "\n",
        "In addition, employing TMSA significantly improves the parameter efficiency as it only learns three temporal components for query, key and value in each block.\n",
        "\n",
        "Time-dependent multi-head self-attention captures both long-range spatial and temporal dependencies by projecting feature and time token embeddings in a shared space. Specifically, time-dependent queries q, keys k and values v in the shared space are computed by a linear projection of spatial and time embeddings $x_s$ and $x_t$ via\n",
        "\n",
        "$$q_s = x_sW_{qs} + x_tW_{qt}$$\n",
        "$$k_s = x_sW_{ks} + x_tW_{kt}$$\n",
        "$$v_s = x_sW_{vs} + x_tW_{vt}$$\n",
        "\n",
        "where $W_{qs}, W_{qt}, W_{ks}, W_{kt}, W_{vs}, W_{vt}$ denote spatial and temporal linear projection weights for their corresponding queries, keys, and values respectively.\n",
        "\n",
        "We note that the operations listed above are equivalent to a linear projection of each spatial token, concatenated with the time token. As a result, key, query, and value are all linear functions of both time and spatial tokens and they can adaptively modify the behavior of attention for different time steps. We define $Q := \\{q_s\\}, K := \\{k_s\\}, V := \\{v_s\\}$ which are stacked form of query, key, and values in rows of a matrix. The self-attention is then computed as follows\n",
        "\n",
        "$$\\text{Attention}(Q, K, V) = \\text{Softmax}(\\dfrac{QK^T}{\\sqrt{d}} + B)V$$\n",
        "\n",
        "In which, $d$ is a scaling factor for keys K, and B corresponds to a relative position bias."
      ]
    },
    {
      "cell_type": "code",
      "execution_count": 17,
      "metadata": {
        "id": "czSrqrzZjKbt"
      },
      "outputs": [],
      "source": [
        "def causal_mask(size):\n",
        "    \"\"\"\n",
        "    Creates a causal mask for self-attention mechanism.\n",
        "\n",
        "    Parameters:\n",
        "    - size (int): The size of the mask (number of tokens).\n",
        "\n",
        "    Returns:\n",
        "    - torch.Tensor: The causal mask tensor.\n",
        "    \"\"\"\n",
        "\n",
        "    # Create a lower triangular matrix filled with ones\n",
        "    mask = torch.tril(torch.ones((1, size, size)))\n",
        "\n",
        "    # Convert the matrix to boolean type\n",
        "    mask = mask.type(torch.bool).to(device)\n",
        "\n",
        "    return mask"
      ]
    },
    {
      "cell_type": "code",
      "execution_count": 18,
      "metadata": {
        "id": "Xm5CUf54jTu2"
      },
      "outputs": [],
      "source": [
        "class TMSA(nn.Module):\n",
        "    \"\"\"\n",
        "    Transformer-based Multi-Head Attention (TMSA) module for integrating spatial and temporal features.\n",
        "    \"\"\"\n",
        "\n",
        "    def __init__(self, d_model, n_head, img_size, dropout=0.1):\n",
        "        \"\"\"\n",
        "        Initializes the TMSA module.\n",
        "\n",
        "        Parameters:\n",
        "        - d_model (int): Dimensionality of the model.\n",
        "        - n_head (int): Number of attention heads.\n",
        "        - img_size (int): Size of the input images (assuming square images).\n",
        "        - dropout (float): Dropout probability (default is 0.1).\n",
        "        \"\"\"\n",
        "\n",
        "        super().__init__()\n",
        "        self.d_model = d_model\n",
        "        self.n_head = n_head\n",
        "\n",
        "        # Ensure that d_model is divisible by n_head\n",
        "        assert d_model % n_head == 0, 'd_model should be divided by n_head'\n",
        "\n",
        "        self.img_size = img_size\n",
        "        self.seq_len = self.img_size * self.img_size\n",
        "        self.d_head = d_model // n_head\n",
        "\n",
        "        # Create causal mask for self-attention\n",
        "        self.mask = causal_mask(self.seq_len)\n",
        "\n",
        "        # Linear transformations for spatial features\n",
        "        self.w_qs = nn.Linear(d_model, d_model, False)\n",
        "        self.w_ks = nn.Linear(d_model, d_model, False)\n",
        "        self.w_vs = nn.Linear(d_model, d_model, False)\n",
        "\n",
        "        # Linear transformations for temporal features\n",
        "        self.w_qt = nn.Linear(d_model, d_model, False)\n",
        "        self.w_kt = nn.Linear(d_model, d_model, False)\n",
        "        self.w_vt = nn.Linear(d_model, d_model, False)\n",
        "\n",
        "        # Learnable bias parameter\n",
        "        self.b = nn.Parameter(torch.zeros(self.seq_len))\n",
        "\n",
        "        # Output linear transformation\n",
        "        self.w_o = nn.Linear(d_model, d_model)\n",
        "\n",
        "        # Dropout layer\n",
        "        self.dropout = nn.Dropout(dropout)\n",
        "\n",
        "    @staticmethod\n",
        "    def attention(query, key, value, b, mask, dropout):\n",
        "        \"\"\"\n",
        "        Computes scaled dot-product attention.\n",
        "\n",
        "        Parameters:\n",
        "        - query (torch.Tensor): Query tensor.\n",
        "        - key (torch.Tensor): Key tensor.\n",
        "        - value (torch.Tensor): Value tensor.\n",
        "        - b (torch.Tensor): Learnable bias parameter.\n",
        "        - mask (torch.Tensor): Causal mask for attention.\n",
        "        - dropout (nn.Dropout): Dropout layer.\n",
        "\n",
        "        Returns:\n",
        "        - torch.Tensor: Attention-weighted value tensor.\n",
        "        - torch.Tensor: Attention scores.\n",
        "        \"\"\"\n",
        "\n",
        "        d_head = query.shape[-1]\n",
        "\n",
        "        # Compute attention scores\n",
        "        attention_scores = (query @ key.transpose(-2, -1) + b) / math.sqrt(d_head)\n",
        "\n",
        "        # Apply causal mask\n",
        "        attention_scores = attention_scores.masked_fill(mask == 0, -1e9)\n",
        "\n",
        "        # Apply softmax activation and dropout\n",
        "        attention_scores = torch.softmax(attention_scores, dim=-1)\n",
        "        attention_scores = dropout(attention_scores)\n",
        "\n",
        "        # Compute attention-weighted value tensor\n",
        "        weighted_value = attention_scores @ value, attention_scores\n",
        "\n",
        "        return weighted_value\n",
        "\n",
        "    def forward(self, x_s, x_t):\n",
        "        \"\"\"\n",
        "        Forward pass of the TMSA module.\n",
        "\n",
        "        Parameters:\n",
        "        - x_s (torch.Tensor): Spatial features tensor.\n",
        "        - x_t (torch.Tensor): Temporal features tensor.\n",
        "\n",
        "        Returns:\n",
        "        - torch.Tensor: Output tensor after integration of spatial and temporal features.\n",
        "        \"\"\"\n",
        "\n",
        "        # Reshape spatial features tensor\n",
        "        # (batch, d_model, img_size, img_size) --> (batch, seq_len, d_model)\n",
        "        x_s = x_s.view(x_s.shape[0], -1, x_s.shape[1])\n",
        "\n",
        "        # Linear transformations for spatial features\n",
        "        query_s = self.w_qs(x_s)\n",
        "        key_s = self.w_ks(x_s)\n",
        "        value_s = self.w_vs(x_s)\n",
        "\n",
        "        # (batch, seq_len, d_model) --> (batch, seq_len, n_head, d_head) --> (batch, n_head, seq_len, d_head)\n",
        "        query_s = query_s.view(query_s.shape[0], -1, self.n_head, self.d_head).transpose(1, 2)\n",
        "        key_s = key_s.view(key_s.shape[0], -1, self.n_head, self.d_head).transpose(1, 2)\n",
        "        value_s = value_s.view(value_s.shape[0], -1, self.n_head, self.d_head).transpose(1, 2)\n",
        "\n",
        "        # Linear transformations for temporal features\n",
        "        query_t = self.w_qt(x_t)\n",
        "        key_t = self.w_kt(x_t)\n",
        "        value_t = self.w_vt(x_t)\n",
        "\n",
        "        # (batch, seq_len, d_model) --> (batch, seq_len, n_head, d_head) --> (batch, n_head, seq_len, d_head)\n",
        "        query_t = query_t.view(query_t.shape[0], -1, self.n_head, self.d_head).transpose(1, 2)\n",
        "        key_t = key_t.view(key_t.shape[0], -1, self.n_head, self.d_head).transpose(1, 2)\n",
        "        value_t = value_t.view(value_t.shape[0], -1, self.n_head, self.d_head).transpose(1, 2)\n",
        "\n",
        "        # Combine spatial and temporal queries, keys, and values\n",
        "        query = query_s + query_t\n",
        "        key = key_s + key_t\n",
        "        value = value_s + value_t\n",
        "\n",
        "        # Compute attention and get attention scores\n",
        "        x, self.attention_scores = TMSA.attention(query, key, value, self.b, self.mask, self.dropout)\n",
        "\n",
        "        # Combine attention heads and reshape\n",
        "        # (batch, n_head, seq_len, d_head) --> (batch, seq_len, n_head, d_head) --> (batch, seq_len, d_model)\n",
        "        x = x.transpose(1, 2).contiguous().view(x.shape[0], -1, self.d_model)\n",
        "\n",
        "        # Output linear transformation\n",
        "        # (batch, seq_len, d_model) --> (batch_size, d_model, img_size, img_size)\n",
        "        x = self.w_o(x).view(x.shape[0], x.shape[2], self.img_size, self.img_size)\n",
        "\n",
        "        return x"
      ]
    },
    {
      "cell_type": "markdown",
      "metadata": {
        "id": "gZ5RbwsSx9Zf"
      },
      "source": [
        "##### MLP [1]"
      ]
    },
    {
      "cell_type": "code",
      "execution_count": 19,
      "metadata": {
        "id": "z2EmJgjmtodw"
      },
      "outputs": [],
      "source": [
        "class MLP(nn.Module):\n",
        "    \"\"\"\n",
        "    Multi-Layer Perceptron (MLP) module for applying feedforward transformation.\n",
        "    \"\"\"\n",
        "\n",
        "    def __init__(self, img_size, d_ff):\n",
        "        \"\"\"\n",
        "        Initializes the MLP module.\n",
        "\n",
        "        Parameters:\n",
        "        - img_size (int): Size of the input features.\n",
        "        - d_ff (int): Dimensionality of the feedforward layer.\n",
        "        \"\"\"\n",
        "\n",
        "        super().__init__()\n",
        "\n",
        "        # First linear transformation\n",
        "        self.fc1 = nn.Linear(img_size, d_ff)\n",
        "\n",
        "        # Activation function (GELU)\n",
        "        self.gelu = nn.GELU()\n",
        "\n",
        "        # Second linear transformation\n",
        "        self.fc2 = nn.Linear(d_ff, img_size)\n",
        "\n",
        "    def forward(self, x):\n",
        "        \"\"\"\n",
        "        Forward pass of the MLP module.\n",
        "\n",
        "        Parameters:\n",
        "        - x (torch.Tensor): Input tensor.\n",
        "\n",
        "        Returns:\n",
        "        - torch.Tensor: Output tensor after applying feedforward transformation.\n",
        "        \"\"\"\n",
        "\n",
        "        # First linear transformation\n",
        "        x = self.fc1(x)\n",
        "\n",
        "        # Activation function (GELU)\n",
        "        x = self.gelu(x)\n",
        "\n",
        "        # Second linear transformation\n",
        "        x = self.fc2(x)\n",
        "\n",
        "        return x"
      ]
    },
    {
      "cell_type": "markdown",
      "metadata": {
        "id": "RGqhCjINvv3n"
      },
      "source": [
        "##### DiffiT Transformer [1]"
      ]
    },
    {
      "cell_type": "code",
      "execution_count": 20,
      "metadata": {
        "id": "bG6fgDHAuOar"
      },
      "outputs": [],
      "source": [
        "class DiffiTTransformer(nn.Module):\n",
        "    \"\"\"\n",
        "    Diffusion Transformer (DiffiT) module combining spatial and temporal features.\n",
        "    \"\"\"\n",
        "\n",
        "    def __init__(self, d_model, n_head, img_size, dropout, d_ff):\n",
        "        \"\"\"\n",
        "        Initializes the DiffiTTransformer module.\n",
        "\n",
        "        Parameters:\n",
        "        - d_model (int): Dimensionality of the model.\n",
        "        - n_head (int): Number of attention heads.\n",
        "        - img_size (int): Size of the input images (assuming square images).\n",
        "        - dropout (float): Dropout probability.\n",
        "        - d_ff (int): Dimensionality of the feedforward layer.\n",
        "        \"\"\"\n",
        "\n",
        "        super().__init__()\n",
        "\n",
        "        # Layer normalization for input spatial features\n",
        "        self.ln = LayerNorm()\n",
        "\n",
        "        # Transformer-based Multi-Head Attention (TMSA) module\n",
        "        self.tmsa = TMSA(d_model, n_head, img_size, dropout)\n",
        "\n",
        "        # Multi-Layer Perceptron (MLP) module for feedforward transformation\n",
        "        self.mlp = MLP(img_size, d_ff)\n",
        "\n",
        "    def forward(self, x_s, x_t, x_l=None):\n",
        "        \"\"\"\n",
        "        Forward pass of the DiffiTTransformer module.\n",
        "\n",
        "        Parameters:\n",
        "        - x_s (torch.Tensor): Spatial features tensor.\n",
        "        - x_t (torch.Tensor): Temporal features tensor.\n",
        "\n",
        "        Returns:\n",
        "        - torch.Tensor: Output tensor after integrating spatial and temporal features.\n",
        "        \"\"\"\n",
        "\n",
        "        # Layer normalization for spatial features\n",
        "        x_hat_s = self.ln(x_s)\n",
        "\n",
        "        # Apply Transformer-based Multi-Head Attention (TMSA) module\n",
        "        x_hat_s = self.tmsa(x_hat_s, x_t if x_l is None else x_t + x_l)\n",
        "\n",
        "        # Residual connection\n",
        "        x_hat_s = x_hat_s + x_s\n",
        "\n",
        "        # Layer normalization\n",
        "        x_s = self.ln(x_hat_s)\n",
        "\n",
        "        # Apply Multi-Layer Perceptron (MLP) module\n",
        "        x_s = self.mlp(x_s)\n",
        "\n",
        "        # Residual connection\n",
        "        x_s = x_s + x_hat_s\n",
        "\n",
        "        return x_s"
      ]
    },
    {
      "cell_type": "markdown",
      "metadata": {
        "id": "h_EMN3_Uzfky"
      },
      "source": [
        "#### DiffiT ResBlock [1]"
      ]
    },
    {
      "cell_type": "markdown",
      "metadata": {
        "id": "nEJsmSr7z99E"
      },
      "source": [
        "We implement the final residual cell by combining the DiffiT Transformer block with an additional convolutional layer in the form:\n",
        "\n",
        "$$\\hat{x_s} = \\text{Conv}_{3 \\times 3}(\\text{Swish}(\\text{GN}(x_s)))$$\n",
        "$$x_s = \\text{DiffiT-Block}(\\hat{x_s}, x_t) + x_s$$\n",
        "\n",
        "where GN denotes the group normalization operation and DiffiT-Transformer is defined above. Our residual cell for image space diffusion models is a hybrid cell combining both a convolutional layer and our Transformer block."
      ]
    },
    {
      "cell_type": "code",
      "execution_count": 21,
      "metadata": {
        "id": "OmNqQ5CDzpuS"
      },
      "outputs": [],
      "source": [
        "class DiffiTResBlock(nn.Module):\n",
        "    \"\"\"\n",
        "    Residual block with DiffiTTransformer for incorporating temporal information.\n",
        "    \"\"\"\n",
        "\n",
        "    def __init__(self, in_channels, out_channels, d_model, n_head, img_size, dropout, d_ff):\n",
        "        \"\"\"\n",
        "        Initializes the DiffiTResBlock module.\n",
        "\n",
        "        Parameters:\n",
        "        - in_channels (int): Number of input channels.\n",
        "        - out_channels (int): Number of output channels.\n",
        "        - d_model (int): Dimensionality of the model.\n",
        "        - n_head (int): Number of attention heads.\n",
        "        - img_size (int): Size of the input images (assuming square images).\n",
        "        - dropout (float): Dropout probability.\n",
        "        - d_ff (int): Dimensionality of the feedforward layer.\n",
        "        \"\"\"\n",
        "\n",
        "        super().__init__()\n",
        "\n",
        "        # Calculate sequence length\n",
        "        self.seq_len = img_size * img_size\n",
        "\n",
        "        # Group normalization for input channels\n",
        "        self.gn = nn.GroupNorm(in_channels // 4, in_channels)\n",
        "\n",
        "        # Swish activation function\n",
        "        self.swish = nn.SiLU()\n",
        "\n",
        "        # Convolutional layer\n",
        "        self.conv = nn.Conv2d(in_channels, out_channels, 3, padding=1)\n",
        "\n",
        "        # Time embeddings for temporal information\n",
        "        self.time_embeddings = TimeEmbedding(out_channels, self.seq_len)\n",
        "\n",
        "        # DiffiTTransformer for integrating spatial and temporal features\n",
        "        self.diffit_transformer = DiffiTTransformer(out_channels, n_head, img_size, dropout, d_ff)\n",
        "\n",
        "    def forward(self, x_s, t, x_l=None):\n",
        "        \"\"\"\n",
        "        Forward pass of the DiffiTResBlock module.\n",
        "\n",
        "        Parameters:\n",
        "        - x_s (torch.Tensor): Spatial features tensor.\n",
        "        - t (torch.Tensor): Time tensor.\n",
        "\n",
        "        Returns:\n",
        "        - torch.Tensor: Output tensor after incorporating temporal information.\n",
        "        \"\"\"\n",
        "\n",
        "        # Group normalization\n",
        "        x_hat_s = self.gn(x_s)\n",
        "\n",
        "        # Swish activation\n",
        "        x_hat_s = self.swish(x_hat_s)\n",
        "\n",
        "        # Convolutional layer\n",
        "        x_hat_s = self.conv(x_hat_s)\n",
        "\n",
        "        # Time embeddings\n",
        "        x_t = self.time_embeddings(t)\n",
        "\n",
        "        # DiffiTTransformer for integrating spatial and temporal features\n",
        "        x_s = self.diffit_transformer(x_hat_s, x_t, x_l) + x_s\n",
        "\n",
        "        return x_s"
      ]
    },
    {
      "cell_type": "markdown",
      "metadata": {
        "id": "XUCSkYJO3IEs"
      },
      "source": [
        "### DiffiT ResBlock Group [1]"
      ]
    },
    {
      "cell_type": "markdown",
      "metadata": {
        "id": "gj9VH0SoAxIi"
      },
      "source": [
        "Each resolution of the encoder or decoder paths consists of L consecutive DiffiT blocks, containing the time-dependent self-attention modules."
      ]
    },
    {
      "cell_type": "code",
      "execution_count": 22,
      "metadata": {
        "id": "-p0C0kQY3QEp"
      },
      "outputs": [],
      "source": [
        "class DiffiTResBlockGroup(nn.Module):\n",
        "    \"\"\"\n",
        "    Group of DiffiTResBlocks for incorporating temporal information through multiple layers.\n",
        "    \"\"\"\n",
        "\n",
        "    def __init__(self, in_channels, out_channels, d_model, n_head, img_size, dropout, d_ff, L):\n",
        "        \"\"\"\n",
        "        Initializes the DiffiTResBlockGroup module.\n",
        "\n",
        "        Parameters:\n",
        "        - in_channels (int): Number of input channels.\n",
        "        - out_channels (int): Number of output channels.\n",
        "        - d_model (int): Dimensionality of the model.\n",
        "        - n_head (int): Number of attention heads.\n",
        "        - img_size (int): Size of the input images (assuming square images).\n",
        "        - dropout (float): Dropout probability.\n",
        "        - d_ff (int): Dimensionality of the feedforward layer.\n",
        "        - L (int): Number of DiffiTResBlocks in the group.\n",
        "        \"\"\"\n",
        "\n",
        "        super().__init__()\n",
        "\n",
        "        # Create a list of DiffiTResBlocks\n",
        "        self.diffit_res_blocks = nn.ModuleList([\n",
        "            DiffiTResBlock(in_channels, out_channels, d_model, n_head, img_size, dropout, d_ff) for _ in range(L)\n",
        "        ])\n",
        "\n",
        "    def forward(self, x, t, x_l=None):\n",
        "        \"\"\"\n",
        "        Forward pass of the DiffiTResBlockGroup module.\n",
        "\n",
        "        Parameters:\n",
        "        - x (torch.Tensor): Input tensor representing spatial features.\n",
        "        - t (torch.Tensor): Time tensor.\n",
        "\n",
        "        Returns:\n",
        "        - torch.Tensor: Output tensor after incorporating temporal information through multiple layers.\n",
        "        \"\"\"\n",
        "\n",
        "        # Iterate through each DiffiTResBlock in the group\n",
        "        for diffit_res_block in self.diffit_res_blocks:\n",
        "            # Apply the current DiffiTResBlock to the input tensor\n",
        "            x = diffit_res_block(x, t, x_l)\n",
        "\n",
        "        return x"
      ]
    },
    {
      "cell_type": "markdown",
      "metadata": {
        "id": "hhvTIzlrHzOD"
      },
      "source": [
        "### Downsample & Upsample [1]"
      ]
    },
    {
      "cell_type": "markdown",
      "metadata": {
        "id": "XDTUQ-wdH7cX"
      },
      "source": [
        "A convolutional upsampling or downsampling layer is also used for transitioning between each resolution.\n",
        "\n",
        "Note that for all networks, the resolution is decreased by a factor of 2 in between stages. However, except for when transitioning from the first to second stage, we keep the number of channels constant in the rest of the stages to maintain both the number of parameters and latency in our network."
      ]
    },
    {
      "cell_type": "markdown",
      "source": [
        "#### Downsample"
      ],
      "metadata": {
        "id": "myDageBYabcK"
      }
    },
    {
      "cell_type": "code",
      "execution_count": 23,
      "metadata": {
        "id": "VEITJFNYJSLo"
      },
      "outputs": [],
      "source": [
        "class Downsample(nn.Module):\n",
        "    \"\"\"\n",
        "    Module for downsampling spatial features.\n",
        "    \"\"\"\n",
        "\n",
        "    def __init__(self, in_channels, out_channels):\n",
        "        \"\"\"\n",
        "        Initializes the Downsample module.\n",
        "\n",
        "        Parameters:\n",
        "        - in_channels (int): Number of input channels.\n",
        "        - out_channels (int): Number of output channels.\n",
        "        \"\"\"\n",
        "\n",
        "        super().__init__()\n",
        "\n",
        "        # Convolutional layer for downsampling\n",
        "        self.conv = nn.Conv2d(in_channels, out_channels, 3, 2, 1)\n",
        "\n",
        "    def forward(self, x):\n",
        "        \"\"\"\n",
        "        Forward pass of the Downsample module.\n",
        "\n",
        "        Parameters:\n",
        "        - x (torch.Tensor): Input tensor representing spatial features.\n",
        "\n",
        "        Returns:\n",
        "        - torch.Tensor: Downsampled spatial features tensor.\n",
        "        \"\"\"\n",
        "\n",
        "        # Apply convolutional layer to downsample the input tensor\n",
        "        # (batch, in_channels, img_size, img_size) --> (batch, out_channels, img_size/2, img_size/2)\n",
        "        return self.conv(x)"
      ]
    },
    {
      "cell_type": "markdown",
      "source": [
        "#### Upsample"
      ],
      "metadata": {
        "id": "4vqFG4jcadtm"
      }
    },
    {
      "cell_type": "code",
      "execution_count": 24,
      "metadata": {
        "id": "B4McSlGNKJW9"
      },
      "outputs": [],
      "source": [
        "class Upsample(nn.Module):\n",
        "    \"\"\"\n",
        "    Module for upsampling spatial features.\n",
        "    \"\"\"\n",
        "\n",
        "    def __init__(self, in_channels, out_channels):\n",
        "        \"\"\"\n",
        "        Initializes the Upsample module.\n",
        "\n",
        "        Parameters:\n",
        "        - in_channels (int): Number of input channels.\n",
        "        - out_channels (int): Number of output channels.\n",
        "        \"\"\"\n",
        "\n",
        "        super().__init__()\n",
        "\n",
        "        # Transposed convolutional layer for upsampling\n",
        "        self.conv = nn.ConvTranspose2d(in_channels, out_channels, 3, 2, 1, 1)\n",
        "\n",
        "    def forward(self, x):\n",
        "        \"\"\"\n",
        "        Forward pass of the Upsample module.\n",
        "\n",
        "        Parameters:\n",
        "        - x (torch.Tensor): Input tensor representing spatial features.\n",
        "\n",
        "        Returns:\n",
        "        - torch.Tensor: Upsampled spatial features tensor.\n",
        "        \"\"\"\n",
        "\n",
        "        # Apply transposed convolutional layer to upsample the input tensor\n",
        "        # (batch, in_channels, img_size, img_size) --> (batch, out_channels, img_size*2, img_size*2)\n",
        "        return self.conv(x)"
      ]
    },
    {
      "cell_type": "markdown",
      "metadata": {
        "id": "KLEG2CdWNGVJ"
      },
      "source": [
        "### Head [1]"
      ]
    },
    {
      "cell_type": "code",
      "execution_count": 25,
      "metadata": {
        "id": "89Dbk7KTNUh2"
      },
      "outputs": [],
      "source": [
        "class Head(nn.Module):\n",
        "    \"\"\"\n",
        "    Module representing the head of the model for generating final predictions.\n",
        "    \"\"\"\n",
        "\n",
        "    def __init__(self, in_channels, out_channels=3):\n",
        "        \"\"\"\n",
        "        Initializes the Head module.\n",
        "\n",
        "        Parameters:\n",
        "        - in_channels (int): Number of input channels.\n",
        "        - out_channels (int): Number of output channels. Default is 3 for RGB images.\n",
        "        \"\"\"\n",
        "\n",
        "        super().__init__()\n",
        "\n",
        "        # Group normalization for input channels\n",
        "        self.gn = nn.GroupNorm(in_channels // 4, in_channels)\n",
        "\n",
        "        # Convolutional layer for generating final predictions\n",
        "        self.conv = nn.Conv2d(in_channels, out_channels, 3, padding=1)\n",
        "\n",
        "    def forward(self, x):\n",
        "        \"\"\"\n",
        "        Forward pass of the Head module.\n",
        "\n",
        "        Parameters:\n",
        "        - x (torch.Tensor): Input tensor representing features.\n",
        "\n",
        "        Returns:\n",
        "        - torch.Tensor: Output tensor representing final predictions.\n",
        "        \"\"\"\n",
        "\n",
        "        # Apply group normalization to the input tensor\n",
        "        x = self.gn(x)\n",
        "\n",
        "        # Apply convolutional layer to generate final predictions\n",
        "        x = self.conv(x)\n",
        "\n",
        "        return x"
      ]
    },
    {
      "cell_type": "markdown",
      "metadata": {
        "id": "zE8AC5E_N7Tk"
      },
      "source": [
        "### Image Space DiffiT Model [1]"
      ]
    },
    {
      "cell_type": "code",
      "execution_count": 26,
      "metadata": {
        "id": "wCMEaY1YOAIM"
      },
      "outputs": [],
      "source": [
        "class ImageSpaceDiffiTModel(pl.LightningModule):\n",
        "    \"\"\"\n",
        "    Model for Image-Space Diffusion Models with Transformers.\n",
        "    \"\"\"\n",
        "\n",
        "    def __init__(self, d_model, n_head, img_size, dropout, d_ff, L1=4, L2=4, L3=4):\n",
        "        \"\"\"\n",
        "        Initializes the ImageSpaceDiffiTModel.\n",
        "\n",
        "        Parameters:\n",
        "        - d_model (int): Dimensionality of the model.\n",
        "        - n_head (int): Number of attention heads.\n",
        "        - img_size (int): Size of the input images (assuming square images).\n",
        "        - dropout (float): Dropout probability.\n",
        "        - d_ff (int): Dimensionality of the feedforward layer.\n",
        "        - L1 (int): Number of DiffiTResBlocks in the first group. Default is 4.\n",
        "        - L2 (int): Number of DiffiTResBlocks in the second group. Default is 4.\n",
        "        - L3 (int): Number of DiffiTResBlocks in the third group. Default is 4.\n",
        "        \"\"\"\n",
        "\n",
        "        super().__init__()\n",
        "        self.save_hyperparameters()\n",
        "\n",
        "        # Tokenizer for input images\n",
        "        self.tokenizer = Tokenizer(d_model)\n",
        "\n",
        "        # Encoder components\n",
        "        self.diffit_res_block_group1 = DiffiTResBlockGroup(\n",
        "            d_model, d_model, d_model, n_head, img_size, dropout, d_ff, L1\n",
        "        )\n",
        "        self.downsample1 = Downsample(d_model, d_model * 2)\n",
        "\n",
        "        self.diffit_res_block_group2 = DiffiTResBlockGroup(\n",
        "            d_model * 2, d_model * 2, d_model, n_head, img_size // 2, dropout, d_ff, L2\n",
        "        )\n",
        "        self.downsample2 = Downsample(d_model * 2, d_model * 2)\n",
        "\n",
        "        # Decoder components\n",
        "        self.diffit_res_block_group3 = DiffiTResBlockGroup(\n",
        "            d_model * 2, d_model * 2, d_model, n_head, img_size // 4, dropout, d_ff, L3\n",
        "        )\n",
        "        self.upsample1 = Upsample(d_model * 2, d_model * 2)\n",
        "\n",
        "        self.diffit_res_block_group4 = DiffiTResBlockGroup(\n",
        "            d_model * 2, d_model * 2, d_model, n_head, img_size // 2, dropout, d_ff, L2\n",
        "        )\n",
        "        self.upsample2 = Upsample(d_model * 2, d_model)\n",
        "\n",
        "        self.diffit_res_block_group5 = DiffiTResBlockGroup(\n",
        "            d_model, d_model, d_model, n_head, img_size, dropout, d_ff, L1\n",
        "        )\n",
        "\n",
        "        # Head for generating final predictions\n",
        "        self.head = Head(d_model)\n",
        "\n",
        "    def forward(self, x_s, t):\n",
        "        \"\"\"\n",
        "        Forward pass of the ImageSpaceDiffiTModel.\n",
        "\n",
        "        Parameters:\n",
        "        - x_s (torch.Tensor): Input tensor representing spatial features.\n",
        "        - t (torch.Tensor): Time tensor.\n",
        "\n",
        "        Returns:\n",
        "        - torch.Tensor: Output tensor representing final predictions.\n",
        "        \"\"\"\n",
        "\n",
        "        # Tokenize input images\n",
        "        x_s = self.tokenizer(x_s)\n",
        "\n",
        "        # Encoder\n",
        "        out_downsample1 = self.downsample1(self.diffit_res_block_group1(x_s, t))\n",
        "        out_downsample2 = self.downsample2(self.diffit_res_block_group2(out_downsample1, t))\n",
        "\n",
        "        # Decoder\n",
        "        out_upsample1 = self.upsample1(self.diffit_res_block_group3(out_downsample2, t) + out_downsample2)\n",
        "        out_upsample2 = self.upsample2(self.diffit_res_block_group4(out_upsample1, t) + out_downsample1)\n",
        "        out = self.diffit_res_block_group5(out_upsample2, t)\n",
        "\n",
        "        # Head for generating final predictions\n",
        "        out = self.head(out)\n",
        "\n",
        "        return out\n",
        "\n",
        "    def training_step(self, batch, batch_idx):\n",
        "        \"\"\"\n",
        "        Training step for the Lightning module.\n",
        "\n",
        "        Parameters:\n",
        "        - batch (torch.Tensor): Batch of data.\n",
        "        - batch_idx (int): Index of the current batch.\n",
        "\n",
        "        Returns:\n",
        "        - torch.Tensor: Loss tensor for the current step.\n",
        "        \"\"\"\n",
        "\n",
        "        # Generate random time indices\n",
        "        t = torch.randint(0, T, (len(batch),), device=device).long()\n",
        "\n",
        "        # Generate noisy data for training\n",
        "        batch_noisy, initial_noise = noisify(batch, T, t)\n",
        "\n",
        "        # Predict noise\n",
        "        predicted_noise = self(batch_noisy, t)\n",
        "\n",
        "        # Calculate loss\n",
        "        loss = F.smooth_l1_loss(initial_noise, predicted_noise)\n",
        "\n",
        "        # Log and return loss\n",
        "        self.log('train_loss', loss, on_step=True, on_epoch=True, prog_bar=True)\n",
        "        return loss\n",
        "\n",
        "    def test_step(self, batch, batch_idx):\n",
        "        \"\"\"\n",
        "        Test step for the Lightning module.\n",
        "\n",
        "        Parameters:\n",
        "        - batch (torch.Tensor): Batch of data.\n",
        "        - batch_idx (int): Index of the current batch.\n",
        "\n",
        "        Returns:\n",
        "        - torch.Tensor: Loss tensor for the current step.\n",
        "        \"\"\"\n",
        "\n",
        "        # Generate random time indices\n",
        "        t = torch.randint(0, T, (len(batch),), device=device).long()\n",
        "\n",
        "        # Generate noisy data for testing\n",
        "        batch_noisy, initial_noise = noisify(batch, T, t)\n",
        "\n",
        "        # Predict noise\n",
        "        predicted_noise = self(batch_noisy, t)\n",
        "\n",
        "        # Calculate loss\n",
        "        loss = F.smooth_l1_loss(initial_noise, predicted_noise)\n",
        "\n",
        "        # Log and return loss\n",
        "        self.log('test_loss', loss, on_step=True, on_epoch=True, prog_bar=True)\n",
        "        return loss\n",
        "\n",
        "    def configure_optimizers(self):\n",
        "        \"\"\"\n",
        "        Configure optimizer for training.\n",
        "\n",
        "        Returns:\n",
        "        - torch.optim.Optimizer: Optimizer instance.\n",
        "        \"\"\"\n",
        "\n",
        "        return torch.optim.Adam(self.parameters(), lr=1e-3)"
      ]
    },
    {
      "cell_type": "markdown",
      "metadata": {
        "id": "CgeZqwIUFXpy"
      },
      "source": [
        "### Training & Testing"
      ]
    },
    {
      "cell_type": "markdown",
      "metadata": {
        "id": "K8muImyV-lrt"
      },
      "source": [
        "#### CIFAR-10"
      ]
    },
    {
      "cell_type": "markdown",
      "source": [
        "##### Creating the Model"
      ],
      "metadata": {
        "id": "v0TQB1epaglT"
      }
    },
    {
      "cell_type": "code",
      "execution_count": 27,
      "metadata": {
        "id": "RMRkw3uCFUuD"
      },
      "outputs": [],
      "source": [
        "# Create an instance of the ImageSpaceDiffiTModel\n",
        "image_space_diffit_model_cifar = ImageSpaceDiffiTModel(\n",
        "    d_model=D_MODEL,        # Dimensionality of the model\n",
        "    n_head=N_HEAD,          # Number of attention heads\n",
        "    img_size=IMG_SIZE,      # Size of input images (assuming square images)\n",
        "    dropout=DROPOUT_PROB,   # Dropout probability\n",
        "    d_ff=D_FF,              # Dimensionality of the feedforward layer\n",
        ")\n",
        "\n",
        "# Move the model to the specified device\n",
        "image_space_diffit_model_cifar = image_space_diffit_model_cifar.to(device)"
      ]
    },
    {
      "cell_type": "markdown",
      "source": [
        "##### Creating the Trainer"
      ],
      "metadata": {
        "id": "mbrRZgRTaixP"
      }
    },
    {
      "cell_type": "code",
      "execution_count": 28,
      "metadata": {
        "id": "9QKzHYiTGh-A",
        "colab": {
          "base_uri": "https://localhost:8080/"
        },
        "outputId": "cb7d874d-2053-4d10-9556-9e0c01fe9fa3"
      },
      "outputs": [
        {
          "output_type": "stream",
          "name": "stderr",
          "text": [
            "INFO:pytorch_lightning.utilities.rank_zero:GPU available: True (cuda), used: True\n",
            "INFO:pytorch_lightning.utilities.rank_zero:TPU available: False, using: 0 TPU cores\n",
            "INFO:pytorch_lightning.utilities.rank_zero:IPU available: False, using: 0 IPUs\n",
            "INFO:pytorch_lightning.utilities.rank_zero:HPU available: False, using: 0 HPUs\n"
          ]
        }
      ],
      "source": [
        "# TensorBoardLogger for logging metrics during training\n",
        "logger = TensorBoardLogger(\"/content/drive/MyDrive/DiffiT/tb_logs\", name=\"image_space_diffit_model_cifar\")\n",
        "\n",
        "# ModelCheckpoint callback for saving model checkpoints during training\n",
        "checkpoint_callback = ModelCheckpoint(\n",
        "    filename='image_space_diffit_model_cifar-{epoch}-{train_loss:.2f}', # Filename template for saved checkpoints\n",
        "    mode=\"min\",                                                         # Mode for selecting the best checkpoint (minimizing loss)\n",
        "    every_n_epochs=1,                                                   # Save checkpoint every N epochs\n",
        "    save_top_k=1,                                                       # Save only the best checkpoint\n",
        ")\n",
        "\n",
        "# Lightning Trainer configuration\n",
        "trainer = pl.Trainer(\n",
        "    logger=logger,                                      # TensorBoard logger for logging\n",
        "    max_epochs=N_EPOCH,                                 # Maximum number of epochs for training\n",
        "    devices=1,                                          # Number of GPUs to use for training (or '0' for CPU)\n",
        "    callbacks=[RichProgressBar(), checkpoint_callback], # Callbacks for additional functionality during training\n",
        ")"
      ]
    },
    {
      "cell_type": "markdown",
      "source": [
        "##### Training"
      ],
      "metadata": {
        "id": "0O1xT1Stak3y"
      }
    },
    {
      "cell_type": "code",
      "execution_count": 29,
      "metadata": {
        "id": "1nsf_PvtHoxH",
        "colab": {
          "base_uri": "https://localhost:8080/",
          "height": 554,
          "referenced_widgets": [
            "7a50aa0dc7504454a41fc85c4f3a28cb",
            "acdc81aeb79b4118b0e0e872428e4d86"
          ]
        },
        "outputId": "96e0ca63-56c3-4133-a80b-62e5cf01fadf"
      },
      "outputs": [
        {
          "output_type": "stream",
          "name": "stderr",
          "text": [
            "/usr/local/lib/python3.10/dist-packages/pytorch_lightning/trainer/connectors/checkpoint_connector.py:186: .fit(ckpt_path=\"last\") is set, but there is no last checkpoint available. No checkpoint will be loaded. HINT: Set `ModelCheckpoint(..., save_last=True)`.\n",
            "INFO:pytorch_lightning.accelerators.cuda:LOCAL_RANK: 0 - CUDA_VISIBLE_DEVICES: [0]\n"
          ]
        },
        {
          "output_type": "display_data",
          "data": {
            "text/plain": [
              "┏━━━━┳━━━━━━━━━━━━━━━━━━━━━━━━━┳━━━━━━━━━━━━━━━━━━━━━┳━━━━━━━━┓\n",
              "┃\u001b[1;35m \u001b[0m\u001b[1;35m  \u001b[0m\u001b[1;35m \u001b[0m┃\u001b[1;35m \u001b[0m\u001b[1;35mName                   \u001b[0m\u001b[1;35m \u001b[0m┃\u001b[1;35m \u001b[0m\u001b[1;35mType               \u001b[0m\u001b[1;35m \u001b[0m┃\u001b[1;35m \u001b[0m\u001b[1;35mParams\u001b[0m\u001b[1;35m \u001b[0m┃\n",
              "┡━━━━╇━━━━━━━━━━━━━━━━━━━━━━━━━╇━━━━━━━━━━━━━━━━━━━━━╇━━━━━━━━┩\n",
              "│\u001b[2m \u001b[0m\u001b[2m0 \u001b[0m\u001b[2m \u001b[0m│ tokenizer               │ Tokenizer           │  3.6 K │\n",
              "│\u001b[2m \u001b[0m\u001b[2m1 \u001b[0m\u001b[2m \u001b[0m│ diffit_res_block_group1 │ DiffiTResBlockGroup │  1.7 M │\n",
              "│\u001b[2m \u001b[0m\u001b[2m2 \u001b[0m\u001b[2m \u001b[0m│ downsample1             │ Downsample          │  295 K │\n",
              "│\u001b[2m \u001b[0m\u001b[2m3 \u001b[0m\u001b[2m \u001b[0m│ diffit_res_block_group2 │ DiffiTResBlockGroup │  4.8 M │\n",
              "│\u001b[2m \u001b[0m\u001b[2m4 \u001b[0m\u001b[2m \u001b[0m│ downsample2             │ Downsample          │  590 K │\n",
              "│\u001b[2m \u001b[0m\u001b[2m5 \u001b[0m\u001b[2m \u001b[0m│ diffit_res_block_group3 │ DiffiTResBlockGroup │  4.5 M │\n",
              "│\u001b[2m \u001b[0m\u001b[2m6 \u001b[0m\u001b[2m \u001b[0m│ upsample1               │ Upsample            │  590 K │\n",
              "│\u001b[2m \u001b[0m\u001b[2m7 \u001b[0m\u001b[2m \u001b[0m│ diffit_res_block_group4 │ DiffiTResBlockGroup │  4.8 M │\n",
              "│\u001b[2m \u001b[0m\u001b[2m8 \u001b[0m\u001b[2m \u001b[0m│ upsample2               │ Upsample            │  295 K │\n",
              "│\u001b[2m \u001b[0m\u001b[2m9 \u001b[0m\u001b[2m \u001b[0m│ diffit_res_block_group5 │ DiffiTResBlockGroup │  1.7 M │\n",
              "│\u001b[2m \u001b[0m\u001b[2m10\u001b[0m\u001b[2m \u001b[0m│ head                    │ Head                │  3.7 K │\n",
              "└────┴─────────────────────────┴─────────────────────┴────────┘\n"
            ],
            "text/html": [
              "<pre style=\"white-space:pre;overflow-x:auto;line-height:normal;font-family:Menlo,'DejaVu Sans Mono',consolas,'Courier New',monospace\">┏━━━━┳━━━━━━━━━━━━━━━━━━━━━━━━━┳━━━━━━━━━━━━━━━━━━━━━┳━━━━━━━━┓\n",
              "┃<span style=\"color: #800080; text-decoration-color: #800080; font-weight: bold\">    </span>┃<span style=\"color: #800080; text-decoration-color: #800080; font-weight: bold\"> Name                    </span>┃<span style=\"color: #800080; text-decoration-color: #800080; font-weight: bold\"> Type                </span>┃<span style=\"color: #800080; text-decoration-color: #800080; font-weight: bold\"> Params </span>┃\n",
              "┡━━━━╇━━━━━━━━━━━━━━━━━━━━━━━━━╇━━━━━━━━━━━━━━━━━━━━━╇━━━━━━━━┩\n",
              "│<span style=\"color: #7f7f7f; text-decoration-color: #7f7f7f\"> 0  </span>│ tokenizer               │ Tokenizer           │  3.6 K │\n",
              "│<span style=\"color: #7f7f7f; text-decoration-color: #7f7f7f\"> 1  </span>│ diffit_res_block_group1 │ DiffiTResBlockGroup │  1.7 M │\n",
              "│<span style=\"color: #7f7f7f; text-decoration-color: #7f7f7f\"> 2  </span>│ downsample1             │ Downsample          │  295 K │\n",
              "│<span style=\"color: #7f7f7f; text-decoration-color: #7f7f7f\"> 3  </span>│ diffit_res_block_group2 │ DiffiTResBlockGroup │  4.8 M │\n",
              "│<span style=\"color: #7f7f7f; text-decoration-color: #7f7f7f\"> 4  </span>│ downsample2             │ Downsample          │  590 K │\n",
              "│<span style=\"color: #7f7f7f; text-decoration-color: #7f7f7f\"> 5  </span>│ diffit_res_block_group3 │ DiffiTResBlockGroup │  4.5 M │\n",
              "│<span style=\"color: #7f7f7f; text-decoration-color: #7f7f7f\"> 6  </span>│ upsample1               │ Upsample            │  590 K │\n",
              "│<span style=\"color: #7f7f7f; text-decoration-color: #7f7f7f\"> 7  </span>│ diffit_res_block_group4 │ DiffiTResBlockGroup │  4.8 M │\n",
              "│<span style=\"color: #7f7f7f; text-decoration-color: #7f7f7f\"> 8  </span>│ upsample2               │ Upsample            │  295 K │\n",
              "│<span style=\"color: #7f7f7f; text-decoration-color: #7f7f7f\"> 9  </span>│ diffit_res_block_group5 │ DiffiTResBlockGroup │  1.7 M │\n",
              "│<span style=\"color: #7f7f7f; text-decoration-color: #7f7f7f\"> 10 </span>│ head                    │ Head                │  3.7 K │\n",
              "└────┴─────────────────────────┴─────────────────────┴────────┘\n",
              "</pre>\n"
            ]
          },
          "metadata": {}
        },
        {
          "output_type": "display_data",
          "data": {
            "text/plain": [
              "\u001b[1mTrainable params\u001b[0m: 19.3 M                                                                                           \n",
              "\u001b[1mNon-trainable params\u001b[0m: 0                                                                                            \n",
              "\u001b[1mTotal params\u001b[0m: 19.3 M                                                                                               \n",
              "\u001b[1mTotal estimated model params size (MB)\u001b[0m: 77                                                                         \n"
            ],
            "text/html": [
              "<pre style=\"white-space:pre;overflow-x:auto;line-height:normal;font-family:Menlo,'DejaVu Sans Mono',consolas,'Courier New',monospace\"><span style=\"font-weight: bold\">Trainable params</span>: 19.3 M                                                                                           \n",
              "<span style=\"font-weight: bold\">Non-trainable params</span>: 0                                                                                            \n",
              "<span style=\"font-weight: bold\">Total params</span>: 19.3 M                                                                                               \n",
              "<span style=\"font-weight: bold\">Total estimated model params size (MB)</span>: 77                                                                         \n",
              "</pre>\n"
            ]
          },
          "metadata": {}
        },
        {
          "output_type": "stream",
          "name": "stderr",
          "text": [
            "/usr/lib/python3.10/multiprocessing/popen_fork.py:66: RuntimeWarning: os.fork() was called. os.fork() is incompatible with multithreaded code, and JAX is multithreaded, so this will likely lead to a deadlock.\n",
            "  self.pid = os.fork()\n"
          ]
        },
        {
          "output_type": "display_data",
          "data": {
            "text/plain": [
              "Output()"
            ],
            "application/vnd.jupyter.widget-view+json": {
              "version_major": 2,
              "version_minor": 0,
              "model_id": "7a50aa0dc7504454a41fc85c4f3a28cb"
            }
          },
          "metadata": {}
        },
        {
          "output_type": "display_data",
          "data": {
            "text/plain": [
              "/usr/local/lib/python3.10/dist-packages/torch/autograd/graph.py:744: UserWarning: Plan failed with a \n",
              "cudnnException: CUDNN_BACKEND_EXECUTION_PLAN_DESCRIPTOR: cudnnFinalize Descriptor Failed cudnn_status: \n",
              "CUDNN_STATUS_NOT_SUPPORTED (Triggered internally at ../aten/src/ATen/native/cudnn/Conv_v8.cpp:919.)\n",
              "  return Variable._execution_engine.run_backward(  # Calls into the C++ engine to run the backward pass\n"
            ],
            "text/html": [
              "<pre style=\"white-space:pre;overflow-x:auto;line-height:normal;font-family:Menlo,'DejaVu Sans Mono',consolas,'Courier New',monospace\">/usr/local/lib/python3.10/dist-packages/torch/autograd/graph.py:744: UserWarning: Plan failed with a \n",
              "cudnnException: CUDNN_BACKEND_EXECUTION_PLAN_DESCRIPTOR: cudnnFinalize Descriptor Failed cudnn_status: \n",
              "CUDNN_STATUS_NOT_SUPPORTED (Triggered internally at ../aten/src/ATen/native/cudnn/Conv_v8.cpp:919.)\n",
              "  return Variable._execution_engine.run_backward(  # Calls into the C++ engine to run the backward pass\n",
              "</pre>\n"
            ]
          },
          "metadata": {}
        },
        {
          "output_type": "display_data",
          "data": {
            "text/plain": [
              "/usr/local/lib/python3.10/dist-packages/pytorch_lightning/trainer/call.py:54: Detected KeyboardInterrupt, \n",
              "attempting graceful shutdown...\n"
            ],
            "text/html": [
              "<pre style=\"white-space:pre;overflow-x:auto;line-height:normal;font-family:Menlo,'DejaVu Sans Mono',consolas,'Courier New',monospace\">/usr/local/lib/python3.10/dist-packages/pytorch_lightning/trainer/call.py:54: Detected KeyboardInterrupt, \n",
              "attempting graceful shutdown...\n",
              "</pre>\n"
            ]
          },
          "metadata": {}
        },
        {
          "output_type": "display_data",
          "data": {
            "text/plain": [],
            "text/html": [
              "<pre style=\"white-space:pre;overflow-x:auto;line-height:normal;font-family:Menlo,'DejaVu Sans Mono',consolas,'Courier New',monospace\"></pre>\n"
            ]
          },
          "metadata": {}
        },
        {
          "output_type": "display_data",
          "data": {
            "text/plain": [
              "\n"
            ],
            "text/html": [
              "<pre style=\"white-space:pre;overflow-x:auto;line-height:normal;font-family:Menlo,'DejaVu Sans Mono',consolas,'Courier New',monospace\">\n",
              "</pre>\n"
            ]
          },
          "metadata": {}
        }
      ],
      "source": [
        "# Initiates the training process\n",
        "trainer.fit(image_space_diffit_model_cifar, cifar_train_loader, ckpt_path=\"last\")"
      ]
    },
    {
      "cell_type": "markdown",
      "source": [
        "##### Testing"
      ],
      "metadata": {
        "id": "YwcgFz3AanSo"
      }
    },
    {
      "cell_type": "code",
      "execution_count": null,
      "metadata": {
        "id": "OeGXqXzjp02c",
        "colab": {
          "base_uri": "https://localhost:8080/",
          "height": 152,
          "referenced_widgets": [
            "e4afb5d6b9774522bd69a4efc6d3fc4d",
            "d25027c90fd140528df7d2c28c11b371"
          ]
        },
        "outputId": "6a24c02c-992e-44e5-9f57-2aff6346faa7"
      },
      "outputs": [
        {
          "output_type": "stream",
          "name": "stderr",
          "text": [
            "INFO:pytorch_lightning.accelerators.cuda:LOCAL_RANK: 0 - CUDA_VISIBLE_DEVICES: [0]\n"
          ]
        },
        {
          "output_type": "display_data",
          "data": {
            "text/plain": [
              "Output()"
            ],
            "application/vnd.jupyter.widget-view+json": {
              "version_major": 2,
              "version_minor": 0,
              "model_id": "e4afb5d6b9774522bd69a4efc6d3fc4d"
            }
          },
          "metadata": {}
        },
        {
          "output_type": "display_data",
          "data": {
            "text/plain": [
              "┏━━━━━━━━━━━━━━━━━━━━━━━━━━━┳━━━━━━━━━━━━━━━━━━━━━━━━━━━┓\n",
              "┃\u001b[1m \u001b[0m\u001b[1m       Test metric       \u001b[0m\u001b[1m \u001b[0m┃\u001b[1m \u001b[0m\u001b[1m      DataLoader 0       \u001b[0m\u001b[1m \u001b[0m┃\n",
              "┡━━━━━━━━━━━━━━━━━━━━━━━━━━━╇━━━━━━━━━━━━━━━━━━━━━━━━━━━┩\n",
              "│\u001b[36m \u001b[0m\u001b[36m     test_loss_epoch     \u001b[0m\u001b[36m \u001b[0m│\u001b[35m \u001b[0m\u001b[35m  0.015266939997673035   \u001b[0m\u001b[35m \u001b[0m│\n",
              "└───────────────────────────┴───────────────────────────┘\n"
            ],
            "text/html": [
              "<pre style=\"white-space:pre;overflow-x:auto;line-height:normal;font-family:Menlo,'DejaVu Sans Mono',consolas,'Courier New',monospace\">┏━━━━━━━━━━━━━━━━━━━━━━━━━━━┳━━━━━━━━━━━━━━━━━━━━━━━━━━━┓\n",
              "┃<span style=\"font-weight: bold\">        Test metric        </span>┃<span style=\"font-weight: bold\">       DataLoader 0        </span>┃\n",
              "┡━━━━━━━━━━━━━━━━━━━━━━━━━━━╇━━━━━━━━━━━━━━━━━━━━━━━━━━━┩\n",
              "│<span style=\"color: #008080; text-decoration-color: #008080\">      test_loss_epoch      </span>│<span style=\"color: #800080; text-decoration-color: #800080\">   0.015266939997673035    </span>│\n",
              "└───────────────────────────┴───────────────────────────┘\n",
              "</pre>\n"
            ]
          },
          "metadata": {}
        },
        {
          "output_type": "display_data",
          "data": {
            "text/plain": [],
            "text/html": [
              "<pre style=\"white-space:pre;overflow-x:auto;line-height:normal;font-family:Menlo,'DejaVu Sans Mono',consolas,'Courier New',monospace\"></pre>\n"
            ]
          },
          "metadata": {}
        },
        {
          "output_type": "display_data",
          "data": {
            "text/plain": [
              "\n"
            ],
            "text/html": [
              "<pre style=\"white-space:pre;overflow-x:auto;line-height:normal;font-family:Menlo,'DejaVu Sans Mono',consolas,'Courier New',monospace\">\n",
              "</pre>\n"
            ]
          },
          "metadata": {}
        },
        {
          "output_type": "execute_result",
          "data": {
            "text/plain": [
              "[{'test_loss_epoch': 0.015266939997673035}]"
            ]
          },
          "metadata": {},
          "execution_count": 33
        }
      ],
      "source": [
        "# Initiates the testing process\n",
        "trainer.test(image_space_diffit_model_cifar, cifar_test_loader)"
      ]
    },
    {
      "cell_type": "markdown",
      "metadata": {
        "id": "93cVGcRa--a8"
      },
      "source": [
        "#### Tiny ImageNet"
      ]
    },
    {
      "cell_type": "markdown",
      "source": [
        "##### Creating the Model"
      ],
      "metadata": {
        "id": "TlhpOCfDapk2"
      }
    },
    {
      "cell_type": "code",
      "execution_count": null,
      "metadata": {
        "id": "j3yb_G9ui1f1"
      },
      "outputs": [],
      "source": [
        "# Create an instance of the ImageSpaceDiffiTModel\n",
        "image_space_diffit_model_imagenet = ImageSpaceDiffiTModel(\n",
        "    d_model=D_MODEL,        # Dimensionality of the model\n",
        "    n_head=N_HEAD,          # Number of attention heads\n",
        "    img_size=IMG_SIZE,      # Size of input images (assuming square images)\n",
        "    dropout=DROPOUT_PROB,   # Dropout probability\n",
        "    d_ff=D_FF,              # Dimensionality of the feedforward layer\n",
        ")\n",
        "\n",
        "# Move the model to the specified device\n",
        "image_space_diffit_model_imagenet = image_space_diffit_model_imagenet.to(device)"
      ]
    },
    {
      "cell_type": "markdown",
      "source": [
        "##### Creating the Trainer"
      ],
      "metadata": {
        "id": "2v00-TDjasVs"
      }
    },
    {
      "cell_type": "code",
      "execution_count": null,
      "metadata": {
        "id": "j4EpleIW-WLO",
        "colab": {
          "base_uri": "https://localhost:8080/"
        },
        "outputId": "5134072f-4c85-4d1a-9348-fd4003eeae13"
      },
      "outputs": [
        {
          "output_type": "stream",
          "name": "stderr",
          "text": [
            "INFO:pytorch_lightning.utilities.rank_zero:GPU available: True (cuda), used: True\n",
            "INFO:pytorch_lightning.utilities.rank_zero:TPU available: False, using: 0 TPU cores\n",
            "INFO:pytorch_lightning.utilities.rank_zero:IPU available: False, using: 0 IPUs\n",
            "INFO:pytorch_lightning.utilities.rank_zero:HPU available: False, using: 0 HPUs\n"
          ]
        }
      ],
      "source": [
        "# TensorBoardLogger for logging metrics during training\n",
        "logger = TensorBoardLogger(\"/content/drive/MyDrive/DiffiT/tb_logs\", name=\"image_space_diffit_model_imagenet\")\n",
        "\n",
        "# ModelCheckpoint callback for saving model checkpoints during training\n",
        "checkpoint_callback = ModelCheckpoint(\n",
        "    filename='image_space_diffit_model_imagenet-{epoch}-{train_loss:.2f}',  # Filename template for saved checkpoints\n",
        "    mode=\"min\",                                                             # Mode for selecting the best checkpoint (minimizing loss)\n",
        "    every_n_epochs=1,                                                       # Save checkpoint every N epochs\n",
        "    save_top_k=1,                                                           # Save only the best checkpoint\n",
        ")\n",
        "\n",
        "# Lightning Trainer configuration\n",
        "trainer = pl.Trainer(\n",
        "    logger=logger,                                      # TensorBoard logger for logging\n",
        "    max_epochs=N_EPOCH,                                 # Maximum number of epochs for training\n",
        "    devices=1,                                          # Number of GPUs to use for training (or '0' for CPU)\n",
        "    callbacks=[RichProgressBar(), checkpoint_callback], # Callbacks for additional functionality during training\n",
        ")"
      ]
    },
    {
      "cell_type": "markdown",
      "source": [
        "##### Training"
      ],
      "metadata": {
        "id": "5mA9pN0BausK"
      }
    },
    {
      "cell_type": "code",
      "execution_count": null,
      "metadata": {
        "colab": {
          "base_uri": "https://localhost:8080/",
          "height": 557,
          "referenced_widgets": [
            "07655978b3a74f1abc51c00a4d4865f2",
            "d914c49edeb342f399de7124264e18c2"
          ]
        },
        "id": "WKDzaqWP_GSk",
        "outputId": "d75ddddf-62fd-4400-bc31-f153a6bcca0a"
      },
      "outputs": [
        {
          "output_type": "stream",
          "name": "stderr",
          "text": [
            "INFO:pytorch_lightning.accelerators.cuda:LOCAL_RANK: 0 - CUDA_VISIBLE_DEVICES: [0]\n"
          ]
        },
        {
          "output_type": "display_data",
          "data": {
            "text/plain": [
              "┏━━━━┳━━━━━━━━━━━━━━━━━━━━━━━━━┳━━━━━━━━━━━━━━━━━━━━━┳━━━━━━━━┓\n",
              "┃\u001b[1;35m \u001b[0m\u001b[1;35m  \u001b[0m\u001b[1;35m \u001b[0m┃\u001b[1;35m \u001b[0m\u001b[1;35mName                   \u001b[0m\u001b[1;35m \u001b[0m┃\u001b[1;35m \u001b[0m\u001b[1;35mType               \u001b[0m\u001b[1;35m \u001b[0m┃\u001b[1;35m \u001b[0m\u001b[1;35mParams\u001b[0m\u001b[1;35m \u001b[0m┃\n",
              "┡━━━━╇━━━━━━━━━━━━━━━━━━━━━━━━━╇━━━━━━━━━━━━━━━━━━━━━╇━━━━━━━━┩\n",
              "│\u001b[2m \u001b[0m\u001b[2m0 \u001b[0m\u001b[2m \u001b[0m│ tokenizer               │ Tokenizer           │  3.6 K │\n",
              "│\u001b[2m \u001b[0m\u001b[2m1 \u001b[0m\u001b[2m \u001b[0m│ diffit_res_block_group1 │ DiffiTResBlockGroup │  1.7 M │\n",
              "│\u001b[2m \u001b[0m\u001b[2m2 \u001b[0m\u001b[2m \u001b[0m│ downsample1             │ Downsample          │  295 K │\n",
              "│\u001b[2m \u001b[0m\u001b[2m3 \u001b[0m\u001b[2m \u001b[0m│ diffit_res_block_group2 │ DiffiTResBlockGroup │  4.8 M │\n",
              "│\u001b[2m \u001b[0m\u001b[2m4 \u001b[0m\u001b[2m \u001b[0m│ downsample2             │ Downsample          │  590 K │\n",
              "│\u001b[2m \u001b[0m\u001b[2m5 \u001b[0m\u001b[2m \u001b[0m│ diffit_res_block_group3 │ DiffiTResBlockGroup │  4.5 M │\n",
              "│\u001b[2m \u001b[0m\u001b[2m6 \u001b[0m\u001b[2m \u001b[0m│ upsample1               │ Upsample            │  590 K │\n",
              "│\u001b[2m \u001b[0m\u001b[2m7 \u001b[0m\u001b[2m \u001b[0m│ diffit_res_block_group4 │ DiffiTResBlockGroup │  4.8 M │\n",
              "│\u001b[2m \u001b[0m\u001b[2m8 \u001b[0m\u001b[2m \u001b[0m│ upsample2               │ Upsample            │  295 K │\n",
              "│\u001b[2m \u001b[0m\u001b[2m9 \u001b[0m\u001b[2m \u001b[0m│ diffit_res_block_group5 │ DiffiTResBlockGroup │  1.7 M │\n",
              "│\u001b[2m \u001b[0m\u001b[2m10\u001b[0m\u001b[2m \u001b[0m│ head                    │ Head                │  3.7 K │\n",
              "└────┴─────────────────────────┴─────────────────────┴────────┘\n"
            ],
            "text/html": [
              "<pre style=\"white-space:pre;overflow-x:auto;line-height:normal;font-family:Menlo,'DejaVu Sans Mono',consolas,'Courier New',monospace\">┏━━━━┳━━━━━━━━━━━━━━━━━━━━━━━━━┳━━━━━━━━━━━━━━━━━━━━━┳━━━━━━━━┓\n",
              "┃<span style=\"color: #800080; text-decoration-color: #800080; font-weight: bold\">    </span>┃<span style=\"color: #800080; text-decoration-color: #800080; font-weight: bold\"> Name                    </span>┃<span style=\"color: #800080; text-decoration-color: #800080; font-weight: bold\"> Type                </span>┃<span style=\"color: #800080; text-decoration-color: #800080; font-weight: bold\"> Params </span>┃\n",
              "┡━━━━╇━━━━━━━━━━━━━━━━━━━━━━━━━╇━━━━━━━━━━━━━━━━━━━━━╇━━━━━━━━┩\n",
              "│<span style=\"color: #7f7f7f; text-decoration-color: #7f7f7f\"> 0  </span>│ tokenizer               │ Tokenizer           │  3.6 K │\n",
              "│<span style=\"color: #7f7f7f; text-decoration-color: #7f7f7f\"> 1  </span>│ diffit_res_block_group1 │ DiffiTResBlockGroup │  1.7 M │\n",
              "│<span style=\"color: #7f7f7f; text-decoration-color: #7f7f7f\"> 2  </span>│ downsample1             │ Downsample          │  295 K │\n",
              "│<span style=\"color: #7f7f7f; text-decoration-color: #7f7f7f\"> 3  </span>│ diffit_res_block_group2 │ DiffiTResBlockGroup │  4.8 M │\n",
              "│<span style=\"color: #7f7f7f; text-decoration-color: #7f7f7f\"> 4  </span>│ downsample2             │ Downsample          │  590 K │\n",
              "│<span style=\"color: #7f7f7f; text-decoration-color: #7f7f7f\"> 5  </span>│ diffit_res_block_group3 │ DiffiTResBlockGroup │  4.5 M │\n",
              "│<span style=\"color: #7f7f7f; text-decoration-color: #7f7f7f\"> 6  </span>│ upsample1               │ Upsample            │  590 K │\n",
              "│<span style=\"color: #7f7f7f; text-decoration-color: #7f7f7f\"> 7  </span>│ diffit_res_block_group4 │ DiffiTResBlockGroup │  4.8 M │\n",
              "│<span style=\"color: #7f7f7f; text-decoration-color: #7f7f7f\"> 8  </span>│ upsample2               │ Upsample            │  295 K │\n",
              "│<span style=\"color: #7f7f7f; text-decoration-color: #7f7f7f\"> 9  </span>│ diffit_res_block_group5 │ DiffiTResBlockGroup │  1.7 M │\n",
              "│<span style=\"color: #7f7f7f; text-decoration-color: #7f7f7f\"> 10 </span>│ head                    │ Head                │  3.7 K │\n",
              "└────┴─────────────────────────┴─────────────────────┴────────┘\n",
              "</pre>\n"
            ]
          },
          "metadata": {}
        },
        {
          "output_type": "display_data",
          "data": {
            "text/plain": [
              "\u001b[1mTrainable params\u001b[0m: 19.3 M                                                                                           \n",
              "\u001b[1mNon-trainable params\u001b[0m: 0                                                                                            \n",
              "\u001b[1mTotal params\u001b[0m: 19.3 M                                                                                               \n",
              "\u001b[1mTotal estimated model params size (MB)\u001b[0m: 77                                                                         \n"
            ],
            "text/html": [
              "<pre style=\"white-space:pre;overflow-x:auto;line-height:normal;font-family:Menlo,'DejaVu Sans Mono',consolas,'Courier New',monospace\"><span style=\"font-weight: bold\">Trainable params</span>: 19.3 M                                                                                           \n",
              "<span style=\"font-weight: bold\">Non-trainable params</span>: 0                                                                                            \n",
              "<span style=\"font-weight: bold\">Total params</span>: 19.3 M                                                                                               \n",
              "<span style=\"font-weight: bold\">Total estimated model params size (MB)</span>: 77                                                                         \n",
              "</pre>\n"
            ]
          },
          "metadata": {}
        },
        {
          "output_type": "stream",
          "name": "stderr",
          "text": [
            "/usr/lib/python3.10/multiprocessing/popen_fork.py:66: RuntimeWarning: os.fork() was called. os.fork() is incompatible with multithreaded code, and JAX is multithreaded, so this will likely lead to a deadlock.\n",
            "  self.pid = os.fork()\n"
          ]
        },
        {
          "output_type": "display_data",
          "data": {
            "text/plain": [
              "Output()"
            ],
            "application/vnd.jupyter.widget-view+json": {
              "version_major": 2,
              "version_minor": 0,
              "model_id": "07655978b3a74f1abc51c00a4d4865f2"
            }
          },
          "metadata": {}
        },
        {
          "output_type": "display_data",
          "data": {
            "text/plain": [
              "/usr/local/lib/python3.10/dist-packages/torch/autograd/graph.py:744: UserWarning: Plan failed with a \n",
              "cudnnException: CUDNN_BACKEND_EXECUTION_PLAN_DESCRIPTOR: cudnnFinalize Descriptor Failed cudnn_status: \n",
              "CUDNN_STATUS_NOT_SUPPORTED (Triggered internally at ../aten/src/ATen/native/cudnn/Conv_v8.cpp:919.)\n",
              "  return Variable._execution_engine.run_backward(  # Calls into the C++ engine to run the backward pass\n"
            ],
            "text/html": [
              "<pre style=\"white-space:pre;overflow-x:auto;line-height:normal;font-family:Menlo,'DejaVu Sans Mono',consolas,'Courier New',monospace\">/usr/local/lib/python3.10/dist-packages/torch/autograd/graph.py:744: UserWarning: Plan failed with a \n",
              "cudnnException: CUDNN_BACKEND_EXECUTION_PLAN_DESCRIPTOR: cudnnFinalize Descriptor Failed cudnn_status: \n",
              "CUDNN_STATUS_NOT_SUPPORTED (Triggered internally at ../aten/src/ATen/native/cudnn/Conv_v8.cpp:919.)\n",
              "  return Variable._execution_engine.run_backward(  # Calls into the C++ engine to run the backward pass\n",
              "</pre>\n"
            ]
          },
          "metadata": {}
        },
        {
          "output_type": "stream",
          "name": "stderr",
          "text": [
            "/usr/lib/python3.10/multiprocessing/popen_fork.py:66: RuntimeWarning: os.fork() was called. os.fork() is incompatible with multithreaded code, and JAX is multithreaded, so this will likely lead to a deadlock.\n",
            "  self.pid = os.fork()\n",
            "INFO:pytorch_lightning.utilities.rank_zero:`Trainer.fit` stopped: `max_epochs=3` reached.\n"
          ]
        },
        {
          "output_type": "display_data",
          "data": {
            "text/plain": [],
            "text/html": [
              "<pre style=\"white-space:pre;overflow-x:auto;line-height:normal;font-family:Menlo,'DejaVu Sans Mono',consolas,'Courier New',monospace\"></pre>\n"
            ]
          },
          "metadata": {}
        },
        {
          "output_type": "display_data",
          "data": {
            "text/plain": [
              "\n"
            ],
            "text/html": [
              "<pre style=\"white-space:pre;overflow-x:auto;line-height:normal;font-family:Menlo,'DejaVu Sans Mono',consolas,'Courier New',monospace\">\n",
              "</pre>\n"
            ]
          },
          "metadata": {}
        }
      ],
      "source": [
        "trainer.fit(image_space_diffit_model_imagenet, imagenet_train_loader, ckpt_path=\"last\")"
      ]
    },
    {
      "cell_type": "markdown",
      "source": [
        "##### Testing"
      ],
      "metadata": {
        "id": "sXBfjHNIawbH"
      }
    },
    {
      "cell_type": "code",
      "execution_count": null,
      "metadata": {
        "colab": {
          "base_uri": "https://localhost:8080/",
          "height": 152,
          "referenced_widgets": [
            "fd49df09a5734a90adef691ef6730e0b",
            "a628dccefcd0423a82bae0ab7cc04763"
          ]
        },
        "id": "iLIAvJnO_KJo",
        "outputId": "6cde09bb-e137-4d58-bcb0-61b2d3a5084c"
      },
      "outputs": [
        {
          "output_type": "stream",
          "name": "stderr",
          "text": [
            "INFO:pytorch_lightning.accelerators.cuda:LOCAL_RANK: 0 - CUDA_VISIBLE_DEVICES: [0]\n"
          ]
        },
        {
          "output_type": "display_data",
          "data": {
            "text/plain": [
              "Output()"
            ],
            "application/vnd.jupyter.widget-view+json": {
              "version_major": 2,
              "version_minor": 0,
              "model_id": "fd49df09a5734a90adef691ef6730e0b"
            }
          },
          "metadata": {}
        },
        {
          "output_type": "display_data",
          "data": {
            "text/plain": [
              "┏━━━━━━━━━━━━━━━━━━━━━━━━━━━┳━━━━━━━━━━━━━━━━━━━━━━━━━━━┓\n",
              "┃\u001b[1m \u001b[0m\u001b[1m       Test metric       \u001b[0m\u001b[1m \u001b[0m┃\u001b[1m \u001b[0m\u001b[1m      DataLoader 0       \u001b[0m\u001b[1m \u001b[0m┃\n",
              "┡━━━━━━━━━━━━━━━━━━━━━━━━━━━╇━━━━━━━━━━━━━━━━━━━━━━━━━━━┩\n",
              "│\u001b[36m \u001b[0m\u001b[36m     test_loss_epoch     \u001b[0m\u001b[36m \u001b[0m│\u001b[35m \u001b[0m\u001b[35m  0.014405345544219017   \u001b[0m\u001b[35m \u001b[0m│\n",
              "└───────────────────────────┴───────────────────────────┘\n"
            ],
            "text/html": [
              "<pre style=\"white-space:pre;overflow-x:auto;line-height:normal;font-family:Menlo,'DejaVu Sans Mono',consolas,'Courier New',monospace\">┏━━━━━━━━━━━━━━━━━━━━━━━━━━━┳━━━━━━━━━━━━━━━━━━━━━━━━━━━┓\n",
              "┃<span style=\"font-weight: bold\">        Test metric        </span>┃<span style=\"font-weight: bold\">       DataLoader 0        </span>┃\n",
              "┡━━━━━━━━━━━━━━━━━━━━━━━━━━━╇━━━━━━━━━━━━━━━━━━━━━━━━━━━┩\n",
              "│<span style=\"color: #008080; text-decoration-color: #008080\">      test_loss_epoch      </span>│<span style=\"color: #800080; text-decoration-color: #800080\">   0.014405345544219017    </span>│\n",
              "└───────────────────────────┴───────────────────────────┘\n",
              "</pre>\n"
            ]
          },
          "metadata": {}
        },
        {
          "output_type": "display_data",
          "data": {
            "text/plain": [],
            "text/html": [
              "<pre style=\"white-space:pre;overflow-x:auto;line-height:normal;font-family:Menlo,'DejaVu Sans Mono',consolas,'Courier New',monospace\"></pre>\n"
            ]
          },
          "metadata": {}
        },
        {
          "output_type": "display_data",
          "data": {
            "text/plain": [
              "\n"
            ],
            "text/html": [
              "<pre style=\"white-space:pre;overflow-x:auto;line-height:normal;font-family:Menlo,'DejaVu Sans Mono',consolas,'Courier New',monospace\">\n",
              "</pre>\n"
            ]
          },
          "metadata": {}
        },
        {
          "output_type": "execute_result",
          "data": {
            "text/plain": [
              "[{'test_loss_epoch': 0.014405345544219017}]"
            ]
          },
          "metadata": {},
          "execution_count": 30
        }
      ],
      "source": [
        "# Initiates the testing process\n",
        "trainer.test(image_space_diffit_model_imagenet, imagenet_test_loader)"
      ]
    },
    {
      "cell_type": "markdown",
      "source": [
        "## Latent Space DiffiT Model"
      ],
      "metadata": {
        "id": "T6rcX2DKZ7YY"
      }
    },
    {
      "cell_type": "markdown",
      "source": [
        "<img src=\"https://raw.githubusercontent.com/alighasemi78/DiffiT-Diffusion-Vision-Transformers-for-Image-Generation/7c7d79064a3887125f2bc708b9b16b68723c50b4/images/latent_space_diffit.png\" alt=\"latent space diffit\" height=\"400\" />\n",
        "\n",
        "We first encode the images using the encoder part of the image space model. The feature maps are then converted into non-overlapping patches and projected into a new embedding space. The patches go through the Latent DiffiT Transformer Block for N times. The output is then unpatchified and decoded using the decoder part of the image space model."
      ],
      "metadata": {
        "id": "4w0FqABGfWAN"
      }
    },
    {
      "cell_type": "markdown",
      "source": [
        "### Label Embedding"
      ],
      "metadata": {
        "id": "S5wivi30nZva"
      }
    },
    {
      "cell_type": "code",
      "source": [
        "class LabelEmbedding(nn.Module):\n",
        "    def __init__(self, label_size, d_model):\n",
        "        super().__init__()\n",
        "        self.label_size = label_size\n",
        "\n",
        "        self.embed = nn.Embedding(label_size, d_model)\n",
        "        self.fc = nn.Linear(d_model, d_model)\n",
        "\n",
        "    def forward(self, l):\n",
        "        x_l = self.embed(l)\n",
        "        x_l = self.fc(x_l)\n",
        "\n",
        "        return x_l"
      ],
      "metadata": {
        "id": "Hw-npDrKncOZ"
      },
      "execution_count": null,
      "outputs": []
    },
    {
      "cell_type": "markdown",
      "source": [
        "### Encoder"
      ],
      "metadata": {
        "id": "bTaafYcHj1zk"
      }
    },
    {
      "cell_type": "code",
      "source": [
        "class Encoder(nn.Module):\n",
        "    def __init__(self, d_model, n_head, img_size, dropout, d_ff, L1=4, L2=4, L3=4):\n",
        "        super().__init__()\n",
        "\n",
        "        self.tokenizer = Tokenizer(d_model)\n",
        "\n",
        "        self.diffit_res_block_group1 = DiffiTResBlockGroup(\n",
        "            d_model, d_model, d_model, n_head, img_size, dropout, d_ff, L1\n",
        "        )\n",
        "        self.downsample1 = Downsample(d_model, d_model * 2)\n",
        "\n",
        "        self.diffit_res_block_group2 = DiffiTResBlockGroup(\n",
        "            d_model * 2, d_model * 2, d_model, n_head, img_size // 2, dropout, d_ff, L2\n",
        "        )\n",
        "        self.downsample2 = Downsample(d_model * 2, d_model * 2)\n",
        "\n",
        "        self.diffit_res_block_group3 = DiffiTResBlockGroup(\n",
        "            d_model * 2, d_model * 2, d_model, n_head, img_size // 4, dropout, d_ff, L3\n",
        "        )\n",
        "\n",
        "    def forward(self, x_s, t, x_l):\n",
        "        x_s = self.tokenizer(x_s)\n",
        "\n",
        "        out_downsample1 = self.downsample1(self.diffit_res_block_group1(x_s, t, x_l))\n",
        "        out_downsample2 = self.downsample2(self.diffit_res_block_group2(out_downsample1, t, x_l))\n",
        "        out = self.diffit_res_block_group3(out_downsample2, t, x_l)\n",
        "\n",
        "        return out"
      ],
      "metadata": {
        "id": "8KhN8sz1j5Mh"
      },
      "execution_count": null,
      "outputs": []
    },
    {
      "cell_type": "markdown",
      "metadata": {
        "id": "EAt4a8-S_lDb"
      },
      "source": [
        "## Visualizing the Output [3]"
      ]
    },
    {
      "cell_type": "markdown",
      "metadata": {
        "id": "U6KwqNiHM_Jf"
      },
      "source": [
        "<img src=\"https://raw.githubusercontent.com/alighasemi78/DiffiT-Diffusion-Vision-Transformers-for-Image-Generation/04a9d4ccbf7fcf492a02a50c685fefc4b0ba45c7/images/diff_sampling.png\" alt=\"diffusion sampling\" height=\"200\" />\n",
        "\n",
        "Generating new images from a diffusion model happens by reversing the diffusion process: we start from $T$, where we sample pure noise from a Gaussian distribution, and then use our neural network to gradually denoise it (using the conditional probability it has learned), until we end up at time step $t = 0$. As shown above, we can derive a slighly less denoised image $x_{t-1}$ by plugging in the reparametrization of the mean, using our noise predictor. Remember that the variance is known ahead of time.\n",
        "\n",
        "Ideally, we end up with an image that looks like it came from the real data distribution."
      ]
    },
    {
      "cell_type": "code",
      "execution_count": 30,
      "metadata": {
        "id": "euQnlDMF_pCM"
      },
      "outputs": [],
      "source": [
        "@torch.no_grad()\n",
        "def p_sample(model, x, timesteps, t):\n",
        "    # Define the beta schedule for the given number of timesteps.\n",
        "    betas = linear_beta_schedule(T)\n",
        "\n",
        "    # Compute alphas as (1 - betas).\n",
        "    alphas = 1. - betas\n",
        "\n",
        "    # Compute the cumulative product of alphas to get alpha_bar values.\n",
        "    alphas_bar = torch.cumprod(alphas, axis=0)\n",
        "\n",
        "    # Pad the alpha_bar tensor to match the shape of betas and alphas.\n",
        "    alphas_bar_prev = F.pad(alphas_bar[:-1], (1, 0), value=1.0)\n",
        "\n",
        "    # Compute the reciprocal of square roots of alphas for later use.\n",
        "    sqrt_recip_alphas = torch.sqrt(1.0 / alphas)\n",
        "\n",
        "    # Compute square root of (1 - alpha_bar) for use in the sampling equation.\n",
        "    sqrt_one_minus_alphas_bar = torch.sqrt(1. - alphas_bar)\n",
        "\n",
        "    # Calculate posterior variance for the given timestep.\n",
        "    posterior_variance = betas * (1. - alphas_bar_prev) / (1. - alphas_bar)\n",
        "\n",
        "    # Extract relevant tensors for the current timestep.\n",
        "    betas_t = extract(betas, timesteps, x.shape)\n",
        "    sqrt_one_minus_alphas_bar_t = extract(\n",
        "        sqrt_one_minus_alphas_bar, timesteps, x.shape\n",
        "    )\n",
        "    sqrt_recip_alphas_t = extract(sqrt_recip_alphas, timesteps, x.shape)\n",
        "\n",
        "    # Use our model (noise predictor) to predict the mean\n",
        "    model_mean = sqrt_recip_alphas_t * (\n",
        "        x - betas_t * model(x, timesteps) / sqrt_one_minus_alphas_bar_t\n",
        "    )\n",
        "\n",
        "    if t == 0:\n",
        "        # Return the mean directly if we're at the initial timestep.\n",
        "        return model_mean\n",
        "    else:\n",
        "        # If not at the initial timestep, calculate the noise and add it to the mean.\n",
        "        posterior_variance_t = extract(posterior_variance, timesteps, x.shape)\n",
        "        noise = torch.randn_like(x)\n",
        "        # Algorithm 2 line 4:\n",
        "        return model_mean + torch.sqrt(posterior_variance_t) * noise"
      ]
    },
    {
      "cell_type": "code",
      "execution_count": 31,
      "metadata": {
        "id": "QMRhb7tXUT5g"
      },
      "outputs": [],
      "source": [
        "@torch.no_grad()\n",
        "def p_sample_loop(model, shape):\n",
        "    # Extract batch size\n",
        "    b = shape[0]\n",
        "\n",
        "    # start from pure noise (for each example in the batch)\n",
        "    img = torch.randn(shape, device=device)\n",
        "    imgs = []\n",
        "\n",
        "    # Iterate over timesteps in reverse order\n",
        "    for i in tqdm(reversed(range(0, T)), desc='sampling loop time step', total=T):\n",
        "        # Sample from the posterior distribution using p_sample function\n",
        "        img = p_sample(model, img, torch.full((b,), i, device=device, dtype=torch.long), i)\n",
        "\n",
        "        # Append the sampled image to the list\n",
        "        imgs.append(img.cpu().numpy())\n",
        "\n",
        "    return imgs"
      ]
    },
    {
      "cell_type": "code",
      "execution_count": 32,
      "metadata": {
        "id": "7dVnsyssUVmj"
      },
      "outputs": [],
      "source": [
        "@torch.no_grad()\n",
        "def sample(model, image_size, batch_size=16, channels=3):\n",
        "    # Call p_sample_loop to generate samples\n",
        "    return p_sample_loop(model, shape=(batch_size, channels, image_size, image_size))"
      ]
    },
    {
      "cell_type": "markdown",
      "source": [
        "### Load Models"
      ],
      "metadata": {
        "id": "rVnE01ZDH-s-"
      }
    },
    {
      "cell_type": "code",
      "source": [
        "image_space_cifar_path = \"/content/drive/MyDrive/DiffiT/tb_logs/image_space_diffit_model_cifar/version_1/checkpoints/image_space_diffit_model_cifar-epoch=2-train_loss=0.02.ckpt\"\n",
        "image_space_imagenet_path = \"/content/drive/MyDrive/DiffiT/tb_logs/image_space_diffit_model_imagenet/version_4/checkpoints/image_space_diffit_model_imagenet-epoch=2-train_loss=0.01.ckpt\"\n",
        "\n",
        "image_space_diffit_model_cifar = ImageSpaceDiffiTModel.load_from_checkpoint(image_space_cifar_path)\n",
        "image_space_diffit_model_imagenet = ImageSpaceDiffiTModel.load_from_checkpoint(image_space_imagenet_path)"
      ],
      "metadata": {
        "id": "K1ER5l25IB46"
      },
      "execution_count": 35,
      "outputs": []
    },
    {
      "cell_type": "markdown",
      "source": [
        "### Generating Images"
      ],
      "metadata": {
        "id": "4a4yVfniazuv"
      }
    },
    {
      "cell_type": "code",
      "execution_count": 36,
      "metadata": {
        "colab": {
          "base_uri": "https://localhost:8080/"
        },
        "id": "6MFodlqChZi4",
        "outputId": "c6345030-0c41-4edf-806c-72d88c791f84"
      },
      "outputs": [
        {
          "output_type": "stream",
          "name": "stderr",
          "text": [
            "sampling loop time step: 100%|██████████| 500/500 [02:11<00:00,  3.79it/s]\n",
            "sampling loop time step: 100%|██████████| 500/500 [02:12<00:00,  3.78it/s]\n"
          ]
        }
      ],
      "source": [
        "# Generate images using the CIFAR model\n",
        "cifar_generated_imgs = sample(\n",
        "    image_space_diffit_model_cifar,     # The model trained on CIFAR dataset\n",
        "    image_size=IMG_SIZE,    # The size of the images to be generated\n",
        "    batch_size=25,           # The number of images to generate in each batch\n",
        "    channels=3,             # The number of channels in the images (3 for RGB)\n",
        ")\n",
        "\n",
        "# Generate images using the Tiny ImageNet model\n",
        "imagenet_generated_imgs = sample(\n",
        "    image_space_diffit_model_imagenet,  # The model trained on Tiny ImageNet dataset\n",
        "    image_size=IMG_SIZE,    # The size of the images to be generated\n",
        "    batch_size=25,           # The number of images to generate in each batch\n",
        "    channels=3,             # The number of channels in the images (3 for RGB)\n",
        ")"
      ]
    },
    {
      "cell_type": "markdown",
      "metadata": {
        "id": "1qB3j9L6kk_B"
      },
      "source": [
        "### Comparing the Generated with the Real Images"
      ]
    },
    {
      "cell_type": "code",
      "execution_count": 37,
      "metadata": {
        "id": "geVre3KPkqF_"
      },
      "outputs": [],
      "source": [
        "def get_fid_score(train_loader, generated_imgs):\n",
        "    # Sample real images from the training dataset\n",
        "    items = random.sample(train_loader, 25)\n",
        "    real_features = torch.stack(items)\n",
        "\n",
        "    # Convert the last set of generated images to a torch tensor\n",
        "    generated_features = torch.tensor(generated_imgs[-1])\n",
        "\n",
        "    # Initialize the FID metric\n",
        "    fid = FrechetInceptionDistance(feature=64, normalize=True)\n",
        "\n",
        "    # Update FID metric with generated features\n",
        "    fid.update(generated_features, real=False)\n",
        "\n",
        "    # Update FID metric with real features\n",
        "    fid.update(real_features, real=True)\n",
        "\n",
        "    # Compute the FID score\n",
        "    fid_score = fid.compute()\n",
        "\n",
        "    return fid_score"
      ]
    },
    {
      "cell_type": "code",
      "execution_count": 38,
      "metadata": {
        "colab": {
          "base_uri": "https://localhost:8080/"
        },
        "id": "GLk6bRaohn-x",
        "outputId": "41fb3ada-f534-4670-bb13-eb8c16df9481"
      },
      "outputs": [
        {
          "output_type": "stream",
          "name": "stderr",
          "text": [
            "Downloading: \"https://github.com/toshas/torch-fidelity/releases/download/v0.2.0/weights-inception-2015-12-05-6726825d.pth\" to /root/.cache/torch/hub/checkpoints/weights-inception-2015-12-05-6726825d.pth\n",
            "100%|██████████| 91.2M/91.2M [00:00<00:00, 238MB/s]\n"
          ]
        },
        {
          "output_type": "stream",
          "name": "stdout",
          "text": [
            "CIFAR-10 FID Score: 3.8269219398498535, Tiny ImageNet FID Score: 3.7159066200256348\n"
          ]
        }
      ],
      "source": [
        "cifar_fid_score = get_fid_score(cifar_train_ds, cifar_generated_imgs)\n",
        "imagenet_fid_score = get_fid_score(imagenet_train_ds, imagenet_generated_imgs)\n",
        "\n",
        "print(f'CIFAR-10 FID Score: {cifar_fid_score}, Tiny ImageNet FID Score: {imagenet_fid_score}')"
      ]
    },
    {
      "cell_type": "markdown",
      "metadata": {
        "id": "uZlupMoRmVTu"
      },
      "source": [
        "#### Rendering the Generated Samples"
      ]
    },
    {
      "cell_type": "code",
      "execution_count": 45,
      "metadata": {
        "id": "RXkO3LWvmbqN"
      },
      "outputs": [],
      "source": [
        "def display_generated_samples(generated_imgs, batch_size, img_size, title):\n",
        "    fig, axs = plt.subplots(5, 5, figsize=(15, 15))\n",
        "\n",
        "    # Display generated samples\n",
        "    for i in range(5):\n",
        "        for j in range(5):\n",
        "            img = generated_imgs[-1][5 * i + j].transpose(1, 2, 0)  # Change from (C, H, W) to (H, W, C)\n",
        "            axs[i, j].imshow(img)\n",
        "            axs[i, j].axis('off')\n",
        "\n",
        "    plt.suptitle(f'Generated Samples in {title}', size='x-large')\n",
        "    plt.show()"
      ]
    },
    {
      "cell_type": "code",
      "execution_count": 46,
      "metadata": {
        "colab": {
          "base_uri": "https://localhost:8080/",
          "height": 1000
        },
        "id": "peE-JukgibsM",
        "outputId": "84486bd9-4ec6-4722-b266-7bde9b9060d3"
      },
      "outputs": [
        {
          "output_type": "stream",
          "name": "stderr",
          "text": [
            "WARNING:matplotlib.image:Clipping input data to the valid range for imshow with RGB data ([0..1] for floats or [0..255] for integers).\n",
            "WARNING:matplotlib.image:Clipping input data to the valid range for imshow with RGB data ([0..1] for floats or [0..255] for integers).\n",
            "WARNING:matplotlib.image:Clipping input data to the valid range for imshow with RGB data ([0..1] for floats or [0..255] for integers).\n",
            "WARNING:matplotlib.image:Clipping input data to the valid range for imshow with RGB data ([0..1] for floats or [0..255] for integers).\n",
            "WARNING:matplotlib.image:Clipping input data to the valid range for imshow with RGB data ([0..1] for floats or [0..255] for integers).\n",
            "WARNING:matplotlib.image:Clipping input data to the valid range for imshow with RGB data ([0..1] for floats or [0..255] for integers).\n",
            "WARNING:matplotlib.image:Clipping input data to the valid range for imshow with RGB data ([0..1] for floats or [0..255] for integers).\n",
            "WARNING:matplotlib.image:Clipping input data to the valid range for imshow with RGB data ([0..1] for floats or [0..255] for integers).\n",
            "WARNING:matplotlib.image:Clipping input data to the valid range for imshow with RGB data ([0..1] for floats or [0..255] for integers).\n",
            "WARNING:matplotlib.image:Clipping input data to the valid range for imshow with RGB data ([0..1] for floats or [0..255] for integers).\n",
            "WARNING:matplotlib.image:Clipping input data to the valid range for imshow with RGB data ([0..1] for floats or [0..255] for integers).\n",
            "WARNING:matplotlib.image:Clipping input data to the valid range for imshow with RGB data ([0..1] for floats or [0..255] for integers).\n",
            "WARNING:matplotlib.image:Clipping input data to the valid range for imshow with RGB data ([0..1] for floats or [0..255] for integers).\n",
            "WARNING:matplotlib.image:Clipping input data to the valid range for imshow with RGB data ([0..1] for floats or [0..255] for integers).\n",
            "WARNING:matplotlib.image:Clipping input data to the valid range for imshow with RGB data ([0..1] for floats or [0..255] for integers).\n",
            "WARNING:matplotlib.image:Clipping input data to the valid range for imshow with RGB data ([0..1] for floats or [0..255] for integers).\n",
            "WARNING:matplotlib.image:Clipping input data to the valid range for imshow with RGB data ([0..1] for floats or [0..255] for integers).\n",
            "WARNING:matplotlib.image:Clipping input data to the valid range for imshow with RGB data ([0..1] for floats or [0..255] for integers).\n",
            "WARNING:matplotlib.image:Clipping input data to the valid range for imshow with RGB data ([0..1] for floats or [0..255] for integers).\n"
          ]
        },
        {
          "output_type": "display_data",
          "data": {
            "text/plain": [
              "<Figure size 1500x1500 with 25 Axes>"
            ],
            "image/png": "[encoded data removed]"
          },
          "metadata": {}
        }
      ],
      "source": [
        "display_generated_samples(cifar_generated_imgs, 25, IMG_SIZE, 'CIFAR-10')"
      ]
    },
    {
      "cell_type": "code",
      "source": [
        "display_generated_samples(imagenet_generated_imgs, 25, IMG_SIZE, 'Tiny ImageNet')"
      ],
      "metadata": {
        "colab": {
          "base_uri": "https://localhost:8080/",
          "height": 1000
        },
        "id": "7Qx1V4c9I4pf",
        "outputId": "fcc9ed5d-1992-4afe-9478-34331a6c2995"
      },
      "execution_count": 47,
      "outputs": [
        {
          "output_type": "stream",
          "name": "stderr",
          "text": [
            "WARNING:matplotlib.image:Clipping input data to the valid range for imshow with RGB data ([0..1] for floats or [0..255] for integers).\n",
            "WARNING:matplotlib.image:Clipping input data to the valid range for imshow with RGB data ([0..1] for floats or [0..255] for integers).\n",
            "WARNING:matplotlib.image:Clipping input data to the valid range for imshow with RGB data ([0..1] for floats or [0..255] for integers).\n",
            "WARNING:matplotlib.image:Clipping input data to the valid range for imshow with RGB data ([0..1] for floats or [0..255] for integers).\n",
            "WARNING:matplotlib.image:Clipping input data to the valid range for imshow with RGB data ([0..1] for floats or [0..255] for integers).\n",
            "WARNING:matplotlib.image:Clipping input data to the valid range for imshow with RGB data ([0..1] for floats or [0..255] for integers).\n",
            "WARNING:matplotlib.image:Clipping input data to the valid range for imshow with RGB data ([0..1] for floats or [0..255] for integers).\n",
            "WARNING:matplotlib.image:Clipping input data to the valid range for imshow with RGB data ([0..1] for floats or [0..255] for integers).\n",
            "WARNING:matplotlib.image:Clipping input data to the valid range for imshow with RGB data ([0..1] for floats or [0..255] for integers).\n",
            "WARNING:matplotlib.image:Clipping input data to the valid range for imshow with RGB data ([0..1] for floats or [0..255] for integers).\n",
            "WARNING:matplotlib.image:Clipping input data to the valid range for imshow with RGB data ([0..1] for floats or [0..255] for integers).\n",
            "WARNING:matplotlib.image:Clipping input data to the valid range for imshow with RGB data ([0..1] for floats or [0..255] for integers).\n",
            "WARNING:matplotlib.image:Clipping input data to the valid range for imshow with RGB data ([0..1] for floats or [0..255] for integers).\n",
            "WARNING:matplotlib.image:Clipping input data to the valid range for imshow with RGB data ([0..1] for floats or [0..255] for integers).\n",
            "WARNING:matplotlib.image:Clipping input data to the valid range for imshow with RGB data ([0..1] for floats or [0..255] for integers).\n",
            "WARNING:matplotlib.image:Clipping input data to the valid range for imshow with RGB data ([0..1] for floats or [0..255] for integers).\n",
            "WARNING:matplotlib.image:Clipping input data to the valid range for imshow with RGB data ([0..1] for floats or [0..255] for integers).\n",
            "WARNING:matplotlib.image:Clipping input data to the valid range for imshow with RGB data ([0..1] for floats or [0..255] for integers).\n",
            "WARNING:matplotlib.image:Clipping input data to the valid range for imshow with RGB data ([0..1] for floats or [0..255] for integers).\n",
            "WARNING:matplotlib.image:Clipping input data to the valid range for imshow with RGB data ([0..1] for floats or [0..255] for integers).\n"
          ]
        },
        {
          "output_type": "display_data",
          "data": {
            "text/plain": [
              "<Figure size 1500x1500 with 25 Axes>"
            ],
            "image/png": "[encoded data removed]"
          },
          "metadata": {}
        }
      ]
    },
    {
      "cell_type": "markdown",
      "metadata": {
        "id": "qnr1hy5ebwPn"
      },
      "source": [
        "## References"
      ]
    },
    {
      "cell_type": "markdown",
      "metadata": {
        "id": "SivaZxrdbyW-"
      },
      "source": [
        "[1] Hatamizadeh, A., Song, J., Liu, G., Kautz, J., & Vahdat, A. (2023). DiffiT: Diffusion Vision Transformers for Image Generation. ArXiv. /abs/2312.02139\n",
        "\n",
        "[2] Ho, J., Jain, A., & Abbeel, P. (2020). Denoising Diffusion Probabilistic Models. ArXiv. /abs/2006.11239\n",
        "\n",
        "[3] [The Annotated Diffusion Model\n",
        "](https://huggingface.co/blog/annotated-diffusion)\n",
        "\n",
        "[4] [Coding a Transformer from scratch on PyTorch, with full explanation, training and inference.](https://youtu.be/ISNdQcPhsts?si=dgsOx0BJZRL6jd81)"
      ]
    }
  ],
  "metadata": {
    "accelerator": "GPU",
    "colab": {
      "collapsed_sections": [
        "sT6WQa84yVp5",
        "fSzaaPRkRp76",
        "Y2KBY3ZvRwpf",
        "kTxOIUNfnEDJ",
        "h44umtpsB9AX",
        "hx_jF95llWbp",
        "SNN4_OE_oiwJ",
        "gcmdkKu4zPKo",
        "S-urLJDDbAo3",
        "Vr3iX89QhFEo",
        "RGqhCjINvv3n",
        "h_EMN3_Uzfky",
        "XUCSkYJO3IEs",
        "hhvTIzlrHzOD",
        "KLEG2CdWNGVJ",
        "zE8AC5E_N7Tk",
        "K8muImyV-lrt",
        "v0TQB1epaglT",
        "mbrRZgRTaixP",
        "0O1xT1Stak3y",
        "YwcgFz3AanSo",
        "TlhpOCfDapk2",
        "2v00-TDjasVs",
        "1qB3j9L6kk_B"
      ],
      "gpuType": "T4",
      "provenance": []
    },
    "kernelspec": {
      "display_name": "Python 3",
      "name": "python3"
    },
    "language_info": {
      "name": "python"
    },
    "widgets": {
      "application/vnd.jupyter.widget-state+json": {
        "e4afb5d6b9774522bd69a4efc6d3fc4d": {
          "model_module": "@jupyter-widgets/output",
          "model_name": "OutputModel",
          "model_module_version": "1.0.0",
          "state": {
            "_dom_classes": [],
            "_model_module": "@jupyter-widgets/output",
            "_model_module_version": "1.0.0",
            "_model_name": "OutputModel",
            "_view_count": null,
            "_view_module": "@jupyter-widgets/output",
            "_view_module_version": "1.0.0",
            "_view_name": "OutputView",
            "layout": "IPY_MODEL_d25027c90fd140528df7d2c28c11b371",
            "msg_id": "",
            "outputs": [
              {
                "output_type": "display_data",
                "data": {
                  "text/plain": "\u001b[37mTesting\u001b[0m \u001b[38;2;98;6;224m━━━━━━━━━━━━━━━━━━━━━━━━━━━━━━━━━━━━━━━━\u001b[0m \u001b[37m313/313\u001b[0m \u001b[38;5;245m0:01:41 • 0:00:00\u001b[0m \u001b[38;5;249m3.09it/s\u001b[0m  \n",
                  "text/html": "<pre style=\"white-space:pre;overflow-x:auto;line-height:normal;font-family:Menlo,'DejaVu Sans Mono',consolas,'Courier New',monospace\"><span style=\"color: #c0c0c0; text-decoration-color: #c0c0c0\">Testing</span> <span style=\"color: #6206e0; text-decoration-color: #6206e0\">━━━━━━━━━━━━━━━━━━━━━━━━━━━━━━━━━━━━━━━━</span> <span style=\"color: #c0c0c0; text-decoration-color: #c0c0c0\">313/313</span> <span style=\"color: #8a8a8a; text-decoration-color: #8a8a8a\">0:01:41 • 0:00:00</span> <span style=\"color: #b2b2b2; text-decoration-color: #b2b2b2\">3.09it/s</span>  \n</pre>\n"
                },
                "metadata": {}
              }
            ]
          }
        },
        "d25027c90fd140528df7d2c28c11b371": {
          "model_module": "@jupyter-widgets/base",
          "model_name": "LayoutModel",
          "model_module_version": "1.2.0",
          "state": {
            "_model_module": "@jupyter-widgets/base",
            "_model_module_version": "1.2.0",
            "_model_name": "LayoutModel",
            "_view_count": null,
            "_view_module": "@jupyter-widgets/base",
            "_view_module_version": "1.2.0",
            "_view_name": "LayoutView",
            "align_content": null,
            "align_items": null,
            "align_self": null,
            "border": null,
            "bottom": null,
            "display": null,
            "flex": null,
            "flex_flow": null,
            "grid_area": null,
            "grid_auto_columns": null,
            "grid_auto_flow": null,
            "grid_auto_rows": null,
            "grid_column": null,
            "grid_gap": null,
            "grid_row": null,
            "grid_template_areas": null,
            "grid_template_columns": null,
            "grid_template_rows": null,
            "height": null,
            "justify_content": null,
            "justify_items": null,
            "left": null,
            "margin": null,
            "max_height": null,
            "max_width": null,
            "min_height": null,
            "min_width": null,
            "object_fit": null,
            "object_position": null,
            "order": null,
            "overflow": null,
            "overflow_x": null,
            "overflow_y": null,
            "padding": null,
            "right": null,
            "top": null,
            "visibility": null,
            "width": null
          }
        },
        "07655978b3a74f1abc51c00a4d4865f2": {
          "model_module": "@jupyter-widgets/output",
          "model_name": "OutputModel",
          "model_module_version": "1.0.0",
          "state": {
            "_dom_classes": [],
            "_model_module": "@jupyter-widgets/output",
            "_model_module_version": "1.0.0",
            "_model_name": "OutputModel",
            "_view_count": null,
            "_view_module": "@jupyter-widgets/output",
            "_view_module_version": "1.0.0",
            "_view_name": "OutputView",
            "layout": "IPY_MODEL_d914c49edeb342f399de7124264e18c2",
            "msg_id": "",
            "outputs": [
              {
                "output_type": "display_data",
                "data": {
                  "text/plain": "Epoch 2/2  \u001b[38;2;98;6;224m━━━━━━━━━━━━━━━━━━━━━━━━━━━━━━━━\u001b[0m \u001b[37m3069/3069\u001b[0m \u001b[38;5;245m0:43:31 • 0:00:00\u001b[0m \u001b[38;5;249m1.19it/s\u001b[0m \u001b[37mv_num: 4.000 train_loss_step:     \u001b[0m\n                                                                                 \u001b[37m0.004 train_loss_epoch: 0.015     \u001b[0m\n",
                  "text/html": "<pre style=\"white-space:pre;overflow-x:auto;line-height:normal;font-family:Menlo,'DejaVu Sans Mono',consolas,'Courier New',monospace\">Epoch 2/2  <span style=\"color: #6206e0; text-decoration-color: #6206e0\">━━━━━━━━━━━━━━━━━━━━━━━━━━━━━━━━</span> <span style=\"color: #c0c0c0; text-decoration-color: #c0c0c0\">3069/3069</span> <span style=\"color: #8a8a8a; text-decoration-color: #8a8a8a\">0:43:31 • 0:00:00</span> <span style=\"color: #b2b2b2; text-decoration-color: #b2b2b2\">1.19it/s</span> <span style=\"color: #c0c0c0; text-decoration-color: #c0c0c0\">v_num: 4.000 train_loss_step:     </span>\n                                                                                 <span style=\"color: #c0c0c0; text-decoration-color: #c0c0c0\">0.004 train_loss_epoch: 0.015     </span>\n</pre>\n"
                },
                "metadata": {}
              }
            ]
          }
        },
        "d914c49edeb342f399de7124264e18c2": {
          "model_module": "@jupyter-widgets/base",
          "model_name": "LayoutModel",
          "model_module_version": "1.2.0",
          "state": {
            "_model_module": "@jupyter-widgets/base",
            "_model_module_version": "1.2.0",
            "_model_name": "LayoutModel",
            "_view_count": null,
            "_view_module": "@jupyter-widgets/base",
            "_view_module_version": "1.2.0",
            "_view_name": "LayoutView",
            "align_content": null,
            "align_items": null,
            "align_self": null,
            "border": null,
            "bottom": null,
            "display": null,
            "flex": null,
            "flex_flow": null,
            "grid_area": null,
            "grid_auto_columns": null,
            "grid_auto_flow": null,
            "grid_auto_rows": null,
            "grid_column": null,
            "grid_gap": null,
            "grid_row": null,
            "grid_template_areas": null,
            "grid_template_columns": null,
            "grid_template_rows": null,
            "height": null,
            "justify_content": null,
            "justify_items": null,
            "left": null,
            "margin": null,
            "max_height": null,
            "max_width": null,
            "min_height": null,
            "min_width": null,
            "object_fit": null,
            "object_position": null,
            "order": null,
            "overflow": null,
            "overflow_x": null,
            "overflow_y": null,
            "padding": null,
            "right": null,
            "top": null,
            "visibility": null,
            "width": null
          }
        },
        "fd49df09a5734a90adef691ef6730e0b": {
          "model_module": "@jupyter-widgets/output",
          "model_name": "OutputModel",
          "model_module_version": "1.0.0",
          "state": {
            "_dom_classes": [],
            "_model_module": "@jupyter-widgets/output",
            "_model_module_version": "1.0.0",
            "_model_name": "OutputModel",
            "_view_count": null,
            "_view_module": "@jupyter-widgets/output",
            "_view_module_version": "1.0.0",
            "_view_name": "OutputView",
            "layout": "IPY_MODEL_a628dccefcd0423a82bae0ab7cc04763",
            "msg_id": "",
            "outputs": [
              {
                "output_type": "display_data",
                "data": {
                  "text/plain": "\u001b[37mTesting\u001b[0m \u001b[38;2;98;6;224m━━━━━━━━━━━━━━━━━━━━━━━━━━━━━━━━━━━━━━━━\u001b[0m \u001b[37m308/308\u001b[0m \u001b[38;5;245m0:01:38 • 0:00:00\u001b[0m \u001b[38;5;249m3.12it/s\u001b[0m  \n",
                  "text/html": "<pre style=\"white-space:pre;overflow-x:auto;line-height:normal;font-family:Menlo,'DejaVu Sans Mono',consolas,'Courier New',monospace\"><span style=\"color: #c0c0c0; text-decoration-color: #c0c0c0\">Testing</span> <span style=\"color: #6206e0; text-decoration-color: #6206e0\">━━━━━━━━━━━━━━━━━━━━━━━━━━━━━━━━━━━━━━━━</span> <span style=\"color: #c0c0c0; text-decoration-color: #c0c0c0\">308/308</span> <span style=\"color: #8a8a8a; text-decoration-color: #8a8a8a\">0:01:38 • 0:00:00</span> <span style=\"color: #b2b2b2; text-decoration-color: #b2b2b2\">3.12it/s</span>  \n</pre>\n"
                },
                "metadata": {}
              }
            ]
          }
        },
        "a628dccefcd0423a82bae0ab7cc04763": {
          "model_module": "@jupyter-widgets/base",
          "model_name": "LayoutModel",
          "model_module_version": "1.2.0",
          "state": {
            "_model_module": "@jupyter-widgets/base",
            "_model_module_version": "1.2.0",
            "_model_name": "LayoutModel",
            "_view_count": null,
            "_view_module": "@jupyter-widgets/base",
            "_view_module_version": "1.2.0",
            "_view_name": "LayoutView",
            "align_content": null,
            "align_items": null,
            "align_self": null,
            "border": null,
            "bottom": null,
            "display": null,
            "flex": null,
            "flex_flow": null,
            "grid_area": null,
            "grid_auto_columns": null,
            "grid_auto_flow": null,
            "grid_auto_rows": null,
            "grid_column": null,
            "grid_gap": null,
            "grid_row": null,
            "grid_template_areas": null,
            "grid_template_columns": null,
            "grid_template_rows": null,
            "height": null,
            "justify_content": null,
            "justify_items": null,
            "left": null,
            "margin": null,
            "max_height": null,
            "max_width": null,
            "min_height": null,
            "min_width": null,
            "object_fit": null,
            "object_position": null,
            "order": null,
            "overflow": null,
            "overflow_x": null,
            "overflow_y": null,
            "padding": null,
            "right": null,
            "top": null,
            "visibility": null,
            "width": null
          }
        },
        "d4e2bf5c92d24914a1a3fb82f0f4a738": {
          "model_module": "@jupyter-widgets/controls",
          "model_name": "HBoxModel",
          "model_module_version": "1.5.0",
          "state": {
            "_dom_classes": [],
            "_model_module": "@jupyter-widgets/controls",
            "_model_module_version": "1.5.0",
            "_model_name": "HBoxModel",
            "_view_count": null,
            "_view_module": "@jupyter-widgets/controls",
            "_view_module_version": "1.5.0",
            "_view_name": "HBoxView",
            "box_style": "",
            "children": [
              "IPY_MODEL_66457e6628c043a689796d560d8f9a52",
              "IPY_MODEL_1b6efbd46b7b4b56b17acd6d4e02d162",
              "IPY_MODEL_a57491529ac5469ea2f050377a37cecf"
            ],
            "layout": "IPY_MODEL_ddc3df3eda06487cba066efa4b10050a"
          }
        },
        "66457e6628c043a689796d560d8f9a52": {
          "model_module": "@jupyter-widgets/controls",
          "model_name": "HTMLModel",
          "model_module_version": "1.5.0",
          "state": {
            "_dom_classes": [],
            "_model_module": "@jupyter-widgets/controls",
            "_model_module_version": "1.5.0",
            "_model_name": "HTMLModel",
            "_view_count": null,
            "_view_module": "@jupyter-widgets/controls",
            "_view_module_version": "1.5.0",
            "_view_name": "HTMLView",
            "description": "",
            "description_tooltip": null,
            "layout": "IPY_MODEL_feef84101a35465d960fc60fd04286aa",
            "placeholder": "​",
            "style": "IPY_MODEL_f6debf6540854f8ba0b1ef8a81fb3c4f",
            "value": "Downloading readme: 100%"
          }
        },
        "1b6efbd46b7b4b56b17acd6d4e02d162": {
          "model_module": "@jupyter-widgets/controls",
          "model_name": "FloatProgressModel",
          "model_module_version": "1.5.0",
          "state": {
            "_dom_classes": [],
            "_model_module": "@jupyter-widgets/controls",
            "_model_module_version": "1.5.0",
            "_model_name": "FloatProgressModel",
            "_view_count": null,
            "_view_module": "@jupyter-widgets/controls",
            "_view_module_version": "1.5.0",
            "_view_name": "ProgressView",
            "bar_style": "success",
            "description": "",
            "description_tooltip": null,
            "layout": "IPY_MODEL_7e91b2c328224803945ede67cb5c11ae",
            "max": 5157,
            "min": 0,
            "orientation": "horizontal",
            "style": "IPY_MODEL_80e904ce111d4e3cb47ac2d519ca9fc8",
            "value": 5157
          }
        },
        "a57491529ac5469ea2f050377a37cecf": {
          "model_module": "@jupyter-widgets/controls",
          "model_name": "HTMLModel",
          "model_module_version": "1.5.0",
          "state": {
            "_dom_classes": [],
            "_model_module": "@jupyter-widgets/controls",
            "_model_module_version": "1.5.0",
            "_model_name": "HTMLModel",
            "_view_count": null,
            "_view_module": "@jupyter-widgets/controls",
            "_view_module_version": "1.5.0",
            "_view_name": "HTMLView",
            "description": "",
            "description_tooltip": null,
            "layout": "IPY_MODEL_885bf6a0f0f2400eaa101a13d6e0d8a8",
            "placeholder": "​",
            "style": "IPY_MODEL_e8f70f0ca5ec4f33940a41ba073fad6d",
            "value": " 5.16k/5.16k [00:00&lt;00:00, 217kB/s]"
          }
        },
        "ddc3df3eda06487cba066efa4b10050a": {
          "model_module": "@jupyter-widgets/base",
          "model_name": "LayoutModel",
          "model_module_version": "1.2.0",
          "state": {
            "_model_module": "@jupyter-widgets/base",
            "_model_module_version": "1.2.0",
            "_model_name": "LayoutModel",
            "_view_count": null,
            "_view_module": "@jupyter-widgets/base",
            "_view_module_version": "1.2.0",
            "_view_name": "LayoutView",
            "align_content": null,
            "align_items": null,
            "align_self": null,
            "border": null,
            "bottom": null,
            "display": null,
            "flex": null,
            "flex_flow": null,
            "grid_area": null,
            "grid_auto_columns": null,
            "grid_auto_flow": null,
            "grid_auto_rows": null,
            "grid_column": null,
            "grid_gap": null,
            "grid_row": null,
            "grid_template_areas": null,
            "grid_template_columns": null,
            "grid_template_rows": null,
            "height": null,
            "justify_content": null,
            "justify_items": null,
            "left": null,
            "margin": null,
            "max_height": null,
            "max_width": null,
            "min_height": null,
            "min_width": null,
            "object_fit": null,
            "object_position": null,
            "order": null,
            "overflow": null,
            "overflow_x": null,
            "overflow_y": null,
            "padding": null,
            "right": null,
            "top": null,
            "visibility": null,
            "width": null
          }
        },
        "feef84101a35465d960fc60fd04286aa": {
          "model_module": "@jupyter-widgets/base",
          "model_name": "LayoutModel",
          "model_module_version": "1.2.0",
          "state": {
            "_model_module": "@jupyter-widgets/base",
            "_model_module_version": "1.2.0",
            "_model_name": "LayoutModel",
            "_view_count": null,
            "_view_module": "@jupyter-widgets/base",
            "_view_module_version": "1.2.0",
            "_view_name": "LayoutView",
            "align_content": null,
            "align_items": null,
            "align_self": null,
            "border": null,
            "bottom": null,
            "display": null,
            "flex": null,
            "flex_flow": null,
            "grid_area": null,
            "grid_auto_columns": null,
            "grid_auto_flow": null,
            "grid_auto_rows": null,
            "grid_column": null,
            "grid_gap": null,
            "grid_row": null,
            "grid_template_areas": null,
            "grid_template_columns": null,
            "grid_template_rows": null,
            "height": null,
            "justify_content": null,
            "justify_items": null,
            "left": null,
            "margin": null,
            "max_height": null,
            "max_width": null,
            "min_height": null,
            "min_width": null,
            "object_fit": null,
            "object_position": null,
            "order": null,
            "overflow": null,
            "overflow_x": null,
            "overflow_y": null,
            "padding": null,
            "right": null,
            "top": null,
            "visibility": null,
            "width": null
          }
        },
        "f6debf6540854f8ba0b1ef8a81fb3c4f": {
          "model_module": "@jupyter-widgets/controls",
          "model_name": "DescriptionStyleModel",
          "model_module_version": "1.5.0",
          "state": {
            "_model_module": "@jupyter-widgets/controls",
            "_model_module_version": "1.5.0",
            "_model_name": "DescriptionStyleModel",
            "_view_count": null,
            "_view_module": "@jupyter-widgets/base",
            "_view_module_version": "1.2.0",
            "_view_name": "StyleView",
            "description_width": ""
          }
        },
        "7e91b2c328224803945ede67cb5c11ae": {
          "model_module": "@jupyter-widgets/base",
          "model_name": "LayoutModel",
          "model_module_version": "1.2.0",
          "state": {
            "_model_module": "@jupyter-widgets/base",
            "_model_module_version": "1.2.0",
            "_model_name": "LayoutModel",
            "_view_count": null,
            "_view_module": "@jupyter-widgets/base",
            "_view_module_version": "1.2.0",
            "_view_name": "LayoutView",
            "align_content": null,
            "align_items": null,
            "align_self": null,
            "border": null,
            "bottom": null,
            "display": null,
            "flex": null,
            "flex_flow": null,
            "grid_area": null,
            "grid_auto_columns": null,
            "grid_auto_flow": null,
            "grid_auto_rows": null,
            "grid_column": null,
            "grid_gap": null,
            "grid_row": null,
            "grid_template_areas": null,
            "grid_template_columns": null,
            "grid_template_rows": null,
            "height": null,
            "justify_content": null,
            "justify_items": null,
            "left": null,
            "margin": null,
            "max_height": null,
            "max_width": null,
            "min_height": null,
            "min_width": null,
            "object_fit": null,
            "object_position": null,
            "order": null,
            "overflow": null,
            "overflow_x": null,
            "overflow_y": null,
            "padding": null,
            "right": null,
            "top": null,
            "visibility": null,
            "width": null
          }
        },
        "80e904ce111d4e3cb47ac2d519ca9fc8": {
          "model_module": "@jupyter-widgets/controls",
          "model_name": "ProgressStyleModel",
          "model_module_version": "1.5.0",
          "state": {
            "_model_module": "@jupyter-widgets/controls",
            "_model_module_version": "1.5.0",
            "_model_name": "ProgressStyleModel",
            "_view_count": null,
            "_view_module": "@jupyter-widgets/base",
            "_view_module_version": "1.2.0",
            "_view_name": "StyleView",
            "bar_color": null,
            "description_width": ""
          }
        },
        "885bf6a0f0f2400eaa101a13d6e0d8a8": {
          "model_module": "@jupyter-widgets/base",
          "model_name": "LayoutModel",
          "model_module_version": "1.2.0",
          "state": {
            "_model_module": "@jupyter-widgets/base",
            "_model_module_version": "1.2.0",
            "_model_name": "LayoutModel",
            "_view_count": null,
            "_view_module": "@jupyter-widgets/base",
            "_view_module_version": "1.2.0",
            "_view_name": "LayoutView",
            "align_content": null,
            "align_items": null,
            "align_self": null,
            "border": null,
            "bottom": null,
            "display": null,
            "flex": null,
            "flex_flow": null,
            "grid_area": null,
            "grid_auto_columns": null,
            "grid_auto_flow": null,
            "grid_auto_rows": null,
            "grid_column": null,
            "grid_gap": null,
            "grid_row": null,
            "grid_template_areas": null,
            "grid_template_columns": null,
            "grid_template_rows": null,
            "height": null,
            "justify_content": null,
            "justify_items": null,
            "left": null,
            "margin": null,
            "max_height": null,
            "max_width": null,
            "min_height": null,
            "min_width": null,
            "object_fit": null,
            "object_position": null,
            "order": null,
            "overflow": null,
            "overflow_x": null,
            "overflow_y": null,
            "padding": null,
            "right": null,
            "top": null,
            "visibility": null,
            "width": null
          }
        },
        "e8f70f0ca5ec4f33940a41ba073fad6d": {
          "model_module": "@jupyter-widgets/controls",
          "model_name": "DescriptionStyleModel",
          "model_module_version": "1.5.0",
          "state": {
            "_model_module": "@jupyter-widgets/controls",
            "_model_module_version": "1.5.0",
            "_model_name": "DescriptionStyleModel",
            "_view_count": null,
            "_view_module": "@jupyter-widgets/base",
            "_view_module_version": "1.2.0",
            "_view_name": "StyleView",
            "description_width": ""
          }
        },
        "e018884528f44b84ba8185e17cba62bc": {
          "model_module": "@jupyter-widgets/controls",
          "model_name": "HBoxModel",
          "model_module_version": "1.5.0",
          "state": {
            "_dom_classes": [],
            "_model_module": "@jupyter-widgets/controls",
            "_model_module_version": "1.5.0",
            "_model_name": "HBoxModel",
            "_view_count": null,
            "_view_module": "@jupyter-widgets/controls",
            "_view_module_version": "1.5.0",
            "_view_name": "HBoxView",
            "box_style": "",
            "children": [
              "IPY_MODEL_59644a12a75a499582448d9e68042622",
              "IPY_MODEL_907ee91ef345412dbc472cdae9c582af",
              "IPY_MODEL_37df491cb5b641ec8f289b2534cafd31"
            ],
            "layout": "IPY_MODEL_fd6dd74a80704c6985bacf1fcf635981"
          }
        },
        "59644a12a75a499582448d9e68042622": {
          "model_module": "@jupyter-widgets/controls",
          "model_name": "HTMLModel",
          "model_module_version": "1.5.0",
          "state": {
            "_dom_classes": [],
            "_model_module": "@jupyter-widgets/controls",
            "_model_module_version": "1.5.0",
            "_model_name": "HTMLModel",
            "_view_count": null,
            "_view_module": "@jupyter-widgets/controls",
            "_view_module_version": "1.5.0",
            "_view_name": "HTMLView",
            "description": "",
            "description_tooltip": null,
            "layout": "IPY_MODEL_a89c06aaac5842f2b04532238ba0ae15",
            "placeholder": "​",
            "style": "IPY_MODEL_4d1efcc0758d48cc8104cf544ceffa99",
            "value": "Downloading data: 100%"
          }
        },
        "907ee91ef345412dbc472cdae9c582af": {
          "model_module": "@jupyter-widgets/controls",
          "model_name": "FloatProgressModel",
          "model_module_version": "1.5.0",
          "state": {
            "_dom_classes": [],
            "_model_module": "@jupyter-widgets/controls",
            "_model_module_version": "1.5.0",
            "_model_name": "FloatProgressModel",
            "_view_count": null,
            "_view_module": "@jupyter-widgets/controls",
            "_view_module_version": "1.5.0",
            "_view_name": "ProgressView",
            "bar_style": "success",
            "description": "",
            "description_tooltip": null,
            "layout": "IPY_MODEL_469200da6f8e4eb9bdd1627c7013e865",
            "max": 119705255,
            "min": 0,
            "orientation": "horizontal",
            "style": "IPY_MODEL_45893b28177140c99ec3c66dfd126654",
            "value": 119705255
          }
        },
        "37df491cb5b641ec8f289b2534cafd31": {
          "model_module": "@jupyter-widgets/controls",
          "model_name": "HTMLModel",
          "model_module_version": "1.5.0",
          "state": {
            "_dom_classes": [],
            "_model_module": "@jupyter-widgets/controls",
            "_model_module_version": "1.5.0",
            "_model_name": "HTMLModel",
            "_view_count": null,
            "_view_module": "@jupyter-widgets/controls",
            "_view_module_version": "1.5.0",
            "_view_name": "HTMLView",
            "description": "",
            "description_tooltip": null,
            "layout": "IPY_MODEL_38b3a232467c41fc8491b2b1e02cc9a0",
            "placeholder": "​",
            "style": "IPY_MODEL_7f78329b6c514a95b71c853036537ee8",
            "value": " 120M/120M [00:01&lt;00:00, 138MB/s]"
          }
        },
        "fd6dd74a80704c6985bacf1fcf635981": {
          "model_module": "@jupyter-widgets/base",
          "model_name": "LayoutModel",
          "model_module_version": "1.2.0",
          "state": {
            "_model_module": "@jupyter-widgets/base",
            "_model_module_version": "1.2.0",
            "_model_name": "LayoutModel",
            "_view_count": null,
            "_view_module": "@jupyter-widgets/base",
            "_view_module_version": "1.2.0",
            "_view_name": "LayoutView",
            "align_content": null,
            "align_items": null,
            "align_self": null,
            "border": null,
            "bottom": null,
            "display": null,
            "flex": null,
            "flex_flow": null,
            "grid_area": null,
            "grid_auto_columns": null,
            "grid_auto_flow": null,
            "grid_auto_rows": null,
            "grid_column": null,
            "grid_gap": null,
            "grid_row": null,
            "grid_template_areas": null,
            "grid_template_columns": null,
            "grid_template_rows": null,
            "height": null,
            "justify_content": null,
            "justify_items": null,
            "left": null,
            "margin": null,
            "max_height": null,
            "max_width": null,
            "min_height": null,
            "min_width": null,
            "object_fit": null,
            "object_position": null,
            "order": null,
            "overflow": null,
            "overflow_x": null,
            "overflow_y": null,
            "padding": null,
            "right": null,
            "top": null,
            "visibility": null,
            "width": null
          }
        },
        "a89c06aaac5842f2b04532238ba0ae15": {
          "model_module": "@jupyter-widgets/base",
          "model_name": "LayoutModel",
          "model_module_version": "1.2.0",
          "state": {
            "_model_module": "@jupyter-widgets/base",
            "_model_module_version": "1.2.0",
            "_model_name": "LayoutModel",
            "_view_count": null,
            "_view_module": "@jupyter-widgets/base",
            "_view_module_version": "1.2.0",
            "_view_name": "LayoutView",
            "align_content": null,
            "align_items": null,
            "align_self": null,
            "border": null,
            "bottom": null,
            "display": null,
            "flex": null,
            "flex_flow": null,
            "grid_area": null,
            "grid_auto_columns": null,
            "grid_auto_flow": null,
            "grid_auto_rows": null,
            "grid_column": null,
            "grid_gap": null,
            "grid_row": null,
            "grid_template_areas": null,
            "grid_template_columns": null,
            "grid_template_rows": null,
            "height": null,
            "justify_content": null,
            "justify_items": null,
            "left": null,
            "margin": null,
            "max_height": null,
            "max_width": null,
            "min_height": null,
            "min_width": null,
            "object_fit": null,
            "object_position": null,
            "order": null,
            "overflow": null,
            "overflow_x": null,
            "overflow_y": null,
            "padding": null,
            "right": null,
            "top": null,
            "visibility": null,
            "width": null
          }
        },
        "4d1efcc0758d48cc8104cf544ceffa99": {
          "model_module": "@jupyter-widgets/controls",
          "model_name": "DescriptionStyleModel",
          "model_module_version": "1.5.0",
          "state": {
            "_model_module": "@jupyter-widgets/controls",
            "_model_module_version": "1.5.0",
            "_model_name": "DescriptionStyleModel",
            "_view_count": null,
            "_view_module": "@jupyter-widgets/base",
            "_view_module_version": "1.2.0",
            "_view_name": "StyleView",
            "description_width": ""
          }
        },
        "469200da6f8e4eb9bdd1627c7013e865": {
          "model_module": "@jupyter-widgets/base",
          "model_name": "LayoutModel",
          "model_module_version": "1.2.0",
          "state": {
            "_model_module": "@jupyter-widgets/base",
            "_model_module_version": "1.2.0",
            "_model_name": "LayoutModel",
            "_view_count": null,
            "_view_module": "@jupyter-widgets/base",
            "_view_module_version": "1.2.0",
            "_view_name": "LayoutView",
            "align_content": null,
            "align_items": null,
            "align_self": null,
            "border": null,
            "bottom": null,
            "display": null,
            "flex": null,
            "flex_flow": null,
            "grid_area": null,
            "grid_auto_columns": null,
            "grid_auto_flow": null,
            "grid_auto_rows": null,
            "grid_column": null,
            "grid_gap": null,
            "grid_row": null,
            "grid_template_areas": null,
            "grid_template_columns": null,
            "grid_template_rows": null,
            "height": null,
            "justify_content": null,
            "justify_items": null,
            "left": null,
            "margin": null,
            "max_height": null,
            "max_width": null,
            "min_height": null,
            "min_width": null,
            "object_fit": null,
            "object_position": null,
            "order": null,
            "overflow": null,
            "overflow_x": null,
            "overflow_y": null,
            "padding": null,
            "right": null,
            "top": null,
            "visibility": null,
            "width": null
          }
        },
        "45893b28177140c99ec3c66dfd126654": {
          "model_module": "@jupyter-widgets/controls",
          "model_name": "ProgressStyleModel",
          "model_module_version": "1.5.0",
          "state": {
            "_model_module": "@jupyter-widgets/controls",
            "_model_module_version": "1.5.0",
            "_model_name": "ProgressStyleModel",
            "_view_count": null,
            "_view_module": "@jupyter-widgets/base",
            "_view_module_version": "1.2.0",
            "_view_name": "StyleView",
            "bar_color": null,
            "description_width": ""
          }
        },
        "38b3a232467c41fc8491b2b1e02cc9a0": {
          "model_module": "@jupyter-widgets/base",
          "model_name": "LayoutModel",
          "model_module_version": "1.2.0",
          "state": {
            "_model_module": "@jupyter-widgets/base",
            "_model_module_version": "1.2.0",
            "_model_name": "LayoutModel",
            "_view_count": null,
            "_view_module": "@jupyter-widgets/base",
            "_view_module_version": "1.2.0",
            "_view_name": "LayoutView",
            "align_content": null,
            "align_items": null,
            "align_self": null,
            "border": null,
            "bottom": null,
            "display": null,
            "flex": null,
            "flex_flow": null,
            "grid_area": null,
            "grid_auto_columns": null,
            "grid_auto_flow": null,
            "grid_auto_rows": null,
            "grid_column": null,
            "grid_gap": null,
            "grid_row": null,
            "grid_template_areas": null,
            "grid_template_columns": null,
            "grid_template_rows": null,
            "height": null,
            "justify_content": null,
            "justify_items": null,
            "left": null,
            "margin": null,
            "max_height": null,
            "max_width": null,
            "min_height": null,
            "min_width": null,
            "object_fit": null,
            "object_position": null,
            "order": null,
            "overflow": null,
            "overflow_x": null,
            "overflow_y": null,
            "padding": null,
            "right": null,
            "top": null,
            "visibility": null,
            "width": null
          }
        },
        "7f78329b6c514a95b71c853036537ee8": {
          "model_module": "@jupyter-widgets/controls",
          "model_name": "DescriptionStyleModel",
          "model_module_version": "1.5.0",
          "state": {
            "_model_module": "@jupyter-widgets/controls",
            "_model_module_version": "1.5.0",
            "_model_name": "DescriptionStyleModel",
            "_view_count": null,
            "_view_module": "@jupyter-widgets/base",
            "_view_module_version": "1.2.0",
            "_view_name": "StyleView",
            "description_width": ""
          }
        },
        "1aac8b37e3ce417897842bb8c5d16702": {
          "model_module": "@jupyter-widgets/controls",
          "model_name": "HBoxModel",
          "model_module_version": "1.5.0",
          "state": {
            "_dom_classes": [],
            "_model_module": "@jupyter-widgets/controls",
            "_model_module_version": "1.5.0",
            "_model_name": "HBoxModel",
            "_view_count": null,
            "_view_module": "@jupyter-widgets/controls",
            "_view_module_version": "1.5.0",
            "_view_name": "HBoxView",
            "box_style": "",
            "children": [
              "IPY_MODEL_cb14f4e297984fa082dee2f79a4be514",
              "IPY_MODEL_a282038c9dce474186748bde4a1dcaa4",
              "IPY_MODEL_64cf38f0952548228ce06ae3fcccefa0"
            ],
            "layout": "IPY_MODEL_6f3ad879baa24fb18a5a279821f966ff"
          }
        },
        "cb14f4e297984fa082dee2f79a4be514": {
          "model_module": "@jupyter-widgets/controls",
          "model_name": "HTMLModel",
          "model_module_version": "1.5.0",
          "state": {
            "_dom_classes": [],
            "_model_module": "@jupyter-widgets/controls",
            "_model_module_version": "1.5.0",
            "_model_name": "HTMLModel",
            "_view_count": null,
            "_view_module": "@jupyter-widgets/controls",
            "_view_module_version": "1.5.0",
            "_view_name": "HTMLView",
            "description": "",
            "description_tooltip": null,
            "layout": "IPY_MODEL_a9a0e3e618314f7f92dfe63e82cefc0c",
            "placeholder": "​",
            "style": "IPY_MODEL_a4d953c48d644de8b8c1dc170057b10f",
            "value": "Downloading data: 100%"
          }
        },
        "a282038c9dce474186748bde4a1dcaa4": {
          "model_module": "@jupyter-widgets/controls",
          "model_name": "FloatProgressModel",
          "model_module_version": "1.5.0",
          "state": {
            "_dom_classes": [],
            "_model_module": "@jupyter-widgets/controls",
            "_model_module_version": "1.5.0",
            "_model_name": "FloatProgressModel",
            "_view_count": null,
            "_view_module": "@jupyter-widgets/controls",
            "_view_module_version": "1.5.0",
            "_view_name": "ProgressView",
            "bar_style": "success",
            "description": "",
            "description_tooltip": null,
            "layout": "IPY_MODEL_fdfbb86dbec849438c29d531f90d1e5f",
            "max": 23940850,
            "min": 0,
            "orientation": "horizontal",
            "style": "IPY_MODEL_8474a97160484504ac6a8ce14a08980b",
            "value": 23940850
          }
        },
        "64cf38f0952548228ce06ae3fcccefa0": {
          "model_module": "@jupyter-widgets/controls",
          "model_name": "HTMLModel",
          "model_module_version": "1.5.0",
          "state": {
            "_dom_classes": [],
            "_model_module": "@jupyter-widgets/controls",
            "_model_module_version": "1.5.0",
            "_model_name": "HTMLModel",
            "_view_count": null,
            "_view_module": "@jupyter-widgets/controls",
            "_view_module_version": "1.5.0",
            "_view_name": "HTMLView",
            "description": "",
            "description_tooltip": null,
            "layout": "IPY_MODEL_62bc4db8bb3a47fd8d93728373dfb73d",
            "placeholder": "​",
            "style": "IPY_MODEL_c03e905b657044e0af17b810e1d44563",
            "value": " 23.9M/23.9M [00:00&lt;00:00, 66.5MB/s]"
          }
        },
        "6f3ad879baa24fb18a5a279821f966ff": {
          "model_module": "@jupyter-widgets/base",
          "model_name": "LayoutModel",
          "model_module_version": "1.2.0",
          "state": {
            "_model_module": "@jupyter-widgets/base",
            "_model_module_version": "1.2.0",
            "_model_name": "LayoutModel",
            "_view_count": null,
            "_view_module": "@jupyter-widgets/base",
            "_view_module_version": "1.2.0",
            "_view_name": "LayoutView",
            "align_content": null,
            "align_items": null,
            "align_self": null,
            "border": null,
            "bottom": null,
            "display": null,
            "flex": null,
            "flex_flow": null,
            "grid_area": null,
            "grid_auto_columns": null,
            "grid_auto_flow": null,
            "grid_auto_rows": null,
            "grid_column": null,
            "grid_gap": null,
            "grid_row": null,
            "grid_template_areas": null,
            "grid_template_columns": null,
            "grid_template_rows": null,
            "height": null,
            "justify_content": null,
            "justify_items": null,
            "left": null,
            "margin": null,
            "max_height": null,
            "max_width": null,
            "min_height": null,
            "min_width": null,
            "object_fit": null,
            "object_position": null,
            "order": null,
            "overflow": null,
            "overflow_x": null,
            "overflow_y": null,
            "padding": null,
            "right": null,
            "top": null,
            "visibility": null,
            "width": null
          }
        },
        "a9a0e3e618314f7f92dfe63e82cefc0c": {
          "model_module": "@jupyter-widgets/base",
          "model_name": "LayoutModel",
          "model_module_version": "1.2.0",
          "state": {
            "_model_module": "@jupyter-widgets/base",
            "_model_module_version": "1.2.0",
            "_model_name": "LayoutModel",
            "_view_count": null,
            "_view_module": "@jupyter-widgets/base",
            "_view_module_version": "1.2.0",
            "_view_name": "LayoutView",
            "align_content": null,
            "align_items": null,
            "align_self": null,
            "border": null,
            "bottom": null,
            "display": null,
            "flex": null,
            "flex_flow": null,
            "grid_area": null,
            "grid_auto_columns": null,
            "grid_auto_flow": null,
            "grid_auto_rows": null,
            "grid_column": null,
            "grid_gap": null,
            "grid_row": null,
            "grid_template_areas": null,
            "grid_template_columns": null,
            "grid_template_rows": null,
            "height": null,
            "justify_content": null,
            "justify_items": null,
            "left": null,
            "margin": null,
            "max_height": null,
            "max_width": null,
            "min_height": null,
            "min_width": null,
            "object_fit": null,
            "object_position": null,
            "order": null,
            "overflow": null,
            "overflow_x": null,
            "overflow_y": null,
            "padding": null,
            "right": null,
            "top": null,
            "visibility": null,
            "width": null
          }
        },
        "a4d953c48d644de8b8c1dc170057b10f": {
          "model_module": "@jupyter-widgets/controls",
          "model_name": "DescriptionStyleModel",
          "model_module_version": "1.5.0",
          "state": {
            "_model_module": "@jupyter-widgets/controls",
            "_model_module_version": "1.5.0",
            "_model_name": "DescriptionStyleModel",
            "_view_count": null,
            "_view_module": "@jupyter-widgets/base",
            "_view_module_version": "1.2.0",
            "_view_name": "StyleView",
            "description_width": ""
          }
        },
        "fdfbb86dbec849438c29d531f90d1e5f": {
          "model_module": "@jupyter-widgets/base",
          "model_name": "LayoutModel",
          "model_module_version": "1.2.0",
          "state": {
            "_model_module": "@jupyter-widgets/base",
            "_model_module_version": "1.2.0",
            "_model_name": "LayoutModel",
            "_view_count": null,
            "_view_module": "@jupyter-widgets/base",
            "_view_module_version": "1.2.0",
            "_view_name": "LayoutView",
            "align_content": null,
            "align_items": null,
            "align_self": null,
            "border": null,
            "bottom": null,
            "display": null,
            "flex": null,
            "flex_flow": null,
            "grid_area": null,
            "grid_auto_columns": null,
            "grid_auto_flow": null,
            "grid_auto_rows": null,
            "grid_column": null,
            "grid_gap": null,
            "grid_row": null,
            "grid_template_areas": null,
            "grid_template_columns": null,
            "grid_template_rows": null,
            "height": null,
            "justify_content": null,
            "justify_items": null,
            "left": null,
            "margin": null,
            "max_height": null,
            "max_width": null,
            "min_height": null,
            "min_width": null,
            "object_fit": null,
            "object_position": null,
            "order": null,
            "overflow": null,
            "overflow_x": null,
            "overflow_y": null,
            "padding": null,
            "right": null,
            "top": null,
            "visibility": null,
            "width": null
          }
        },
        "8474a97160484504ac6a8ce14a08980b": {
          "model_module": "@jupyter-widgets/controls",
          "model_name": "ProgressStyleModel",
          "model_module_version": "1.5.0",
          "state": {
            "_model_module": "@jupyter-widgets/controls",
            "_model_module_version": "1.5.0",
            "_model_name": "ProgressStyleModel",
            "_view_count": null,
            "_view_module": "@jupyter-widgets/base",
            "_view_module_version": "1.2.0",
            "_view_name": "StyleView",
            "bar_color": null,
            "description_width": ""
          }
        },
        "62bc4db8bb3a47fd8d93728373dfb73d": {
          "model_module": "@jupyter-widgets/base",
          "model_name": "LayoutModel",
          "model_module_version": "1.2.0",
          "state": {
            "_model_module": "@jupyter-widgets/base",
            "_model_module_version": "1.2.0",
            "_model_name": "LayoutModel",
            "_view_count": null,
            "_view_module": "@jupyter-widgets/base",
            "_view_module_version": "1.2.0",
            "_view_name": "LayoutView",
            "align_content": null,
            "align_items": null,
            "align_self": null,
            "border": null,
            "bottom": null,
            "display": null,
            "flex": null,
            "flex_flow": null,
            "grid_area": null,
            "grid_auto_columns": null,
            "grid_auto_flow": null,
            "grid_auto_rows": null,
            "grid_column": null,
            "grid_gap": null,
            "grid_row": null,
            "grid_template_areas": null,
            "grid_template_columns": null,
            "grid_template_rows": null,
            "height": null,
            "justify_content": null,
            "justify_items": null,
            "left": null,
            "margin": null,
            "max_height": null,
            "max_width": null,
            "min_height": null,
            "min_width": null,
            "object_fit": null,
            "object_position": null,
            "order": null,
            "overflow": null,
            "overflow_x": null,
            "overflow_y": null,
            "padding": null,
            "right": null,
            "top": null,
            "visibility": null,
            "width": null
          }
        },
        "c03e905b657044e0af17b810e1d44563": {
          "model_module": "@jupyter-widgets/controls",
          "model_name": "DescriptionStyleModel",
          "model_module_version": "1.5.0",
          "state": {
            "_model_module": "@jupyter-widgets/controls",
            "_model_module_version": "1.5.0",
            "_model_name": "DescriptionStyleModel",
            "_view_count": null,
            "_view_module": "@jupyter-widgets/base",
            "_view_module_version": "1.2.0",
            "_view_name": "StyleView",
            "description_width": ""
          }
        },
        "17ff6047ec784c45a5e48f9a2f089e86": {
          "model_module": "@jupyter-widgets/controls",
          "model_name": "HBoxModel",
          "model_module_version": "1.5.0",
          "state": {
            "_dom_classes": [],
            "_model_module": "@jupyter-widgets/controls",
            "_model_module_version": "1.5.0",
            "_model_name": "HBoxModel",
            "_view_count": null,
            "_view_module": "@jupyter-widgets/controls",
            "_view_module_version": "1.5.0",
            "_view_name": "HBoxView",
            "box_style": "",
            "children": [
              "IPY_MODEL_ad7b59299d734302bb259d30711583f3",
              "IPY_MODEL_b01e0673c51a4ee3b64870ba8403fb76",
              "IPY_MODEL_6313d09ee1ac4aa9a43caa4094e9cf52"
            ],
            "layout": "IPY_MODEL_8918258a85e54e51bbb577223551afcf"
          }
        },
        "ad7b59299d734302bb259d30711583f3": {
          "model_module": "@jupyter-widgets/controls",
          "model_name": "HTMLModel",
          "model_module_version": "1.5.0",
          "state": {
            "_dom_classes": [],
            "_model_module": "@jupyter-widgets/controls",
            "_model_module_version": "1.5.0",
            "_model_name": "HTMLModel",
            "_view_count": null,
            "_view_module": "@jupyter-widgets/controls",
            "_view_module_version": "1.5.0",
            "_view_name": "HTMLView",
            "description": "",
            "description_tooltip": null,
            "layout": "IPY_MODEL_36a6874ac85347859524834217ad5bee",
            "placeholder": "​",
            "style": "IPY_MODEL_dae4f7386eea450d9b0d632ba7dba72a",
            "value": "Generating train split: 100%"
          }
        },
        "b01e0673c51a4ee3b64870ba8403fb76": {
          "model_module": "@jupyter-widgets/controls",
          "model_name": "FloatProgressModel",
          "model_module_version": "1.5.0",
          "state": {
            "_dom_classes": [],
            "_model_module": "@jupyter-widgets/controls",
            "_model_module_version": "1.5.0",
            "_model_name": "FloatProgressModel",
            "_view_count": null,
            "_view_module": "@jupyter-widgets/controls",
            "_view_module_version": "1.5.0",
            "_view_name": "ProgressView",
            "bar_style": "success",
            "description": "",
            "description_tooltip": null,
            "layout": "IPY_MODEL_77170d7dd534447c936a3aca132cfbff",
            "max": 50000,
            "min": 0,
            "orientation": "horizontal",
            "style": "IPY_MODEL_eb288a14357e4d46bac42823c44276fd",
            "value": 50000
          }
        },
        "6313d09ee1ac4aa9a43caa4094e9cf52": {
          "model_module": "@jupyter-widgets/controls",
          "model_name": "HTMLModel",
          "model_module_version": "1.5.0",
          "state": {
            "_dom_classes": [],
            "_model_module": "@jupyter-widgets/controls",
            "_model_module_version": "1.5.0",
            "_model_name": "HTMLModel",
            "_view_count": null,
            "_view_module": "@jupyter-widgets/controls",
            "_view_module_version": "1.5.0",
            "_view_name": "HTMLView",
            "description": "",
            "description_tooltip": null,
            "layout": "IPY_MODEL_6fd14779e50d49959726916cf6e3446e",
            "placeholder": "​",
            "style": "IPY_MODEL_4e77610a32404a06adfb7a823a62b9eb",
            "value": " 50000/50000 [00:00&lt;00:00, 86775.97 examples/s]"
          }
        },
        "8918258a85e54e51bbb577223551afcf": {
          "model_module": "@jupyter-widgets/base",
          "model_name": "LayoutModel",
          "model_module_version": "1.2.0",
          "state": {
            "_model_module": "@jupyter-widgets/base",
            "_model_module_version": "1.2.0",
            "_model_name": "LayoutModel",
            "_view_count": null,
            "_view_module": "@jupyter-widgets/base",
            "_view_module_version": "1.2.0",
            "_view_name": "LayoutView",
            "align_content": null,
            "align_items": null,
            "align_self": null,
            "border": null,
            "bottom": null,
            "display": null,
            "flex": null,
            "flex_flow": null,
            "grid_area": null,
            "grid_auto_columns": null,
            "grid_auto_flow": null,
            "grid_auto_rows": null,
            "grid_column": null,
            "grid_gap": null,
            "grid_row": null,
            "grid_template_areas": null,
            "grid_template_columns": null,
            "grid_template_rows": null,
            "height": null,
            "justify_content": null,
            "justify_items": null,
            "left": null,
            "margin": null,
            "max_height": null,
            "max_width": null,
            "min_height": null,
            "min_width": null,
            "object_fit": null,
            "object_position": null,
            "order": null,
            "overflow": null,
            "overflow_x": null,
            "overflow_y": null,
            "padding": null,
            "right": null,
            "top": null,
            "visibility": null,
            "width": null
          }
        },
        "36a6874ac85347859524834217ad5bee": {
          "model_module": "@jupyter-widgets/base",
          "model_name": "LayoutModel",
          "model_module_version": "1.2.0",
          "state": {
            "_model_module": "@jupyter-widgets/base",
            "_model_module_version": "1.2.0",
            "_model_name": "LayoutModel",
            "_view_count": null,
            "_view_module": "@jupyter-widgets/base",
            "_view_module_version": "1.2.0",
            "_view_name": "LayoutView",
            "align_content": null,
            "align_items": null,
            "align_self": null,
            "border": null,
            "bottom": null,
            "display": null,
            "flex": null,
            "flex_flow": null,
            "grid_area": null,
            "grid_auto_columns": null,
            "grid_auto_flow": null,
            "grid_auto_rows": null,
            "grid_column": null,
            "grid_gap": null,
            "grid_row": null,
            "grid_template_areas": null,
            "grid_template_columns": null,
            "grid_template_rows": null,
            "height": null,
            "justify_content": null,
            "justify_items": null,
            "left": null,
            "margin": null,
            "max_height": null,
            "max_width": null,
            "min_height": null,
            "min_width": null,
            "object_fit": null,
            "object_position": null,
            "order": null,
            "overflow": null,
            "overflow_x": null,
            "overflow_y": null,
            "padding": null,
            "right": null,
            "top": null,
            "visibility": null,
            "width": null
          }
        },
        "dae4f7386eea450d9b0d632ba7dba72a": {
          "model_module": "@jupyter-widgets/controls",
          "model_name": "DescriptionStyleModel",
          "model_module_version": "1.5.0",
          "state": {
            "_model_module": "@jupyter-widgets/controls",
            "_model_module_version": "1.5.0",
            "_model_name": "DescriptionStyleModel",
            "_view_count": null,
            "_view_module": "@jupyter-widgets/base",
            "_view_module_version": "1.2.0",
            "_view_name": "StyleView",
            "description_width": ""
          }
        },
        "77170d7dd534447c936a3aca132cfbff": {
          "model_module": "@jupyter-widgets/base",
          "model_name": "LayoutModel",
          "model_module_version": "1.2.0",
          "state": {
            "_model_module": "@jupyter-widgets/base",
            "_model_module_version": "1.2.0",
            "_model_name": "LayoutModel",
            "_view_count": null,
            "_view_module": "@jupyter-widgets/base",
            "_view_module_version": "1.2.0",
            "_view_name": "LayoutView",
            "align_content": null,
            "align_items": null,
            "align_self": null,
            "border": null,
            "bottom": null,
            "display": null,
            "flex": null,
            "flex_flow": null,
            "grid_area": null,
            "grid_auto_columns": null,
            "grid_auto_flow": null,
            "grid_auto_rows": null,
            "grid_column": null,
            "grid_gap": null,
            "grid_row": null,
            "grid_template_areas": null,
            "grid_template_columns": null,
            "grid_template_rows": null,
            "height": null,
            "justify_content": null,
            "justify_items": null,
            "left": null,
            "margin": null,
            "max_height": null,
            "max_width": null,
            "min_height": null,
            "min_width": null,
            "object_fit": null,
            "object_position": null,
            "order": null,
            "overflow": null,
            "overflow_x": null,
            "overflow_y": null,
            "padding": null,
            "right": null,
            "top": null,
            "visibility": null,
            "width": null
          }
        },
        "eb288a14357e4d46bac42823c44276fd": {
          "model_module": "@jupyter-widgets/controls",
          "model_name": "ProgressStyleModel",
          "model_module_version": "1.5.0",
          "state": {
            "_model_module": "@jupyter-widgets/controls",
            "_model_module_version": "1.5.0",
            "_model_name": "ProgressStyleModel",
            "_view_count": null,
            "_view_module": "@jupyter-widgets/base",
            "_view_module_version": "1.2.0",
            "_view_name": "StyleView",
            "bar_color": null,
            "description_width": ""
          }
        },
        "6fd14779e50d49959726916cf6e3446e": {
          "model_module": "@jupyter-widgets/base",
          "model_name": "LayoutModel",
          "model_module_version": "1.2.0",
          "state": {
            "_model_module": "@jupyter-widgets/base",
            "_model_module_version": "1.2.0",
            "_model_name": "LayoutModel",
            "_view_count": null,
            "_view_module": "@jupyter-widgets/base",
            "_view_module_version": "1.2.0",
            "_view_name": "LayoutView",
            "align_content": null,
            "align_items": null,
            "align_self": null,
            "border": null,
            "bottom": null,
            "display": null,
            "flex": null,
            "flex_flow": null,
            "grid_area": null,
            "grid_auto_columns": null,
            "grid_auto_flow": null,
            "grid_auto_rows": null,
            "grid_column": null,
            "grid_gap": null,
            "grid_row": null,
            "grid_template_areas": null,
            "grid_template_columns": null,
            "grid_template_rows": null,
            "height": null,
            "justify_content": null,
            "justify_items": null,
            "left": null,
            "margin": null,
            "max_height": null,
            "max_width": null,
            "min_height": null,
            "min_width": null,
            "object_fit": null,
            "object_position": null,
            "order": null,
            "overflow": null,
            "overflow_x": null,
            "overflow_y": null,
            "padding": null,
            "right": null,
            "top": null,
            "visibility": null,
            "width": null
          }
        },
        "4e77610a32404a06adfb7a823a62b9eb": {
          "model_module": "@jupyter-widgets/controls",
          "model_name": "DescriptionStyleModel",
          "model_module_version": "1.5.0",
          "state": {
            "_model_module": "@jupyter-widgets/controls",
            "_model_module_version": "1.5.0",
            "_model_name": "DescriptionStyleModel",
            "_view_count": null,
            "_view_module": "@jupyter-widgets/base",
            "_view_module_version": "1.2.0",
            "_view_name": "StyleView",
            "description_width": ""
          }
        },
        "a963afb5ccdd4b75b789259a8da47fb7": {
          "model_module": "@jupyter-widgets/controls",
          "model_name": "HBoxModel",
          "model_module_version": "1.5.0",
          "state": {
            "_dom_classes": [],
            "_model_module": "@jupyter-widgets/controls",
            "_model_module_version": "1.5.0",
            "_model_name": "HBoxModel",
            "_view_count": null,
            "_view_module": "@jupyter-widgets/controls",
            "_view_module_version": "1.5.0",
            "_view_name": "HBoxView",
            "box_style": "",
            "children": [
              "IPY_MODEL_5e4e30266def4735802dddec3f64dfcf",
              "IPY_MODEL_77850022978b4347912d09cd4d306d5c",
              "IPY_MODEL_cd44b953c64045b39247d0a106ee77d1"
            ],
            "layout": "IPY_MODEL_e43321e1f26d4474a5dc0b9d0b04576d"
          }
        },
        "5e4e30266def4735802dddec3f64dfcf": {
          "model_module": "@jupyter-widgets/controls",
          "model_name": "HTMLModel",
          "model_module_version": "1.5.0",
          "state": {
            "_dom_classes": [],
            "_model_module": "@jupyter-widgets/controls",
            "_model_module_version": "1.5.0",
            "_model_name": "HTMLModel",
            "_view_count": null,
            "_view_module": "@jupyter-widgets/controls",
            "_view_module_version": "1.5.0",
            "_view_name": "HTMLView",
            "description": "",
            "description_tooltip": null,
            "layout": "IPY_MODEL_68132c1264024462801de97fb55dc2d9",
            "placeholder": "​",
            "style": "IPY_MODEL_785994e6925d46aca6c985b90a52e20b",
            "value": "Generating test split: 100%"
          }
        },
        "77850022978b4347912d09cd4d306d5c": {
          "model_module": "@jupyter-widgets/controls",
          "model_name": "FloatProgressModel",
          "model_module_version": "1.5.0",
          "state": {
            "_dom_classes": [],
            "_model_module": "@jupyter-widgets/controls",
            "_model_module_version": "1.5.0",
            "_model_name": "FloatProgressModel",
            "_view_count": null,
            "_view_module": "@jupyter-widgets/controls",
            "_view_module_version": "1.5.0",
            "_view_name": "ProgressView",
            "bar_style": "success",
            "description": "",
            "description_tooltip": null,
            "layout": "IPY_MODEL_61bf8ec713e74577a59d4be6e04bab40",
            "max": 10000,
            "min": 0,
            "orientation": "horizontal",
            "style": "IPY_MODEL_be457a34a0b444d5bbe05c2c7af145fd",
            "value": 10000
          }
        },
        "cd44b953c64045b39247d0a106ee77d1": {
          "model_module": "@jupyter-widgets/controls",
          "model_name": "HTMLModel",
          "model_module_version": "1.5.0",
          "state": {
            "_dom_classes": [],
            "_model_module": "@jupyter-widgets/controls",
            "_model_module_version": "1.5.0",
            "_model_name": "HTMLModel",
            "_view_count": null,
            "_view_module": "@jupyter-widgets/controls",
            "_view_module_version": "1.5.0",
            "_view_name": "HTMLView",
            "description": "",
            "description_tooltip": null,
            "layout": "IPY_MODEL_f585984e8ba54e138da0719dd1c277f8",
            "placeholder": "​",
            "style": "IPY_MODEL_bf5ec57e47e84d01ae1c7ee2b160666c",
            "value": " 10000/10000 [00:00&lt;00:00, 61534.76 examples/s]"
          }
        },
        "e43321e1f26d4474a5dc0b9d0b04576d": {
          "model_module": "@jupyter-widgets/base",
          "model_name": "LayoutModel",
          "model_module_version": "1.2.0",
          "state": {
            "_model_module": "@jupyter-widgets/base",
            "_model_module_version": "1.2.0",
            "_model_name": "LayoutModel",
            "_view_count": null,
            "_view_module": "@jupyter-widgets/base",
            "_view_module_version": "1.2.0",
            "_view_name": "LayoutView",
            "align_content": null,
            "align_items": null,
            "align_self": null,
            "border": null,
            "bottom": null,
            "display": null,
            "flex": null,
            "flex_flow": null,
            "grid_area": null,
            "grid_auto_columns": null,
            "grid_auto_flow": null,
            "grid_auto_rows": null,
            "grid_column": null,
            "grid_gap": null,
            "grid_row": null,
            "grid_template_areas": null,
            "grid_template_columns": null,
            "grid_template_rows": null,
            "height": null,
            "justify_content": null,
            "justify_items": null,
            "left": null,
            "margin": null,
            "max_height": null,
            "max_width": null,
            "min_height": null,
            "min_width": null,
            "object_fit": null,
            "object_position": null,
            "order": null,
            "overflow": null,
            "overflow_x": null,
            "overflow_y": null,
            "padding": null,
            "right": null,
            "top": null,
            "visibility": null,
            "width": null
          }
        },
        "68132c1264024462801de97fb55dc2d9": {
          "model_module": "@jupyter-widgets/base",
          "model_name": "LayoutModel",
          "model_module_version": "1.2.0",
          "state": {
            "_model_module": "@jupyter-widgets/base",
            "_model_module_version": "1.2.0",
            "_model_name": "LayoutModel",
            "_view_count": null,
            "_view_module": "@jupyter-widgets/base",
            "_view_module_version": "1.2.0",
            "_view_name": "LayoutView",
            "align_content": null,
            "align_items": null,
            "align_self": null,
            "border": null,
            "bottom": null,
            "display": null,
            "flex": null,
            "flex_flow": null,
            "grid_area": null,
            "grid_auto_columns": null,
            "grid_auto_flow": null,
            "grid_auto_rows": null,
            "grid_column": null,
            "grid_gap": null,
            "grid_row": null,
            "grid_template_areas": null,
            "grid_template_columns": null,
            "grid_template_rows": null,
            "height": null,
            "justify_content": null,
            "justify_items": null,
            "left": null,
            "margin": null,
            "max_height": null,
            "max_width": null,
            "min_height": null,
            "min_width": null,
            "object_fit": null,
            "object_position": null,
            "order": null,
            "overflow": null,
            "overflow_x": null,
            "overflow_y": null,
            "padding": null,
            "right": null,
            "top": null,
            "visibility": null,
            "width": null
          }
        },
        "785994e6925d46aca6c985b90a52e20b": {
          "model_module": "@jupyter-widgets/controls",
          "model_name": "DescriptionStyleModel",
          "model_module_version": "1.5.0",
          "state": {
            "_model_module": "@jupyter-widgets/controls",
            "_model_module_version": "1.5.0",
            "_model_name": "DescriptionStyleModel",
            "_view_count": null,
            "_view_module": "@jupyter-widgets/base",
            "_view_module_version": "1.2.0",
            "_view_name": "StyleView",
            "description_width": ""
          }
        },
        "61bf8ec713e74577a59d4be6e04bab40": {
          "model_module": "@jupyter-widgets/base",
          "model_name": "LayoutModel",
          "model_module_version": "1.2.0",
          "state": {
            "_model_module": "@jupyter-widgets/base",
            "_model_module_version": "1.2.0",
            "_model_name": "LayoutModel",
            "_view_count": null,
            "_view_module": "@jupyter-widgets/base",
            "_view_module_version": "1.2.0",
            "_view_name": "LayoutView",
            "align_content": null,
            "align_items": null,
            "align_self": null,
            "border": null,
            "bottom": null,
            "display": null,
            "flex": null,
            "flex_flow": null,
            "grid_area": null,
            "grid_auto_columns": null,
            "grid_auto_flow": null,
            "grid_auto_rows": null,
            "grid_column": null,
            "grid_gap": null,
            "grid_row": null,
            "grid_template_areas": null,
            "grid_template_columns": null,
            "grid_template_rows": null,
            "height": null,
            "justify_content": null,
            "justify_items": null,
            "left": null,
            "margin": null,
            "max_height": null,
            "max_width": null,
            "min_height": null,
            "min_width": null,
            "object_fit": null,
            "object_position": null,
            "order": null,
            "overflow": null,
            "overflow_x": null,
            "overflow_y": null,
            "padding": null,
            "right": null,
            "top": null,
            "visibility": null,
            "width": null
          }
        },
        "be457a34a0b444d5bbe05c2c7af145fd": {
          "model_module": "@jupyter-widgets/controls",
          "model_name": "ProgressStyleModel",
          "model_module_version": "1.5.0",
          "state": {
            "_model_module": "@jupyter-widgets/controls",
            "_model_module_version": "1.5.0",
            "_model_name": "ProgressStyleModel",
            "_view_count": null,
            "_view_module": "@jupyter-widgets/base",
            "_view_module_version": "1.2.0",
            "_view_name": "StyleView",
            "bar_color": null,
            "description_width": ""
          }
        },
        "f585984e8ba54e138da0719dd1c277f8": {
          "model_module": "@jupyter-widgets/base",
          "model_name": "LayoutModel",
          "model_module_version": "1.2.0",
          "state": {
            "_model_module": "@jupyter-widgets/base",
            "_model_module_version": "1.2.0",
            "_model_name": "LayoutModel",
            "_view_count": null,
            "_view_module": "@jupyter-widgets/base",
            "_view_module_version": "1.2.0",
            "_view_name": "LayoutView",
            "align_content": null,
            "align_items": null,
            "align_self": null,
            "border": null,
            "bottom": null,
            "display": null,
            "flex": null,
            "flex_flow": null,
            "grid_area": null,
            "grid_auto_columns": null,
            "grid_auto_flow": null,
            "grid_auto_rows": null,
            "grid_column": null,
            "grid_gap": null,
            "grid_row": null,
            "grid_template_areas": null,
            "grid_template_columns": null,
            "grid_template_rows": null,
            "height": null,
            "justify_content": null,
            "justify_items": null,
            "left": null,
            "margin": null,
            "max_height": null,
            "max_width": null,
            "min_height": null,
            "min_width": null,
            "object_fit": null,
            "object_position": null,
            "order": null,
            "overflow": null,
            "overflow_x": null,
            "overflow_y": null,
            "padding": null,
            "right": null,
            "top": null,
            "visibility": null,
            "width": null
          }
        },
        "bf5ec57e47e84d01ae1c7ee2b160666c": {
          "model_module": "@jupyter-widgets/controls",
          "model_name": "DescriptionStyleModel",
          "model_module_version": "1.5.0",
          "state": {
            "_model_module": "@jupyter-widgets/controls",
            "_model_module_version": "1.5.0",
            "_model_name": "DescriptionStyleModel",
            "_view_count": null,
            "_view_module": "@jupyter-widgets/base",
            "_view_module_version": "1.2.0",
            "_view_name": "StyleView",
            "description_width": ""
          }
        },
        "2e8de6d2c9d94ec1a11d43c8afa174e6": {
          "model_module": "@jupyter-widgets/controls",
          "model_name": "HBoxModel",
          "model_module_version": "1.5.0",
          "state": {
            "_dom_classes": [],
            "_model_module": "@jupyter-widgets/controls",
            "_model_module_version": "1.5.0",
            "_model_name": "HBoxModel",
            "_view_count": null,
            "_view_module": "@jupyter-widgets/controls",
            "_view_module_version": "1.5.0",
            "_view_name": "HBoxView",
            "box_style": "",
            "children": [
              "IPY_MODEL_b811051f8edc4f2ea1cb9c3b3c34ac2b",
              "IPY_MODEL_a1573efb7cc7424cb751cc6e48fcdc5d",
              "IPY_MODEL_17a929dc19c545cc9a5c353ab01b6d1e"
            ],
            "layout": "IPY_MODEL_adc7c691af6849f4b90e2ca602917ef1"
          }
        },
        "b811051f8edc4f2ea1cb9c3b3c34ac2b": {
          "model_module": "@jupyter-widgets/controls",
          "model_name": "HTMLModel",
          "model_module_version": "1.5.0",
          "state": {
            "_dom_classes": [],
            "_model_module": "@jupyter-widgets/controls",
            "_model_module_version": "1.5.0",
            "_model_name": "HTMLModel",
            "_view_count": null,
            "_view_module": "@jupyter-widgets/controls",
            "_view_module_version": "1.5.0",
            "_view_name": "HTMLView",
            "description": "",
            "description_tooltip": null,
            "layout": "IPY_MODEL_e5f12c26ee4348ffadf50ff2840f0530",
            "placeholder": "​",
            "style": "IPY_MODEL_6c9e95dfbd584cd2922878842fb53137",
            "value": "Downloading readme: 100%"
          }
        },
        "a1573efb7cc7424cb751cc6e48fcdc5d": {
          "model_module": "@jupyter-widgets/controls",
          "model_name": "FloatProgressModel",
          "model_module_version": "1.5.0",
          "state": {
            "_dom_classes": [],
            "_model_module": "@jupyter-widgets/controls",
            "_model_module_version": "1.5.0",
            "_model_name": "FloatProgressModel",
            "_view_count": null,
            "_view_module": "@jupyter-widgets/controls",
            "_view_module_version": "1.5.0",
            "_view_name": "ProgressView",
            "bar_style": "success",
            "description": "",
            "description_tooltip": null,
            "layout": "IPY_MODEL_225f39299d8c4f5b83d985328336ce2b",
            "max": 3900,
            "min": 0,
            "orientation": "horizontal",
            "style": "IPY_MODEL_546342b33ca54338b90943b94e81da71",
            "value": 3900
          }
        },
        "17a929dc19c545cc9a5c353ab01b6d1e": {
          "model_module": "@jupyter-widgets/controls",
          "model_name": "HTMLModel",
          "model_module_version": "1.5.0",
          "state": {
            "_dom_classes": [],
            "_model_module": "@jupyter-widgets/controls",
            "_model_module_version": "1.5.0",
            "_model_name": "HTMLModel",
            "_view_count": null,
            "_view_module": "@jupyter-widgets/controls",
            "_view_module_version": "1.5.0",
            "_view_name": "HTMLView",
            "description": "",
            "description_tooltip": null,
            "layout": "IPY_MODEL_802dfa58b8bc444b929149768a05f36f",
            "placeholder": "​",
            "style": "IPY_MODEL_f3f4d408951a490794c6503c87084996",
            "value": " 3.90k/3.90k [00:00&lt;00:00, 225kB/s]"
          }
        },
        "adc7c691af6849f4b90e2ca602917ef1": {
          "model_module": "@jupyter-widgets/base",
          "model_name": "LayoutModel",
          "model_module_version": "1.2.0",
          "state": {
            "_model_module": "@jupyter-widgets/base",
            "_model_module_version": "1.2.0",
            "_model_name": "LayoutModel",
            "_view_count": null,
            "_view_module": "@jupyter-widgets/base",
            "_view_module_version": "1.2.0",
            "_view_name": "LayoutView",
            "align_content": null,
            "align_items": null,
            "align_self": null,
            "border": null,
            "bottom": null,
            "display": null,
            "flex": null,
            "flex_flow": null,
            "grid_area": null,
            "grid_auto_columns": null,
            "grid_auto_flow": null,
            "grid_auto_rows": null,
            "grid_column": null,
            "grid_gap": null,
            "grid_row": null,
            "grid_template_areas": null,
            "grid_template_columns": null,
            "grid_template_rows": null,
            "height": null,
            "justify_content": null,
            "justify_items": null,
            "left": null,
            "margin": null,
            "max_height": null,
            "max_width": null,
            "min_height": null,
            "min_width": null,
            "object_fit": null,
            "object_position": null,
            "order": null,
            "overflow": null,
            "overflow_x": null,
            "overflow_y": null,
            "padding": null,
            "right": null,
            "top": null,
            "visibility": null,
            "width": null
          }
        },
        "e5f12c26ee4348ffadf50ff2840f0530": {
          "model_module": "@jupyter-widgets/base",
          "model_name": "LayoutModel",
          "model_module_version": "1.2.0",
          "state": {
            "_model_module": "@jupyter-widgets/base",
            "_model_module_version": "1.2.0",
            "_model_name": "LayoutModel",
            "_view_count": null,
            "_view_module": "@jupyter-widgets/base",
            "_view_module_version": "1.2.0",
            "_view_name": "LayoutView",
            "align_content": null,
            "align_items": null,
            "align_self": null,
            "border": null,
            "bottom": null,
            "display": null,
            "flex": null,
            "flex_flow": null,
            "grid_area": null,
            "grid_auto_columns": null,
            "grid_auto_flow": null,
            "grid_auto_rows": null,
            "grid_column": null,
            "grid_gap": null,
            "grid_row": null,
            "grid_template_areas": null,
            "grid_template_columns": null,
            "grid_template_rows": null,
            "height": null,
            "justify_content": null,
            "justify_items": null,
            "left": null,
            "margin": null,
            "max_height": null,
            "max_width": null,
            "min_height": null,
            "min_width": null,
            "object_fit": null,
            "object_position": null,
            "order": null,
            "overflow": null,
            "overflow_x": null,
            "overflow_y": null,
            "padding": null,
            "right": null,
            "top": null,
            "visibility": null,
            "width": null
          }
        },
        "6c9e95dfbd584cd2922878842fb53137": {
          "model_module": "@jupyter-widgets/controls",
          "model_name": "DescriptionStyleModel",
          "model_module_version": "1.5.0",
          "state": {
            "_model_module": "@jupyter-widgets/controls",
            "_model_module_version": "1.5.0",
            "_model_name": "DescriptionStyleModel",
            "_view_count": null,
            "_view_module": "@jupyter-widgets/base",
            "_view_module_version": "1.2.0",
            "_view_name": "StyleView",
            "description_width": ""
          }
        },
        "225f39299d8c4f5b83d985328336ce2b": {
          "model_module": "@jupyter-widgets/base",
          "model_name": "LayoutModel",
          "model_module_version": "1.2.0",
          "state": {
            "_model_module": "@jupyter-widgets/base",
            "_model_module_version": "1.2.0",
            "_model_name": "LayoutModel",
            "_view_count": null,
            "_view_module": "@jupyter-widgets/base",
            "_view_module_version": "1.2.0",
            "_view_name": "LayoutView",
            "align_content": null,
            "align_items": null,
            "align_self": null,
            "border": null,
            "bottom": null,
            "display": null,
            "flex": null,
            "flex_flow": null,
            "grid_area": null,
            "grid_auto_columns": null,
            "grid_auto_flow": null,
            "grid_auto_rows": null,
            "grid_column": null,
            "grid_gap": null,
            "grid_row": null,
            "grid_template_areas": null,
            "grid_template_columns": null,
            "grid_template_rows": null,
            "height": null,
            "justify_content": null,
            "justify_items": null,
            "left": null,
            "margin": null,
            "max_height": null,
            "max_width": null,
            "min_height": null,
            "min_width": null,
            "object_fit": null,
            "object_position": null,
            "order": null,
            "overflow": null,
            "overflow_x": null,
            "overflow_y": null,
            "padding": null,
            "right": null,
            "top": null,
            "visibility": null,
            "width": null
          }
        },
        "546342b33ca54338b90943b94e81da71": {
          "model_module": "@jupyter-widgets/controls",
          "model_name": "ProgressStyleModel",
          "model_module_version": "1.5.0",
          "state": {
            "_model_module": "@jupyter-widgets/controls",
            "_model_module_version": "1.5.0",
            "_model_name": "ProgressStyleModel",
            "_view_count": null,
            "_view_module": "@jupyter-widgets/base",
            "_view_module_version": "1.2.0",
            "_view_name": "StyleView",
            "bar_color": null,
            "description_width": ""
          }
        },
        "802dfa58b8bc444b929149768a05f36f": {
          "model_module": "@jupyter-widgets/base",
          "model_name": "LayoutModel",
          "model_module_version": "1.2.0",
          "state": {
            "_model_module": "@jupyter-widgets/base",
            "_model_module_version": "1.2.0",
            "_model_name": "LayoutModel",
            "_view_count": null,
            "_view_module": "@jupyter-widgets/base",
            "_view_module_version": "1.2.0",
            "_view_name": "LayoutView",
            "align_content": null,
            "align_items": null,
            "align_self": null,
            "border": null,
            "bottom": null,
            "display": null,
            "flex": null,
            "flex_flow": null,
            "grid_area": null,
            "grid_auto_columns": null,
            "grid_auto_flow": null,
            "grid_auto_rows": null,
            "grid_column": null,
            "grid_gap": null,
            "grid_row": null,
            "grid_template_areas": null,
            "grid_template_columns": null,
            "grid_template_rows": null,
            "height": null,
            "justify_content": null,
            "justify_items": null,
            "left": null,
            "margin": null,
            "max_height": null,
            "max_width": null,
            "min_height": null,
            "min_width": null,
            "object_fit": null,
            "object_position": null,
            "order": null,
            "overflow": null,
            "overflow_x": null,
            "overflow_y": null,
            "padding": null,
            "right": null,
            "top": null,
            "visibility": null,
            "width": null
          }
        },
        "f3f4d408951a490794c6503c87084996": {
          "model_module": "@jupyter-widgets/controls",
          "model_name": "DescriptionStyleModel",
          "model_module_version": "1.5.0",
          "state": {
            "_model_module": "@jupyter-widgets/controls",
            "_model_module_version": "1.5.0",
            "_model_name": "DescriptionStyleModel",
            "_view_count": null,
            "_view_module": "@jupyter-widgets/base",
            "_view_module_version": "1.2.0",
            "_view_name": "StyleView",
            "description_width": ""
          }
        },
        "3f687e13f5174ff9b39e9b0ac841efb8": {
          "model_module": "@jupyter-widgets/controls",
          "model_name": "HBoxModel",
          "model_module_version": "1.5.0",
          "state": {
            "_dom_classes": [],
            "_model_module": "@jupyter-widgets/controls",
            "_model_module_version": "1.5.0",
            "_model_name": "HBoxModel",
            "_view_count": null,
            "_view_module": "@jupyter-widgets/controls",
            "_view_module_version": "1.5.0",
            "_view_name": "HBoxView",
            "box_style": "",
            "children": [
              "IPY_MODEL_89670227e71c498da1bb286386d50b38",
              "IPY_MODEL_402e866b574e496980e71fcadbb64fbd",
              "IPY_MODEL_71ae0a2cd7a34782811ae870a97d3ba2"
            ],
            "layout": "IPY_MODEL_491eed9153804795bc0023013b3358d9"
          }
        },
        "89670227e71c498da1bb286386d50b38": {
          "model_module": "@jupyter-widgets/controls",
          "model_name": "HTMLModel",
          "model_module_version": "1.5.0",
          "state": {
            "_dom_classes": [],
            "_model_module": "@jupyter-widgets/controls",
            "_model_module_version": "1.5.0",
            "_model_name": "HTMLModel",
            "_view_count": null,
            "_view_module": "@jupyter-widgets/controls",
            "_view_module_version": "1.5.0",
            "_view_name": "HTMLView",
            "description": "",
            "description_tooltip": null,
            "layout": "IPY_MODEL_ddf9e60d7eb542fa8ca9f43d55aedc66",
            "placeholder": "​",
            "style": "IPY_MODEL_bb08501e7c2c4506b45def58da6d21da",
            "value": "Downloading metadata: 100%"
          }
        },
        "402e866b574e496980e71fcadbb64fbd": {
          "model_module": "@jupyter-widgets/controls",
          "model_name": "FloatProgressModel",
          "model_module_version": "1.5.0",
          "state": {
            "_dom_classes": [],
            "_model_module": "@jupyter-widgets/controls",
            "_model_module_version": "1.5.0",
            "_model_name": "FloatProgressModel",
            "_view_count": null,
            "_view_module": "@jupyter-widgets/controls",
            "_view_module_version": "1.5.0",
            "_view_name": "ProgressView",
            "bar_style": "success",
            "description": "",
            "description_tooltip": null,
            "layout": "IPY_MODEL_100a36f367a54e17944c7555e643fe0b",
            "max": 3522,
            "min": 0,
            "orientation": "horizontal",
            "style": "IPY_MODEL_a96dec3632434ab9b0f14383deae9ed3",
            "value": 3522
          }
        },
        "71ae0a2cd7a34782811ae870a97d3ba2": {
          "model_module": "@jupyter-widgets/controls",
          "model_name": "HTMLModel",
          "model_module_version": "1.5.0",
          "state": {
            "_dom_classes": [],
            "_model_module": "@jupyter-widgets/controls",
            "_model_module_version": "1.5.0",
            "_model_name": "HTMLModel",
            "_view_count": null,
            "_view_module": "@jupyter-widgets/controls",
            "_view_module_version": "1.5.0",
            "_view_name": "HTMLView",
            "description": "",
            "description_tooltip": null,
            "layout": "IPY_MODEL_9ad51caf063e482d9fa13a846fcee53e",
            "placeholder": "​",
            "style": "IPY_MODEL_4c01586248b641eebe7d36562b590aa5",
            "value": " 3.52k/3.52k [00:00&lt;00:00, 252kB/s]"
          }
        },
        "491eed9153804795bc0023013b3358d9": {
          "model_module": "@jupyter-widgets/base",
          "model_name": "LayoutModel",
          "model_module_version": "1.2.0",
          "state": {
            "_model_module": "@jupyter-widgets/base",
            "_model_module_version": "1.2.0",
            "_model_name": "LayoutModel",
            "_view_count": null,
            "_view_module": "@jupyter-widgets/base",
            "_view_module_version": "1.2.0",
            "_view_name": "LayoutView",
            "align_content": null,
            "align_items": null,
            "align_self": null,
            "border": null,
            "bottom": null,
            "display": null,
            "flex": null,
            "flex_flow": null,
            "grid_area": null,
            "grid_auto_columns": null,
            "grid_auto_flow": null,
            "grid_auto_rows": null,
            "grid_column": null,
            "grid_gap": null,
            "grid_row": null,
            "grid_template_areas": null,
            "grid_template_columns": null,
            "grid_template_rows": null,
            "height": null,
            "justify_content": null,
            "justify_items": null,
            "left": null,
            "margin": null,
            "max_height": null,
            "max_width": null,
            "min_height": null,
            "min_width": null,
            "object_fit": null,
            "object_position": null,
            "order": null,
            "overflow": null,
            "overflow_x": null,
            "overflow_y": null,
            "padding": null,
            "right": null,
            "top": null,
            "visibility": null,
            "width": null
          }
        },
        "ddf9e60d7eb542fa8ca9f43d55aedc66": {
          "model_module": "@jupyter-widgets/base",
          "model_name": "LayoutModel",
          "model_module_version": "1.2.0",
          "state": {
            "_model_module": "@jupyter-widgets/base",
            "_model_module_version": "1.2.0",
            "_model_name": "LayoutModel",
            "_view_count": null,
            "_view_module": "@jupyter-widgets/base",
            "_view_module_version": "1.2.0",
            "_view_name": "LayoutView",
            "align_content": null,
            "align_items": null,
            "align_self": null,
            "border": null,
            "bottom": null,
            "display": null,
            "flex": null,
            "flex_flow": null,
            "grid_area": null,
            "grid_auto_columns": null,
            "grid_auto_flow": null,
            "grid_auto_rows": null,
            "grid_column": null,
            "grid_gap": null,
            "grid_row": null,
            "grid_template_areas": null,
            "grid_template_columns": null,
            "grid_template_rows": null,
            "height": null,
            "justify_content": null,
            "justify_items": null,
            "left": null,
            "margin": null,
            "max_height": null,
            "max_width": null,
            "min_height": null,
            "min_width": null,
            "object_fit": null,
            "object_position": null,
            "order": null,
            "overflow": null,
            "overflow_x": null,
            "overflow_y": null,
            "padding": null,
            "right": null,
            "top": null,
            "visibility": null,
            "width": null
          }
        },
        "bb08501e7c2c4506b45def58da6d21da": {
          "model_module": "@jupyter-widgets/controls",
          "model_name": "DescriptionStyleModel",
          "model_module_version": "1.5.0",
          "state": {
            "_model_module": "@jupyter-widgets/controls",
            "_model_module_version": "1.5.0",
            "_model_name": "DescriptionStyleModel",
            "_view_count": null,
            "_view_module": "@jupyter-widgets/base",
            "_view_module_version": "1.2.0",
            "_view_name": "StyleView",
            "description_width": ""
          }
        },
        "100a36f367a54e17944c7555e643fe0b": {
          "model_module": "@jupyter-widgets/base",
          "model_name": "LayoutModel",
          "model_module_version": "1.2.0",
          "state": {
            "_model_module": "@jupyter-widgets/base",
            "_model_module_version": "1.2.0",
            "_model_name": "LayoutModel",
            "_view_count": null,
            "_view_module": "@jupyter-widgets/base",
            "_view_module_version": "1.2.0",
            "_view_name": "LayoutView",
            "align_content": null,
            "align_items": null,
            "align_self": null,
            "border": null,
            "bottom": null,
            "display": null,
            "flex": null,
            "flex_flow": null,
            "grid_area": null,
            "grid_auto_columns": null,
            "grid_auto_flow": null,
            "grid_auto_rows": null,
            "grid_column": null,
            "grid_gap": null,
            "grid_row": null,
            "grid_template_areas": null,
            "grid_template_columns": null,
            "grid_template_rows": null,
            "height": null,
            "justify_content": null,
            "justify_items": null,
            "left": null,
            "margin": null,
            "max_height": null,
            "max_width": null,
            "min_height": null,
            "min_width": null,
            "object_fit": null,
            "object_position": null,
            "order": null,
            "overflow": null,
            "overflow_x": null,
            "overflow_y": null,
            "padding": null,
            "right": null,
            "top": null,
            "visibility": null,
            "width": null
          }
        },
        "a96dec3632434ab9b0f14383deae9ed3": {
          "model_module": "@jupyter-widgets/controls",
          "model_name": "ProgressStyleModel",
          "model_module_version": "1.5.0",
          "state": {
            "_model_module": "@jupyter-widgets/controls",
            "_model_module_version": "1.5.0",
            "_model_name": "ProgressStyleModel",
            "_view_count": null,
            "_view_module": "@jupyter-widgets/base",
            "_view_module_version": "1.2.0",
            "_view_name": "StyleView",
            "bar_color": null,
            "description_width": ""
          }
        },
        "9ad51caf063e482d9fa13a846fcee53e": {
          "model_module": "@jupyter-widgets/base",
          "model_name": "LayoutModel",
          "model_module_version": "1.2.0",
          "state": {
            "_model_module": "@jupyter-widgets/base",
            "_model_module_version": "1.2.0",
            "_model_name": "LayoutModel",
            "_view_count": null,
            "_view_module": "@jupyter-widgets/base",
            "_view_module_version": "1.2.0",
            "_view_name": "LayoutView",
            "align_content": null,
            "align_items": null,
            "align_self": null,
            "border": null,
            "bottom": null,
            "display": null,
            "flex": null,
            "flex_flow": null,
            "grid_area": null,
            "grid_auto_columns": null,
            "grid_auto_flow": null,
            "grid_auto_rows": null,
            "grid_column": null,
            "grid_gap": null,
            "grid_row": null,
            "grid_template_areas": null,
            "grid_template_columns": null,
            "grid_template_rows": null,
            "height": null,
            "justify_content": null,
            "justify_items": null,
            "left": null,
            "margin": null,
            "max_height": null,
            "max_width": null,
            "min_height": null,
            "min_width": null,
            "object_fit": null,
            "object_position": null,
            "order": null,
            "overflow": null,
            "overflow_x": null,
            "overflow_y": null,
            "padding": null,
            "right": null,
            "top": null,
            "visibility": null,
            "width": null
          }
        },
        "4c01586248b641eebe7d36562b590aa5": {
          "model_module": "@jupyter-widgets/controls",
          "model_name": "DescriptionStyleModel",
          "model_module_version": "1.5.0",
          "state": {
            "_model_module": "@jupyter-widgets/controls",
            "_model_module_version": "1.5.0",
            "_model_name": "DescriptionStyleModel",
            "_view_count": null,
            "_view_module": "@jupyter-widgets/base",
            "_view_module_version": "1.2.0",
            "_view_name": "StyleView",
            "description_width": ""
          }
        },
        "ff7d08fedf82492d9bda7b5be8d64564": {
          "model_module": "@jupyter-widgets/controls",
          "model_name": "HBoxModel",
          "model_module_version": "1.5.0",
          "state": {
            "_dom_classes": [],
            "_model_module": "@jupyter-widgets/controls",
            "_model_module_version": "1.5.0",
            "_model_name": "HBoxModel",
            "_view_count": null,
            "_view_module": "@jupyter-widgets/controls",
            "_view_module_version": "1.5.0",
            "_view_name": "HBoxView",
            "box_style": "",
            "children": [
              "IPY_MODEL_985219ad41434578909b918abb768189",
              "IPY_MODEL_c953aca48d0d48a685871d0b5d4b535c",
              "IPY_MODEL_1f2c44c4d1b344c8b4700f1d6efa4827"
            ],
            "layout": "IPY_MODEL_27a8379b86774d0b8e8ebca90e4c5fbb"
          }
        },
        "985219ad41434578909b918abb768189": {
          "model_module": "@jupyter-widgets/controls",
          "model_name": "HTMLModel",
          "model_module_version": "1.5.0",
          "state": {
            "_dom_classes": [],
            "_model_module": "@jupyter-widgets/controls",
            "_model_module_version": "1.5.0",
            "_model_name": "HTMLModel",
            "_view_count": null,
            "_view_module": "@jupyter-widgets/controls",
            "_view_module_version": "1.5.0",
            "_view_name": "HTMLView",
            "description": "",
            "description_tooltip": null,
            "layout": "IPY_MODEL_b262d7d0a2484b57b3ee6d4020a88e0f",
            "placeholder": "​",
            "style": "IPY_MODEL_47bf77ebd106463e9484aed008ad7d48",
            "value": "Downloading data: 100%"
          }
        },
        "c953aca48d0d48a685871d0b5d4b535c": {
          "model_module": "@jupyter-widgets/controls",
          "model_name": "FloatProgressModel",
          "model_module_version": "1.5.0",
          "state": {
            "_dom_classes": [],
            "_model_module": "@jupyter-widgets/controls",
            "_model_module_version": "1.5.0",
            "_model_name": "FloatProgressModel",
            "_view_count": null,
            "_view_module": "@jupyter-widgets/controls",
            "_view_module_version": "1.5.0",
            "_view_name": "ProgressView",
            "bar_style": "success",
            "description": "",
            "description_tooltip": null,
            "layout": "IPY_MODEL_02f3898743644202bcef2c8a515b18c6",
            "max": 146480414,
            "min": 0,
            "orientation": "horizontal",
            "style": "IPY_MODEL_7e0ce41acd57492f880521a33e901d8e",
            "value": 146480414
          }
        },
        "1f2c44c4d1b344c8b4700f1d6efa4827": {
          "model_module": "@jupyter-widgets/controls",
          "model_name": "HTMLModel",
          "model_module_version": "1.5.0",
          "state": {
            "_dom_classes": [],
            "_model_module": "@jupyter-widgets/controls",
            "_model_module_version": "1.5.0",
            "_model_name": "HTMLModel",
            "_view_count": null,
            "_view_module": "@jupyter-widgets/controls",
            "_view_module_version": "1.5.0",
            "_view_name": "HTMLView",
            "description": "",
            "description_tooltip": null,
            "layout": "IPY_MODEL_7a31715785fe4bbe83e3812a29e3c592",
            "placeholder": "​",
            "style": "IPY_MODEL_efe252bd48ef4a7fbd15ce34d7de7ac6",
            "value": " 146M/146M [00:01&lt;00:00, 153MB/s]"
          }
        },
        "27a8379b86774d0b8e8ebca90e4c5fbb": {
          "model_module": "@jupyter-widgets/base",
          "model_name": "LayoutModel",
          "model_module_version": "1.2.0",
          "state": {
            "_model_module": "@jupyter-widgets/base",
            "_model_module_version": "1.2.0",
            "_model_name": "LayoutModel",
            "_view_count": null,
            "_view_module": "@jupyter-widgets/base",
            "_view_module_version": "1.2.0",
            "_view_name": "LayoutView",
            "align_content": null,
            "align_items": null,
            "align_self": null,
            "border": null,
            "bottom": null,
            "display": null,
            "flex": null,
            "flex_flow": null,
            "grid_area": null,
            "grid_auto_columns": null,
            "grid_auto_flow": null,
            "grid_auto_rows": null,
            "grid_column": null,
            "grid_gap": null,
            "grid_row": null,
            "grid_template_areas": null,
            "grid_template_columns": null,
            "grid_template_rows": null,
            "height": null,
            "justify_content": null,
            "justify_items": null,
            "left": null,
            "margin": null,
            "max_height": null,
            "max_width": null,
            "min_height": null,
            "min_width": null,
            "object_fit": null,
            "object_position": null,
            "order": null,
            "overflow": null,
            "overflow_x": null,
            "overflow_y": null,
            "padding": null,
            "right": null,
            "top": null,
            "visibility": null,
            "width": null
          }
        },
        "b262d7d0a2484b57b3ee6d4020a88e0f": {
          "model_module": "@jupyter-widgets/base",
          "model_name": "LayoutModel",
          "model_module_version": "1.2.0",
          "state": {
            "_model_module": "@jupyter-widgets/base",
            "_model_module_version": "1.2.0",
            "_model_name": "LayoutModel",
            "_view_count": null,
            "_view_module": "@jupyter-widgets/base",
            "_view_module_version": "1.2.0",
            "_view_name": "LayoutView",
            "align_content": null,
            "align_items": null,
            "align_self": null,
            "border": null,
            "bottom": null,
            "display": null,
            "flex": null,
            "flex_flow": null,
            "grid_area": null,
            "grid_auto_columns": null,
            "grid_auto_flow": null,
            "grid_auto_rows": null,
            "grid_column": null,
            "grid_gap": null,
            "grid_row": null,
            "grid_template_areas": null,
            "grid_template_columns": null,
            "grid_template_rows": null,
            "height": null,
            "justify_content": null,
            "justify_items": null,
            "left": null,
            "margin": null,
            "max_height": null,
            "max_width": null,
            "min_height": null,
            "min_width": null,
            "object_fit": null,
            "object_position": null,
            "order": null,
            "overflow": null,
            "overflow_x": null,
            "overflow_y": null,
            "padding": null,
            "right": null,
            "top": null,
            "visibility": null,
            "width": null
          }
        },
        "47bf77ebd106463e9484aed008ad7d48": {
          "model_module": "@jupyter-widgets/controls",
          "model_name": "DescriptionStyleModel",
          "model_module_version": "1.5.0",
          "state": {
            "_model_module": "@jupyter-widgets/controls",
            "_model_module_version": "1.5.0",
            "_model_name": "DescriptionStyleModel",
            "_view_count": null,
            "_view_module": "@jupyter-widgets/base",
            "_view_module_version": "1.2.0",
            "_view_name": "StyleView",
            "description_width": ""
          }
        },
        "02f3898743644202bcef2c8a515b18c6": {
          "model_module": "@jupyter-widgets/base",
          "model_name": "LayoutModel",
          "model_module_version": "1.2.0",
          "state": {
            "_model_module": "@jupyter-widgets/base",
            "_model_module_version": "1.2.0",
            "_model_name": "LayoutModel",
            "_view_count": null,
            "_view_module": "@jupyter-widgets/base",
            "_view_module_version": "1.2.0",
            "_view_name": "LayoutView",
            "align_content": null,
            "align_items": null,
            "align_self": null,
            "border": null,
            "bottom": null,
            "display": null,
            "flex": null,
            "flex_flow": null,
            "grid_area": null,
            "grid_auto_columns": null,
            "grid_auto_flow": null,
            "grid_auto_rows": null,
            "grid_column": null,
            "grid_gap": null,
            "grid_row": null,
            "grid_template_areas": null,
            "grid_template_columns": null,
            "grid_template_rows": null,
            "height": null,
            "justify_content": null,
            "justify_items": null,
            "left": null,
            "margin": null,
            "max_height": null,
            "max_width": null,
            "min_height": null,
            "min_width": null,
            "object_fit": null,
            "object_position": null,
            "order": null,
            "overflow": null,
            "overflow_x": null,
            "overflow_y": null,
            "padding": null,
            "right": null,
            "top": null,
            "visibility": null,
            "width": null
          }
        },
        "7e0ce41acd57492f880521a33e901d8e": {
          "model_module": "@jupyter-widgets/controls",
          "model_name": "ProgressStyleModel",
          "model_module_version": "1.5.0",
          "state": {
            "_model_module": "@jupyter-widgets/controls",
            "_model_module_version": "1.5.0",
            "_model_name": "ProgressStyleModel",
            "_view_count": null,
            "_view_module": "@jupyter-widgets/base",
            "_view_module_version": "1.2.0",
            "_view_name": "StyleView",
            "bar_color": null,
            "description_width": ""
          }
        },
        "7a31715785fe4bbe83e3812a29e3c592": {
          "model_module": "@jupyter-widgets/base",
          "model_name": "LayoutModel",
          "model_module_version": "1.2.0",
          "state": {
            "_model_module": "@jupyter-widgets/base",
            "_model_module_version": "1.2.0",
            "_model_name": "LayoutModel",
            "_view_count": null,
            "_view_module": "@jupyter-widgets/base",
            "_view_module_version": "1.2.0",
            "_view_name": "LayoutView",
            "align_content": null,
            "align_items": null,
            "align_self": null,
            "border": null,
            "bottom": null,
            "display": null,
            "flex": null,
            "flex_flow": null,
            "grid_area": null,
            "grid_auto_columns": null,
            "grid_auto_flow": null,
            "grid_auto_rows": null,
            "grid_column": null,
            "grid_gap": null,
            "grid_row": null,
            "grid_template_areas": null,
            "grid_template_columns": null,
            "grid_template_rows": null,
            "height": null,
            "justify_content": null,
            "justify_items": null,
            "left": null,
            "margin": null,
            "max_height": null,
            "max_width": null,
            "min_height": null,
            "min_width": null,
            "object_fit": null,
            "object_position": null,
            "order": null,
            "overflow": null,
            "overflow_x": null,
            "overflow_y": null,
            "padding": null,
            "right": null,
            "top": null,
            "visibility": null,
            "width": null
          }
        },
        "efe252bd48ef4a7fbd15ce34d7de7ac6": {
          "model_module": "@jupyter-widgets/controls",
          "model_name": "DescriptionStyleModel",
          "model_module_version": "1.5.0",
          "state": {
            "_model_module": "@jupyter-widgets/controls",
            "_model_module_version": "1.5.0",
            "_model_name": "DescriptionStyleModel",
            "_view_count": null,
            "_view_module": "@jupyter-widgets/base",
            "_view_module_version": "1.2.0",
            "_view_name": "StyleView",
            "description_width": ""
          }
        },
        "d76ffe8db0174c4ba4fb032294cb6836": {
          "model_module": "@jupyter-widgets/controls",
          "model_name": "HBoxModel",
          "model_module_version": "1.5.0",
          "state": {
            "_dom_classes": [],
            "_model_module": "@jupyter-widgets/controls",
            "_model_module_version": "1.5.0",
            "_model_name": "HBoxModel",
            "_view_count": null,
            "_view_module": "@jupyter-widgets/controls",
            "_view_module_version": "1.5.0",
            "_view_name": "HBoxView",
            "box_style": "",
            "children": [
              "IPY_MODEL_45701423ce234fab8395dc81aca818af",
              "IPY_MODEL_47b48e1571484d24949becb2bfaa47a3",
              "IPY_MODEL_b2ec2f4bd4114e7e8c825b8fefab63bb"
            ],
            "layout": "IPY_MODEL_f127e1cb46a84ab997f0ae33269e25f2"
          }
        },
        "45701423ce234fab8395dc81aca818af": {
          "model_module": "@jupyter-widgets/controls",
          "model_name": "HTMLModel",
          "model_module_version": "1.5.0",
          "state": {
            "_dom_classes": [],
            "_model_module": "@jupyter-widgets/controls",
            "_model_module_version": "1.5.0",
            "_model_name": "HTMLModel",
            "_view_count": null,
            "_view_module": "@jupyter-widgets/controls",
            "_view_module_version": "1.5.0",
            "_view_name": "HTMLView",
            "description": "",
            "description_tooltip": null,
            "layout": "IPY_MODEL_20a7ff1302334694a0f9d750078d8053",
            "placeholder": "​",
            "style": "IPY_MODEL_c3edddc9e37e4f338b5deb95fff7cc86",
            "value": "Downloading data: 100%"
          }
        },
        "47b48e1571484d24949becb2bfaa47a3": {
          "model_module": "@jupyter-widgets/controls",
          "model_name": "FloatProgressModel",
          "model_module_version": "1.5.0",
          "state": {
            "_dom_classes": [],
            "_model_module": "@jupyter-widgets/controls",
            "_model_module_version": "1.5.0",
            "_model_name": "FloatProgressModel",
            "_view_count": null,
            "_view_module": "@jupyter-widgets/controls",
            "_view_module_version": "1.5.0",
            "_view_name": "ProgressView",
            "bar_style": "success",
            "description": "",
            "description_tooltip": null,
            "layout": "IPY_MODEL_387ed27809bd4f7e917fc055f7371f26",
            "max": 14587497,
            "min": 0,
            "orientation": "horizontal",
            "style": "IPY_MODEL_65d36fd6fe6f425089699f993f2f15b8",
            "value": 14587497
          }
        },
        "b2ec2f4bd4114e7e8c825b8fefab63bb": {
          "model_module": "@jupyter-widgets/controls",
          "model_name": "HTMLModel",
          "model_module_version": "1.5.0",
          "state": {
            "_dom_classes": [],
            "_model_module": "@jupyter-widgets/controls",
            "_model_module_version": "1.5.0",
            "_model_name": "HTMLModel",
            "_view_count": null,
            "_view_module": "@jupyter-widgets/controls",
            "_view_module_version": "1.5.0",
            "_view_name": "HTMLView",
            "description": "",
            "description_tooltip": null,
            "layout": "IPY_MODEL_48baa4bbf4b84c4ca0a0b712a444d80f",
            "placeholder": "​",
            "style": "IPY_MODEL_9eb11accb1d74ef581b4d049e1a67c23",
            "value": " 14.6M/14.6M [00:00&lt;00:00, 68.9MB/s]"
          }
        },
        "f127e1cb46a84ab997f0ae33269e25f2": {
          "model_module": "@jupyter-widgets/base",
          "model_name": "LayoutModel",
          "model_module_version": "1.2.0",
          "state": {
            "_model_module": "@jupyter-widgets/base",
            "_model_module_version": "1.2.0",
            "_model_name": "LayoutModel",
            "_view_count": null,
            "_view_module": "@jupyter-widgets/base",
            "_view_module_version": "1.2.0",
            "_view_name": "LayoutView",
            "align_content": null,
            "align_items": null,
            "align_self": null,
            "border": null,
            "bottom": null,
            "display": null,
            "flex": null,
            "flex_flow": null,
            "grid_area": null,
            "grid_auto_columns": null,
            "grid_auto_flow": null,
            "grid_auto_rows": null,
            "grid_column": null,
            "grid_gap": null,
            "grid_row": null,
            "grid_template_areas": null,
            "grid_template_columns": null,
            "grid_template_rows": null,
            "height": null,
            "justify_content": null,
            "justify_items": null,
            "left": null,
            "margin": null,
            "max_height": null,
            "max_width": null,
            "min_height": null,
            "min_width": null,
            "object_fit": null,
            "object_position": null,
            "order": null,
            "overflow": null,
            "overflow_x": null,
            "overflow_y": null,
            "padding": null,
            "right": null,
            "top": null,
            "visibility": null,
            "width": null
          }
        },
        "20a7ff1302334694a0f9d750078d8053": {
          "model_module": "@jupyter-widgets/base",
          "model_name": "LayoutModel",
          "model_module_version": "1.2.0",
          "state": {
            "_model_module": "@jupyter-widgets/base",
            "_model_module_version": "1.2.0",
            "_model_name": "LayoutModel",
            "_view_count": null,
            "_view_module": "@jupyter-widgets/base",
            "_view_module_version": "1.2.0",
            "_view_name": "LayoutView",
            "align_content": null,
            "align_items": null,
            "align_self": null,
            "border": null,
            "bottom": null,
            "display": null,
            "flex": null,
            "flex_flow": null,
            "grid_area": null,
            "grid_auto_columns": null,
            "grid_auto_flow": null,
            "grid_auto_rows": null,
            "grid_column": null,
            "grid_gap": null,
            "grid_row": null,
            "grid_template_areas": null,
            "grid_template_columns": null,
            "grid_template_rows": null,
            "height": null,
            "justify_content": null,
            "justify_items": null,
            "left": null,
            "margin": null,
            "max_height": null,
            "max_width": null,
            "min_height": null,
            "min_width": null,
            "object_fit": null,
            "object_position": null,
            "order": null,
            "overflow": null,
            "overflow_x": null,
            "overflow_y": null,
            "padding": null,
            "right": null,
            "top": null,
            "visibility": null,
            "width": null
          }
        },
        "c3edddc9e37e4f338b5deb95fff7cc86": {
          "model_module": "@jupyter-widgets/controls",
          "model_name": "DescriptionStyleModel",
          "model_module_version": "1.5.0",
          "state": {
            "_model_module": "@jupyter-widgets/controls",
            "_model_module_version": "1.5.0",
            "_model_name": "DescriptionStyleModel",
            "_view_count": null,
            "_view_module": "@jupyter-widgets/base",
            "_view_module_version": "1.2.0",
            "_view_name": "StyleView",
            "description_width": ""
          }
        },
        "387ed27809bd4f7e917fc055f7371f26": {
          "model_module": "@jupyter-widgets/base",
          "model_name": "LayoutModel",
          "model_module_version": "1.2.0",
          "state": {
            "_model_module": "@jupyter-widgets/base",
            "_model_module_version": "1.2.0",
            "_model_name": "LayoutModel",
            "_view_count": null,
            "_view_module": "@jupyter-widgets/base",
            "_view_module_version": "1.2.0",
            "_view_name": "LayoutView",
            "align_content": null,
            "align_items": null,
            "align_self": null,
            "border": null,
            "bottom": null,
            "display": null,
            "flex": null,
            "flex_flow": null,
            "grid_area": null,
            "grid_auto_columns": null,
            "grid_auto_flow": null,
            "grid_auto_rows": null,
            "grid_column": null,
            "grid_gap": null,
            "grid_row": null,
            "grid_template_areas": null,
            "grid_template_columns": null,
            "grid_template_rows": null,
            "height": null,
            "justify_content": null,
            "justify_items": null,
            "left": null,
            "margin": null,
            "max_height": null,
            "max_width": null,
            "min_height": null,
            "min_width": null,
            "object_fit": null,
            "object_position": null,
            "order": null,
            "overflow": null,
            "overflow_x": null,
            "overflow_y": null,
            "padding": null,
            "right": null,
            "top": null,
            "visibility": null,
            "width": null
          }
        },
        "65d36fd6fe6f425089699f993f2f15b8": {
          "model_module": "@jupyter-widgets/controls",
          "model_name": "ProgressStyleModel",
          "model_module_version": "1.5.0",
          "state": {
            "_model_module": "@jupyter-widgets/controls",
            "_model_module_version": "1.5.0",
            "_model_name": "ProgressStyleModel",
            "_view_count": null,
            "_view_module": "@jupyter-widgets/base",
            "_view_module_version": "1.2.0",
            "_view_name": "StyleView",
            "bar_color": null,
            "description_width": ""
          }
        },
        "48baa4bbf4b84c4ca0a0b712a444d80f": {
          "model_module": "@jupyter-widgets/base",
          "model_name": "LayoutModel",
          "model_module_version": "1.2.0",
          "state": {
            "_model_module": "@jupyter-widgets/base",
            "_model_module_version": "1.2.0",
            "_model_name": "LayoutModel",
            "_view_count": null,
            "_view_module": "@jupyter-widgets/base",
            "_view_module_version": "1.2.0",
            "_view_name": "LayoutView",
            "align_content": null,
            "align_items": null,
            "align_self": null,
            "border": null,
            "bottom": null,
            "display": null,
            "flex": null,
            "flex_flow": null,
            "grid_area": null,
            "grid_auto_columns": null,
            "grid_auto_flow": null,
            "grid_auto_rows": null,
            "grid_column": null,
            "grid_gap": null,
            "grid_row": null,
            "grid_template_areas": null,
            "grid_template_columns": null,
            "grid_template_rows": null,
            "height": null,
            "justify_content": null,
            "justify_items": null,
            "left": null,
            "margin": null,
            "max_height": null,
            "max_width": null,
            "min_height": null,
            "min_width": null,
            "object_fit": null,
            "object_position": null,
            "order": null,
            "overflow": null,
            "overflow_x": null,
            "overflow_y": null,
            "padding": null,
            "right": null,
            "top": null,
            "visibility": null,
            "width": null
          }
        },
        "9eb11accb1d74ef581b4d049e1a67c23": {
          "model_module": "@jupyter-widgets/controls",
          "model_name": "DescriptionStyleModel",
          "model_module_version": "1.5.0",
          "state": {
            "_model_module": "@jupyter-widgets/controls",
            "_model_module_version": "1.5.0",
            "_model_name": "DescriptionStyleModel",
            "_view_count": null,
            "_view_module": "@jupyter-widgets/base",
            "_view_module_version": "1.2.0",
            "_view_name": "StyleView",
            "description_width": ""
          }
        },
        "798eeed12aaf46949c8a5481de2ce9c8": {
          "model_module": "@jupyter-widgets/controls",
          "model_name": "HBoxModel",
          "model_module_version": "1.5.0",
          "state": {
            "_dom_classes": [],
            "_model_module": "@jupyter-widgets/controls",
            "_model_module_version": "1.5.0",
            "_model_name": "HBoxModel",
            "_view_count": null,
            "_view_module": "@jupyter-widgets/controls",
            "_view_module_version": "1.5.0",
            "_view_name": "HBoxView",
            "box_style": "",
            "children": [
              "IPY_MODEL_95f6bc76c7fb443eb9f0c4dc071bece6",
              "IPY_MODEL_ef8dd8378e0b44ef8a03fd9030731a45",
              "IPY_MODEL_cd54071f2a6747cb825b241f19cb862d"
            ],
            "layout": "IPY_MODEL_14f9daff85834949a5ec3f5e9f3069ee"
          }
        },
        "95f6bc76c7fb443eb9f0c4dc071bece6": {
          "model_module": "@jupyter-widgets/controls",
          "model_name": "HTMLModel",
          "model_module_version": "1.5.0",
          "state": {
            "_dom_classes": [],
            "_model_module": "@jupyter-widgets/controls",
            "_model_module_version": "1.5.0",
            "_model_name": "HTMLModel",
            "_view_count": null,
            "_view_module": "@jupyter-widgets/controls",
            "_view_module_version": "1.5.0",
            "_view_name": "HTMLView",
            "description": "",
            "description_tooltip": null,
            "layout": "IPY_MODEL_66d19e6b47334e87aa4bb14cad784724",
            "placeholder": "​",
            "style": "IPY_MODEL_97973544a92a43cdaa0d7c967564863c",
            "value": "Generating train split: 100%"
          }
        },
        "ef8dd8378e0b44ef8a03fd9030731a45": {
          "model_module": "@jupyter-widgets/controls",
          "model_name": "FloatProgressModel",
          "model_module_version": "1.5.0",
          "state": {
            "_dom_classes": [],
            "_model_module": "@jupyter-widgets/controls",
            "_model_module_version": "1.5.0",
            "_model_name": "FloatProgressModel",
            "_view_count": null,
            "_view_module": "@jupyter-widgets/controls",
            "_view_module_version": "1.5.0",
            "_view_name": "ProgressView",
            "bar_style": "success",
            "description": "",
            "description_tooltip": null,
            "layout": "IPY_MODEL_1c6b0885cbd14346a0589f6090b0a3d8",
            "max": 100000,
            "min": 0,
            "orientation": "horizontal",
            "style": "IPY_MODEL_482cd4f5250148beaa987e331f2bae9e",
            "value": 100000
          }
        },
        "cd54071f2a6747cb825b241f19cb862d": {
          "model_module": "@jupyter-widgets/controls",
          "model_name": "HTMLModel",
          "model_module_version": "1.5.0",
          "state": {
            "_dom_classes": [],
            "_model_module": "@jupyter-widgets/controls",
            "_model_module_version": "1.5.0",
            "_model_name": "HTMLModel",
            "_view_count": null,
            "_view_module": "@jupyter-widgets/controls",
            "_view_module_version": "1.5.0",
            "_view_name": "HTMLView",
            "description": "",
            "description_tooltip": null,
            "layout": "IPY_MODEL_e46e1a6832024abe977687a1ce6a1a87",
            "placeholder": "​",
            "style": "IPY_MODEL_4e564f8069c443ef9dc256d6783e2c7c",
            "value": " 100000/100000 [00:00&lt;00:00, 130895.19 examples/s]"
          }
        },
        "14f9daff85834949a5ec3f5e9f3069ee": {
          "model_module": "@jupyter-widgets/base",
          "model_name": "LayoutModel",
          "model_module_version": "1.2.0",
          "state": {
            "_model_module": "@jupyter-widgets/base",
            "_model_module_version": "1.2.0",
            "_model_name": "LayoutModel",
            "_view_count": null,
            "_view_module": "@jupyter-widgets/base",
            "_view_module_version": "1.2.0",
            "_view_name": "LayoutView",
            "align_content": null,
            "align_items": null,
            "align_self": null,
            "border": null,
            "bottom": null,
            "display": null,
            "flex": null,
            "flex_flow": null,
            "grid_area": null,
            "grid_auto_columns": null,
            "grid_auto_flow": null,
            "grid_auto_rows": null,
            "grid_column": null,
            "grid_gap": null,
            "grid_row": null,
            "grid_template_areas": null,
            "grid_template_columns": null,
            "grid_template_rows": null,
            "height": null,
            "justify_content": null,
            "justify_items": null,
            "left": null,
            "margin": null,
            "max_height": null,
            "max_width": null,
            "min_height": null,
            "min_width": null,
            "object_fit": null,
            "object_position": null,
            "order": null,
            "overflow": null,
            "overflow_x": null,
            "overflow_y": null,
            "padding": null,
            "right": null,
            "top": null,
            "visibility": null,
            "width": null
          }
        },
        "66d19e6b47334e87aa4bb14cad784724": {
          "model_module": "@jupyter-widgets/base",
          "model_name": "LayoutModel",
          "model_module_version": "1.2.0",
          "state": {
            "_model_module": "@jupyter-widgets/base",
            "_model_module_version": "1.2.0",
            "_model_name": "LayoutModel",
            "_view_count": null,
            "_view_module": "@jupyter-widgets/base",
            "_view_module_version": "1.2.0",
            "_view_name": "LayoutView",
            "align_content": null,
            "align_items": null,
            "align_self": null,
            "border": null,
            "bottom": null,
            "display": null,
            "flex": null,
            "flex_flow": null,
            "grid_area": null,
            "grid_auto_columns": null,
            "grid_auto_flow": null,
            "grid_auto_rows": null,
            "grid_column": null,
            "grid_gap": null,
            "grid_row": null,
            "grid_template_areas": null,
            "grid_template_columns": null,
            "grid_template_rows": null,
            "height": null,
            "justify_content": null,
            "justify_items": null,
            "left": null,
            "margin": null,
            "max_height": null,
            "max_width": null,
            "min_height": null,
            "min_width": null,
            "object_fit": null,
            "object_position": null,
            "order": null,
            "overflow": null,
            "overflow_x": null,
            "overflow_y": null,
            "padding": null,
            "right": null,
            "top": null,
            "visibility": null,
            "width": null
          }
        },
        "97973544a92a43cdaa0d7c967564863c": {
          "model_module": "@jupyter-widgets/controls",
          "model_name": "DescriptionStyleModel",
          "model_module_version": "1.5.0",
          "state": {
            "_model_module": "@jupyter-widgets/controls",
            "_model_module_version": "1.5.0",
            "_model_name": "DescriptionStyleModel",
            "_view_count": null,
            "_view_module": "@jupyter-widgets/base",
            "_view_module_version": "1.2.0",
            "_view_name": "StyleView",
            "description_width": ""
          }
        },
        "1c6b0885cbd14346a0589f6090b0a3d8": {
          "model_module": "@jupyter-widgets/base",
          "model_name": "LayoutModel",
          "model_module_version": "1.2.0",
          "state": {
            "_model_module": "@jupyter-widgets/base",
            "_model_module_version": "1.2.0",
            "_model_name": "LayoutModel",
            "_view_count": null,
            "_view_module": "@jupyter-widgets/base",
            "_view_module_version": "1.2.0",
            "_view_name": "LayoutView",
            "align_content": null,
            "align_items": null,
            "align_self": null,
            "border": null,
            "bottom": null,
            "display": null,
            "flex": null,
            "flex_flow": null,
            "grid_area": null,
            "grid_auto_columns": null,
            "grid_auto_flow": null,
            "grid_auto_rows": null,
            "grid_column": null,
            "grid_gap": null,
            "grid_row": null,
            "grid_template_areas": null,
            "grid_template_columns": null,
            "grid_template_rows": null,
            "height": null,
            "justify_content": null,
            "justify_items": null,
            "left": null,
            "margin": null,
            "max_height": null,
            "max_width": null,
            "min_height": null,
            "min_width": null,
            "object_fit": null,
            "object_position": null,
            "order": null,
            "overflow": null,
            "overflow_x": null,
            "overflow_y": null,
            "padding": null,
            "right": null,
            "top": null,
            "visibility": null,
            "width": null
          }
        },
        "482cd4f5250148beaa987e331f2bae9e": {
          "model_module": "@jupyter-widgets/controls",
          "model_name": "ProgressStyleModel",
          "model_module_version": "1.5.0",
          "state": {
            "_model_module": "@jupyter-widgets/controls",
            "_model_module_version": "1.5.0",
            "_model_name": "ProgressStyleModel",
            "_view_count": null,
            "_view_module": "@jupyter-widgets/base",
            "_view_module_version": "1.2.0",
            "_view_name": "StyleView",
            "bar_color": null,
            "description_width": ""
          }
        },
        "e46e1a6832024abe977687a1ce6a1a87": {
          "model_module": "@jupyter-widgets/base",
          "model_name": "LayoutModel",
          "model_module_version": "1.2.0",
          "state": {
            "_model_module": "@jupyter-widgets/base",
            "_model_module_version": "1.2.0",
            "_model_name": "LayoutModel",
            "_view_count": null,
            "_view_module": "@jupyter-widgets/base",
            "_view_module_version": "1.2.0",
            "_view_name": "LayoutView",
            "align_content": null,
            "align_items": null,
            "align_self": null,
            "border": null,
            "bottom": null,
            "display": null,
            "flex": null,
            "flex_flow": null,
            "grid_area": null,
            "grid_auto_columns": null,
            "grid_auto_flow": null,
            "grid_auto_rows": null,
            "grid_column": null,
            "grid_gap": null,
            "grid_row": null,
            "grid_template_areas": null,
            "grid_template_columns": null,
            "grid_template_rows": null,
            "height": null,
            "justify_content": null,
            "justify_items": null,
            "left": null,
            "margin": null,
            "max_height": null,
            "max_width": null,
            "min_height": null,
            "min_width": null,
            "object_fit": null,
            "object_position": null,
            "order": null,
            "overflow": null,
            "overflow_x": null,
            "overflow_y": null,
            "padding": null,
            "right": null,
            "top": null,
            "visibility": null,
            "width": null
          }
        },
        "4e564f8069c443ef9dc256d6783e2c7c": {
          "model_module": "@jupyter-widgets/controls",
          "model_name": "DescriptionStyleModel",
          "model_module_version": "1.5.0",
          "state": {
            "_model_module": "@jupyter-widgets/controls",
            "_model_module_version": "1.5.0",
            "_model_name": "DescriptionStyleModel",
            "_view_count": null,
            "_view_module": "@jupyter-widgets/base",
            "_view_module_version": "1.2.0",
            "_view_name": "StyleView",
            "description_width": ""
          }
        },
        "da6a136b67e1451593aee64828f23ae5": {
          "model_module": "@jupyter-widgets/controls",
          "model_name": "HBoxModel",
          "model_module_version": "1.5.0",
          "state": {
            "_dom_classes": [],
            "_model_module": "@jupyter-widgets/controls",
            "_model_module_version": "1.5.0",
            "_model_name": "HBoxModel",
            "_view_count": null,
            "_view_module": "@jupyter-widgets/controls",
            "_view_module_version": "1.5.0",
            "_view_name": "HBoxView",
            "box_style": "",
            "children": [
              "IPY_MODEL_3cb3ce5f94a34adcb1bbc93e0320eda4",
              "IPY_MODEL_04f0df2a9e184a9aa74022dd2d05073d",
              "IPY_MODEL_7e0a87433fef4debae79b9dbc109cf95"
            ],
            "layout": "IPY_MODEL_43b493333c22405fbfa993dfaa30bbdf"
          }
        },
        "3cb3ce5f94a34adcb1bbc93e0320eda4": {
          "model_module": "@jupyter-widgets/controls",
          "model_name": "HTMLModel",
          "model_module_version": "1.5.0",
          "state": {
            "_dom_classes": [],
            "_model_module": "@jupyter-widgets/controls",
            "_model_module_version": "1.5.0",
            "_model_name": "HTMLModel",
            "_view_count": null,
            "_view_module": "@jupyter-widgets/controls",
            "_view_module_version": "1.5.0",
            "_view_name": "HTMLView",
            "description": "",
            "description_tooltip": null,
            "layout": "IPY_MODEL_8d84e4e53f3841d58583761f1d879cd0",
            "placeholder": "​",
            "style": "IPY_MODEL_51c0f8a548d141f397ee30b19615caaf",
            "value": "Generating valid split: 100%"
          }
        },
        "04f0df2a9e184a9aa74022dd2d05073d": {
          "model_module": "@jupyter-widgets/controls",
          "model_name": "FloatProgressModel",
          "model_module_version": "1.5.0",
          "state": {
            "_dom_classes": [],
            "_model_module": "@jupyter-widgets/controls",
            "_model_module_version": "1.5.0",
            "_model_name": "FloatProgressModel",
            "_view_count": null,
            "_view_module": "@jupyter-widgets/controls",
            "_view_module_version": "1.5.0",
            "_view_name": "ProgressView",
            "bar_style": "success",
            "description": "",
            "description_tooltip": null,
            "layout": "IPY_MODEL_14ba63ef4ea54300a7cbb60df79fd413",
            "max": 10000,
            "min": 0,
            "orientation": "horizontal",
            "style": "IPY_MODEL_3d30333acaa441e192242ff768c1944e",
            "value": 10000
          }
        },
        "7e0a87433fef4debae79b9dbc109cf95": {
          "model_module": "@jupyter-widgets/controls",
          "model_name": "HTMLModel",
          "model_module_version": "1.5.0",
          "state": {
            "_dom_classes": [],
            "_model_module": "@jupyter-widgets/controls",
            "_model_module_version": "1.5.0",
            "_model_name": "HTMLModel",
            "_view_count": null,
            "_view_module": "@jupyter-widgets/controls",
            "_view_module_version": "1.5.0",
            "_view_name": "HTMLView",
            "description": "",
            "description_tooltip": null,
            "layout": "IPY_MODEL_641e9d71af654302b6dd063321e93dbe",
            "placeholder": "​",
            "style": "IPY_MODEL_51f3047dfa15490eb08d643629b860be",
            "value": " 10000/10000 [00:00&lt;00:00, 98273.75 examples/s]"
          }
        },
        "43b493333c22405fbfa993dfaa30bbdf": {
          "model_module": "@jupyter-widgets/base",
          "model_name": "LayoutModel",
          "model_module_version": "1.2.0",
          "state": {
            "_model_module": "@jupyter-widgets/base",
            "_model_module_version": "1.2.0",
            "_model_name": "LayoutModel",
            "_view_count": null,
            "_view_module": "@jupyter-widgets/base",
            "_view_module_version": "1.2.0",
            "_view_name": "LayoutView",
            "align_content": null,
            "align_items": null,
            "align_self": null,
            "border": null,
            "bottom": null,
            "display": null,
            "flex": null,
            "flex_flow": null,
            "grid_area": null,
            "grid_auto_columns": null,
            "grid_auto_flow": null,
            "grid_auto_rows": null,
            "grid_column": null,
            "grid_gap": null,
            "grid_row": null,
            "grid_template_areas": null,
            "grid_template_columns": null,
            "grid_template_rows": null,
            "height": null,
            "justify_content": null,
            "justify_items": null,
            "left": null,
            "margin": null,
            "max_height": null,
            "max_width": null,
            "min_height": null,
            "min_width": null,
            "object_fit": null,
            "object_position": null,
            "order": null,
            "overflow": null,
            "overflow_x": null,
            "overflow_y": null,
            "padding": null,
            "right": null,
            "top": null,
            "visibility": null,
            "width": null
          }
        },
        "8d84e4e53f3841d58583761f1d879cd0": {
          "model_module": "@jupyter-widgets/base",
          "model_name": "LayoutModel",
          "model_module_version": "1.2.0",
          "state": {
            "_model_module": "@jupyter-widgets/base",
            "_model_module_version": "1.2.0",
            "_model_name": "LayoutModel",
            "_view_count": null,
            "_view_module": "@jupyter-widgets/base",
            "_view_module_version": "1.2.0",
            "_view_name": "LayoutView",
            "align_content": null,
            "align_items": null,
            "align_self": null,
            "border": null,
            "bottom": null,
            "display": null,
            "flex": null,
            "flex_flow": null,
            "grid_area": null,
            "grid_auto_columns": null,
            "grid_auto_flow": null,
            "grid_auto_rows": null,
            "grid_column": null,
            "grid_gap": null,
            "grid_row": null,
            "grid_template_areas": null,
            "grid_template_columns": null,
            "grid_template_rows": null,
            "height": null,
            "justify_content": null,
            "justify_items": null,
            "left": null,
            "margin": null,
            "max_height": null,
            "max_width": null,
            "min_height": null,
            "min_width": null,
            "object_fit": null,
            "object_position": null,
            "order": null,
            "overflow": null,
            "overflow_x": null,
            "overflow_y": null,
            "padding": null,
            "right": null,
            "top": null,
            "visibility": null,
            "width": null
          }
        },
        "51c0f8a548d141f397ee30b19615caaf": {
          "model_module": "@jupyter-widgets/controls",
          "model_name": "DescriptionStyleModel",
          "model_module_version": "1.5.0",
          "state": {
            "_model_module": "@jupyter-widgets/controls",
            "_model_module_version": "1.5.0",
            "_model_name": "DescriptionStyleModel",
            "_view_count": null,
            "_view_module": "@jupyter-widgets/base",
            "_view_module_version": "1.2.0",
            "_view_name": "StyleView",
            "description_width": ""
          }
        },
        "14ba63ef4ea54300a7cbb60df79fd413": {
          "model_module": "@jupyter-widgets/base",
          "model_name": "LayoutModel",
          "model_module_version": "1.2.0",
          "state": {
            "_model_module": "@jupyter-widgets/base",
            "_model_module_version": "1.2.0",
            "_model_name": "LayoutModel",
            "_view_count": null,
            "_view_module": "@jupyter-widgets/base",
            "_view_module_version": "1.2.0",
            "_view_name": "LayoutView",
            "align_content": null,
            "align_items": null,
            "align_self": null,
            "border": null,
            "bottom": null,
            "display": null,
            "flex": null,
            "flex_flow": null,
            "grid_area": null,
            "grid_auto_columns": null,
            "grid_auto_flow": null,
            "grid_auto_rows": null,
            "grid_column": null,
            "grid_gap": null,
            "grid_row": null,
            "grid_template_areas": null,
            "grid_template_columns": null,
            "grid_template_rows": null,
            "height": null,
            "justify_content": null,
            "justify_items": null,
            "left": null,
            "margin": null,
            "max_height": null,
            "max_width": null,
            "min_height": null,
            "min_width": null,
            "object_fit": null,
            "object_position": null,
            "order": null,
            "overflow": null,
            "overflow_x": null,
            "overflow_y": null,
            "padding": null,
            "right": null,
            "top": null,
            "visibility": null,
            "width": null
          }
        },
        "3d30333acaa441e192242ff768c1944e": {
          "model_module": "@jupyter-widgets/controls",
          "model_name": "ProgressStyleModel",
          "model_module_version": "1.5.0",
          "state": {
            "_model_module": "@jupyter-widgets/controls",
            "_model_module_version": "1.5.0",
            "_model_name": "ProgressStyleModel",
            "_view_count": null,
            "_view_module": "@jupyter-widgets/base",
            "_view_module_version": "1.2.0",
            "_view_name": "StyleView",
            "bar_color": null,
            "description_width": ""
          }
        },
        "641e9d71af654302b6dd063321e93dbe": {
          "model_module": "@jupyter-widgets/base",
          "model_name": "LayoutModel",
          "model_module_version": "1.2.0",
          "state": {
            "_model_module": "@jupyter-widgets/base",
            "_model_module_version": "1.2.0",
            "_model_name": "LayoutModel",
            "_view_count": null,
            "_view_module": "@jupyter-widgets/base",
            "_view_module_version": "1.2.0",
            "_view_name": "LayoutView",
            "align_content": null,
            "align_items": null,
            "align_self": null,
            "border": null,
            "bottom": null,
            "display": null,
            "flex": null,
            "flex_flow": null,
            "grid_area": null,
            "grid_auto_columns": null,
            "grid_auto_flow": null,
            "grid_auto_rows": null,
            "grid_column": null,
            "grid_gap": null,
            "grid_row": null,
            "grid_template_areas": null,
            "grid_template_columns": null,
            "grid_template_rows": null,
            "height": null,
            "justify_content": null,
            "justify_items": null,
            "left": null,
            "margin": null,
            "max_height": null,
            "max_width": null,
            "min_height": null,
            "min_width": null,
            "object_fit": null,
            "object_position": null,
            "order": null,
            "overflow": null,
            "overflow_x": null,
            "overflow_y": null,
            "padding": null,
            "right": null,
            "top": null,
            "visibility": null,
            "width": null
          }
        },
        "51f3047dfa15490eb08d643629b860be": {
          "model_module": "@jupyter-widgets/controls",
          "model_name": "DescriptionStyleModel",
          "model_module_version": "1.5.0",
          "state": {
            "_model_module": "@jupyter-widgets/controls",
            "_model_module_version": "1.5.0",
            "_model_name": "DescriptionStyleModel",
            "_view_count": null,
            "_view_module": "@jupyter-widgets/base",
            "_view_module_version": "1.2.0",
            "_view_name": "StyleView",
            "description_width": ""
          }
        },
        "7a50aa0dc7504454a41fc85c4f3a28cb": {
          "model_module": "@jupyter-widgets/output",
          "model_name": "OutputModel",
          "model_module_version": "1.0.0",
          "state": {
            "_dom_classes": [],
            "_model_module": "@jupyter-widgets/output",
            "_model_module_version": "1.0.0",
            "_model_name": "OutputModel",
            "_view_count": null,
            "_view_module": "@jupyter-widgets/output",
            "_view_module_version": "1.0.0",
            "_view_name": "OutputView",
            "layout": "IPY_MODEL_acdc81aeb79b4118b0e0e872428e4d86",
            "msg_id": "",
            "outputs": [
              {
                "output_type": "display_data",
                "data": {
                  "text/plain": "\u001b[37mEpoch 0/2 \u001b[0m \u001b[38;2;98;6;224m╸\u001b[0m\u001b[38;5;237m━━━━━━━━━━━━━━━━━━━━━━━━━━━━━━━━━\u001b[0m \u001b[37m30/1563\u001b[0m \u001b[38;5;245m0:00:26 • 0:20:39\u001b[0m \u001b[38;5;249m1.24it/s\u001b[0m \u001b[37mv_num: 2.000 train_loss_step:     \u001b[0m\n                                                                                 \u001b[37m0.415                             \u001b[0m\n",
                  "text/html": "<pre style=\"white-space:pre;overflow-x:auto;line-height:normal;font-family:Menlo,'DejaVu Sans Mono',consolas,'Courier New',monospace\"><span style=\"color: #c0c0c0; text-decoration-color: #c0c0c0\">Epoch 0/2 </span> <span style=\"color: #6206e0; text-decoration-color: #6206e0\">╸</span><span style=\"color: #3a3a3a; text-decoration-color: #3a3a3a\">━━━━━━━━━━━━━━━━━━━━━━━━━━━━━━━━━</span> <span style=\"color: #c0c0c0; text-decoration-color: #c0c0c0\">30/1563</span> <span style=\"color: #8a8a8a; text-decoration-color: #8a8a8a\">0:00:26 • 0:20:39</span> <span style=\"color: #b2b2b2; text-decoration-color: #b2b2b2\">1.24it/s</span> <span style=\"color: #c0c0c0; text-decoration-color: #c0c0c0\">v_num: 2.000 train_loss_step:     </span>\n                                                                                 <span style=\"color: #c0c0c0; text-decoration-color: #c0c0c0\">0.415                             </span>\n</pre>\n"
                },
                "metadata": {}
              }
            ]
          }
        },
        "acdc81aeb79b4118b0e0e872428e4d86": {
          "model_module": "@jupyter-widgets/base",
          "model_name": "LayoutModel",
          "model_module_version": "1.2.0",
          "state": {
            "_model_module": "@jupyter-widgets/base",
            "_model_module_version": "1.2.0",
            "_model_name": "LayoutModel",
            "_view_count": null,
            "_view_module": "@jupyter-widgets/base",
            "_view_module_version": "1.2.0",
            "_view_name": "LayoutView",
            "align_content": null,
            "align_items": null,
            "align_self": null,
            "border": null,
            "bottom": null,
            "display": null,
            "flex": null,
            "flex_flow": null,
            "grid_area": null,
            "grid_auto_columns": null,
            "grid_auto_flow": null,
            "grid_auto_rows": null,
            "grid_column": null,
            "grid_gap": null,
            "grid_row": null,
            "grid_template_areas": null,
            "grid_template_columns": null,
            "grid_template_rows": null,
            "height": null,
            "justify_content": null,
            "justify_items": null,
            "left": null,
            "margin": null,
            "max_height": null,
            "max_width": null,
            "min_height": null,
            "min_width": null,
            "object_fit": null,
            "object_position": null,
            "order": null,
            "overflow": null,
            "overflow_x": null,
            "overflow_y": null,
            "padding": null,
            "right": null,
            "top": null,
            "visibility": null,
            "width": null
          }
        }
      }
    }
  },
  "nbformat": 4,
  "nbformat_minor": 0
}